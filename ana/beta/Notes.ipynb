{
 "cells": [
  {
   "cell_type": "markdown",
   "metadata": {},
   "source": [
    "sub-005 | only two runs  \n",
    "sub-035 | only three runs --BAD NIBETA  \n",
    "sub-039 | only three runs  \n",
    "sub-086 | only three runs  \n",
    "sub-023  sub-049  sub-065\n"
   ]
  },
  {
   "cell_type": "code",
   "execution_count": null,
   "metadata": {},
   "outputs": [],
   "source": []
  }
 ],
 "metadata": {
  "kernelspec": {
   "display_name": "Python 3",
   "language": "python",
   "name": "python3"
  },
  "language_info": {
   "codemirror_mode": {
    "name": "ipython",
    "version": 3
   },
   "file_extension": ".py",
   "mimetype": "text/x-python",
   "name": "python",
   "nbconvert_exporter": "python",
   "pygments_lexer": "ipython3",
   "version": "3.6.7"
  }
 },
 "nbformat": 4,
 "nbformat_minor": 2
}
