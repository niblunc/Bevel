{
 "cells": [
  {
   "cell_type": "code",
   "execution_count": null,
   "metadata": {},
   "outputs": [],
   "source": [
    "import pandas as pd\n",
    "import glob, os\n",
    "from shutil import copy2\n",
    "\n",
    "orig_path ='/projects/niblab/bids_projects/Experiments/Bevel/onsets/events_tsvfiles_nibetaseries'\n",
    "der_path ='/projects/niblab/bids_projects/Experiments/Bevel/derivatives'\n",
    "onset_path ='/projects/niblab/bids_projects/Experiments/Bevel/onsets/betaseries_choice'\n",
    "for sub_path in sorted(glob.glob(os.path.join(der_path, \"sub-*\"))):\n",
    "    func_path = os.path.join(sub_path, \"func\")\n",
    "    sub_id = sub_path.split(\"/\")[-1]\n",
    "    sub = sub_id.replace(\"sub-0\", \"bevel\")\n",
    "    #print(sub)\n",
    "    onsets = glob.glob(os.path.join(onset_path, \"{}*\".format(sub)))\n",
    "    for onset in onsets:\n",
    "        filename=onset.split(\"/\")[-1]\n",
    "        print(filename)\n",
    "        newpath=os.path.join(func_path,\"onsets\")\n",
    "        print(\"copying %s ---> %s\"%(onset, newpath))\n",
    "        copy2(onset, newpath)\n",
    "        \n",
    "        \n",
    "        \n",
    "        "
   ]
  }
 ],
 "metadata": {
  "kernelspec": {
   "display_name": "Python 3",
   "language": "python",
   "name": "python3"
  },
  "language_info": {
   "codemirror_mode": {
    "name": "ipython",
    "version": 3
   },
   "file_extension": ".py",
   "mimetype": "text/x-python",
   "name": "python",
   "nbconvert_exporter": "python",
   "pygments_lexer": "ipython3",
   "version": "3.6.9"
  }
 },
 "nbformat": 4,
 "nbformat_minor": 4
}
