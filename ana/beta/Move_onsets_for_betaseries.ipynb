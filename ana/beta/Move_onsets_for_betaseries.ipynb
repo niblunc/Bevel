{
 "cells": [
  {
   "cell_type": "code",
   "execution_count": null,
   "metadata": {},
   "outputs": [],
   "source": [
    "import pandas as pd\n",
    "import glob, os\n",
    "from shutil import copy2\n",
    "\n",
    "orig_path ='/projects/niblab/bids_projects/Experiments/Bevel/onsets/events_tsvfiles_nibetaseries'\n",
    "bids_path ='/projects/niblab/bids_projects/Experiments/Bevel/BIDS'\n",
    "\n",
    "for sub_path in sorted(glob.glob(os.path.join(bids_path, \"sub-*\"))):\n",
    "    func_path = os.path.join(sub_path, \"func\")\n",
    "    sub_id = sub_path.split(\"/\")[-1]\n",
    "    #print(sub_id)\n",
    "    runs = glob.glob(os.path.join(orig_path, \"%s*\"%sub_id))\n",
    "    #print(runs)\n",
    "    for run in runs:\n",
    "        filename=run.split(\"/\")[-1]\n",
    "        print(filename)\n",
    "        newpath=os.path.join(func_path)\n",
    "        print(\"copying %s ---> %s\"%(filename, newpath))\n",
    "        copy2(run, newpath)\n",
    "        \n",
    "        \n",
    "        \n",
    "        "
   ]
  }
 ],
 "metadata": {
  "kernelspec": {
   "display_name": "Python 3",
   "language": "python",
   "name": "python3"
  },
  "language_info": {
   "codemirror_mode": {
    "name": "ipython",
    "version": 3
   },
   "file_extension": ".py",
   "mimetype": "text/x-python",
   "name": "python",
   "nbconvert_exporter": "python",
   "pygments_lexer": "ipython3",
   "version": "3.6.7"
  }
 },
 "nbformat": 4,
 "nbformat_minor": 2
}
