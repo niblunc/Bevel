{
 "cells": [
  {
   "cell_type": "code",
   "execution_count": null,
   "metadata": {},
   "outputs": [],
   "source": [
    "import glob, os "
   ]
  },
  {
   "cell_type": "code",
   "execution_count": null,
   "metadata": {},
   "outputs": [],
   "source": [
    "# run-4s become run-3\n"
   ]
  },
  {
   "cell_type": "code",
   "execution_count": null,
   "metadata": {},
   "outputs": [],
   "source": [
    "# how to get tsvs for run-5\n",
    "# copy tsv 3 to 5\n",
    "data_dir = '/projects/niblab/bids_projects/Experiments/Bevel/BIDS'\n",
    "subs = [x.split('-')[1] ]\n",
    "from shutil import copyfile\n",
    "\n",
    "for sub in subs:\n",
    "    func_path = os.path.join(data_dir, \"{}/func\".format(sub))\n",
    "    run3_file = os.path.join(func_path, 'sub-003_task-prob_run-3_events.tsv')\n",
    "    run5_file = os.path.join(func_path, 'sub-{}_task-prob_run-5_events.tsv'.format(sub))\n",
    "    copyfile(run3_file, run5_file)"
   ]
  }
 ],
 "metadata": {
  "kernelspec": {
   "display_name": "Python 3",
   "language": "python",
   "name": "python3"
  },
  "language_info": {
   "codemirror_mode": {
    "name": "ipython",
    "version": 3
   },
   "file_extension": ".py",
   "mimetype": "text/x-python",
   "name": "python",
   "nbconvert_exporter": "python",
   "pygments_lexer": "ipython3",
   "version": "3.6.7"
  }
 },
 "nbformat": 4,
 "nbformat_minor": 2
}
