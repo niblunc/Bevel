{
 "cells": [
  {
   "cell_type": "code",
   "execution_count": 2,
   "metadata": {},
   "outputs": [],
   "source": [
    "import os  # interact with the filesystem\n",
    "from subprocess import Popen, PIPE, STDOUT  # enable calling commandline\n",
    "import matplotlib.pyplot as plt  # manipulate figures\n",
    "import seaborn as sns  # display results\n",
    "import pandas as pd   # manipulate tabular "
   ]
  },
  {
   "cell_type": "code",
   "execution_count": 5,
   "metadata": {},
   "outputs": [
    {
     "name": "stdout",
     "output_type": "stream",
     "text": [
      "Our working directory: /Users/nikkibytes/Documents/niblunc/testing_beta\n"
     ]
    }
   ],
   "source": [
    "data_dir = '/projects/niblab/bids_projects/Experiments/Bevel/testing_beta'\n",
    "print('Our working directory: {}'.format(data_dir))"
   ]
  },
  {
   "cell_type": "code",
   "execution_count": 6,
   "metadata": {},
   "outputs": [
    {
     "name": "stdout",
     "output_type": "stream",
     "text": [
      "   Unnamed: 0  ID    run     onset  duration img_pair choice  side trial_type  \\\n",
      "0           0   1  run01  108.8459       5.0       EF      F     1     reward   \n",
      "1           1   1  run01  123.8299       5.0       CD      D     2     punish   \n",
      "2           2   1  run01  139.8476       5.0       CD      D     2     punish   \n",
      "3           3   1  run01  153.8315       NaN       CD   Miss  Miss       Miss   \n",
      "4           4   1  run01  166.8329       5.0       AB      A     2     reward   \n",
      "\n",
      "      matched response_time reinforcer_response  \n",
      "0  mismatched      1.569796                 NaN  \n",
      "1     matched      1.601124                 NaN  \n",
      "2     matched      1.600702      explore_punish  \n",
      "3        Miss          Miss       miss_response  \n",
      "4     matched      1.580793                 NaN  \n"
     ]
    }
   ],
   "source": [
    "events_file = '/projects/niblab/bids_projects/Experiments/Bevel/testing_beta/sub-001/func/sub-001_task-prob_run-1_events.tsv'\n",
    "events_df = pd.read_csv(events_file, sep='\\t', na_values=\"n/a\")\n",
    "\n",
    "print(events_df.head())"
   ]
  },
  {
   "cell_type": "code",
   "execution_count": 7,
   "metadata": {},
   "outputs": [
    {
     "name": "stdout",
     "output_type": "stream",
     "text": [
      "   0                   1    2   3    4  5\n",
      "0  1  7Networks_LH_Vis_1  120  18  131  0\n",
      "1  2  7Networks_LH_Vis_2  120  18  132  0\n",
      "2  3  7Networks_LH_Vis_3  120  18  133  0\n",
      "3  4  7Networks_LH_Vis_4  120  18  135  0\n",
      "4  5  7Networks_LH_Vis_5  120  18  136  0\n",
      "   0                   1\n",
      "0  1  7Networks_LH_Vis_1\n",
      "1  2  7Networks_LH_Vis_2\n",
      "2  3  7Networks_LH_Vis_3\n",
      "3  4  7Networks_LH_Vis_4\n",
      "4  5  7Networks_LH_Vis_5\n",
      "   index             regions\n",
      "0      1  7Networks_LH_Vis_1\n",
      "1      2  7Networks_LH_Vis_2\n",
      "2      3  7Networks_LH_Vis_3\n",
      "3      4  7Networks_LH_Vis_4\n",
      "4      5  7Networks_LH_Vis_5\n",
      "   index   regions\n",
      "0      1  LH_Vis_1\n",
      "1      2  LH_Vis_2\n",
      "2      3  LH_Vis_3\n",
      "3      4  LH_Vis_4\n",
      "4      5  LH_Vis_5\n"
     ]
    }
   ],
   "source": [
    "atlas_txt = os.path.join(data_dir,\n",
    "                         \"derivatives\",\n",
    "                         \"data\",\n",
    "                         \"Schaefer2018_100Parcels_7Networks_order.txt\")\n",
    "atlas_df = pd.read_csv(atlas_txt, sep=\"\\t\", header=None)\n",
    "print(atlas_df.head())\n",
    "\n",
    "atlas_df.drop([2, 3, 4, 5], axis='columns', inplace=True)\n",
    "print(atlas_df.head())\n",
    "\n",
    "atlas_df.rename({0: 'index', 1: 'regions'}, axis='columns', inplace=True)\n",
    "print(atlas_df.head())\n",
    "\n",
    "\n",
    "atlas_df.replace(regex={'7Networks_(.*)': '\\\\1'}, inplace=True)\n",
    "print(atlas_df.head())\n",
    "\n",
    "atlas_tsv = atlas_txt.replace(\".txt\", \".tsv\")\n",
    "atlas_df.to_csv(atlas_tsv, sep=\"\\t\", index=False)\n"
   ]
  },
  {
   "cell_type": "code",
   "execution_count": null,
   "metadata": {},
   "outputs": [],
   "source": []
  },
  {
   "cell_type": "code",
   "execution_count": 8,
   "metadata": {},
   "outputs": [
    {
     "name": "stdout",
     "output_type": "stream",
     "text": [
      "The Example Command:\n",
      " nibs -c WhiteMatter CSF -w /Users/nikkibytes/Documents/niblunc/testing_beta/work -a /Users/nikkibytes/Documents/niblunc/testing_beta/derivatives/data/Schaefer2018_100Parcels_7Networks_order_FSLMNI152_2mm.nii.gz -l /Users/nikkibytes/Documents/niblunc/testing_beta/derivatives/data/Schaefer2018_100Parcels_7Networks_order.tsv /Users/nikkibytes/Documents/niblunc/testing_beta fmriprep /Users/nikkibytes/Documents/niblunc/testing_beta/output participant\n",
      "\n",
      "b'190724-17:16:21,756 nipype.workflow INFO:\\n'\n",
      "b\"\\t Workflow nibetaseries_participant_wf settings: ['check', 'execution', 'logging', 'monitoring']\\n\"\n",
      "b'190724-17:16:21,772 nipype.workflow INFO:\\n'\n",
      "b'\\t Running in parallel.\\n'\n",
      "b'/Users/nikkibytes/anaconda3/lib/python3.6/site-packages/h5py/__init__.py:36: FutureWarning: Conversion of the second argument of issubdtype from `float` to `np.floating` is deprecated. In future, it will be treated as `np.float64 == np.dtype(float).type`.\\n'\n",
      "b'  from ._conv import register_converters as _register_converters\\n'\n",
      "b\"/Users/nikkibytes/anaconda3/lib/python3.6/site-packages/bids/grabbids/bids_layout.py:116: UserWarning: 'dataset_description.json' file is missing from project root. You may want to set the root path to a valid BIDS project.\\n\"\n",
      "b'  warnings.warn(\"\\'dataset_description.json\\' file is missing from \"\\n'\n",
      "b\"/Users/nikkibytes/anaconda3/lib/python3.6/site-packages/grabbit/core.py:449: UserWarning: Domain with name 'bids' already exists; returning existing Domain configuration.\\n\"\n",
      "b'  warnings.warn(msg)\\n'\n",
      "b'/Users/nikkibytes/anaconda3/lib/python3.6/site-packages/IPython/lib/pretty.py:91: DeprecationWarning: IPython.utils.signatures backport for Python 2 is deprecated in IPython 6, which only supports Python 3\\n'\n",
      "b'  from IPython.utils.signatures import signature\\n'\n",
      "b'/Users/nikkibytes/anaconda3/lib/python3.6/subprocess.py:766: ResourceWarning: subprocess 25677 is still running\\n'\n",
      "b'  ResourceWarning, source=self)\\n'\n",
      "b\"/Users/nikkibytes/anaconda3/lib/python3.6/site-packages/nipype/utils/profiler.py:181: ResourceWarning: unclosed file <_io.TextIOWrapper name=6 encoding='UTF-8'>\\n\"\n",
      "b\"  mem_str = os.popen('sysctl hw.memsize').read().strip().split(' ')[-1]\\n\"\n",
      "b'Traceback (most recent call last):\\n'\n",
      "b'  File \"/Users/nikkibytes/anaconda3/lib/python3.6/site-packages/nipype/pipeline/plugins/base.py\", line 397, in _generate_dependency_list\\n'\n",
      "b\"    graph, nodelist=self.procs, format='lil')\\n\"\n",
      "b'  File \"/Users/nikkibytes/anaconda3/lib/python3.6/site-packages/networkx/convert_matrix.py\", line 764, in to_scipy_sparse_matrix\\n'\n",
      "b'    raise nx.NetworkXError(\"Graph has no nodes or edges\")\\n'\n",
      "b'networkx.exception.NetworkXError: Graph has no nodes or edges\\n'\n",
      "b'\\n'\n",
      "b'During handling of the above exception, another exception occurred:\\n'\n",
      "b'\\n'\n",
      "b'Traceback (most recent call last):\\n'\n",
      "b'  File \"/Users/nikkibytes/anaconda3/bin/nibs\", line 10, in <module>\\n'\n",
      "b'    sys.exit(main())\\n'\n",
      "b'  File \"/Users/nikkibytes/anaconda3/lib/python3.6/site-packages/nibetaseries/cli/run.py\", line 213, in main\\n'\n",
      "b'    nibetaseries_participant_wf.run(**plugin_settings)\\n'\n",
      "b'  File \"/Users/nikkibytes/anaconda3/lib/python3.6/site-packages/nipype/pipeline/engine/workflows.py\", line 595, in run\\n'\n",
      "b'    runner.run(execgraph, updatehash=updatehash, config=self.config)\\n'\n",
      "b'  File \"/Users/nikkibytes/anaconda3/lib/python3.6/site-packages/nipype/pipeline/plugins/base.py\", line 123, in run\\n'\n",
      "b'    self._generate_dependency_list(graph)\\n'\n",
      "b'  File \"/Users/nikkibytes/anaconda3/lib/python3.6/site-packages/nipype/pipeline/plugins/base.py\", line 399, in _generate_dependency_list\\n'\n",
      "b'    self.depidx = nx.to_scipy_sparse_matrix(graph, nodelist=self.procs)\\n'\n",
      "b'  File \"/Users/nikkibytes/anaconda3/lib/python3.6/site-packages/networkx/convert_matrix.py\", line 764, in to_scipy_sparse_matrix\\n'\n",
      "b'    raise nx.NetworkXError(\"Graph has no nodes or edges\")\\n'\n",
      "b'networkx.exception.NetworkXError: Graph has no nodes or edges\\n'\n"
     ]
    }
   ],
   "source": [
    "out_dir = os.path.join(data_dir, \"output\")\n",
    "work_dir = os.path.join(data_dir, \"work\")\n",
    "atlas_mni_file = os.path.join(data_dir,\n",
    "                              \"derivatives\",\n",
    "                              \"data\",\n",
    "                              \"Schaefer2018_100Parcels_7Networks_order_FSLMNI152_2mm.nii.gz\")\n",
    "cmd = \"\"\"\\\n",
    "nibs -c WhiteMatter CSF \\\n",
    "-sp MNI152NLin2009cAsym \\\n",
    "-w {work_dir} \\\n",
    "-a {atlas_mni_file} \\\n",
    "-l {atlas_tsv} \\\n",
    "{bids_dir} \\\n",
    "fmriprep \\\n",
    "{out_dir} \\\n",
    "participant \n",
    "\"\"\".format(atlas_mni_file=atlas_mni_file,\n",
    "           atlas_tsv=atlas_tsv,\n",
    "           bids_dir=os.path.join(data_dir),\n",
    "           out_dir=out_dir,\n",
    "           work_dir=work_dir)\n",
    "\n",
    "# Since we cannot run bash commands inside this tutorial\n",
    "# we are printing the actual bash command so you can see it\n",
    "# in the output\n",
    "print(\"The Example Command:\\n\", cmd)\n",
    "\n",
    "# call nibs\n",
    "p = Popen(cmd, shell=True, stdout=PIPE, stderr=STDOUT)\n",
    "\n",
    "while True:\n",
    "    line = p.stdout.readline()\n",
    "    if not line:\n",
    "        break\n",
    "    print(line)"
   ]
  },
  {
   "cell_type": "code",
   "execution_count": null,
   "metadata": {},
   "outputs": [],
   "source": [
    "corr_mat_path = os.path.join(out_dir, \"NiBetaSeries\", \"nibetaseries\", \"sub-001\", \"func\")\n",
    "trial_types = ['punish','reward']\n",
    "filename_template = \"sub-001_task-prob_run-1_bold_space-MNI152NLin2009cAsym_preproc_trialtype-{trial_type}_matrix.tsv\"\n",
    "pd_dict = {}\n",
    "for trial_type in trial_types:\n",
    "    file_path = os.path.join(corr_mat_path, filename_template.format(trial_type=trial_type))\n",
    "    pd_dict[trial_type] = pd.read_csv(file_path, sep='\\t', na_values=\"n/a\", index_col=0)\n",
    "# display example matrix\n",
    "print(pd_dict[trial_type].head())"
   ]
  },
  {
   "cell_type": "code",
   "execution_count": null,
   "metadata": {},
   "outputs": [],
   "source": [
    "fig, axes = plt.subplots(nrows=3, ncols=1, sharex=True, sharey=True, figsize=(10, 30),\n",
    "                         gridspec_kw={'wspace': 0.025, 'hspace': 0.075})\n",
    "\n",
    "cbar_ax = fig.add_axes([.91, .3, .03, .4])\n",
    "r = 0\n",
    "for trial_type, df in pd_dict.items():\n",
    "    g = sns.heatmap(df, ax=axes[r], vmin=-.5, vmax=1., square=True,\n",
    "                    cbar=True, cbar_ax=cbar_ax)\n",
    "    axes[r].set_title(trial_type)\n",
    "    # iterate over rows\n",
    "    r += 1\n",
    "plt.tight_layout()"
   ]
  },
  {
   "cell_type": "code",
   "execution_count": null,
   "metadata": {},
   "outputs": [],
   "source": []
  }
 ],
 "metadata": {
  "kernelspec": {
   "display_name": "Python 3",
   "language": "python",
   "name": "python3"
  },
  "language_info": {
   "codemirror_mode": {
    "name": "ipython",
    "version": 3
   },
   "file_extension": ".py",
   "mimetype": "text/x-python",
   "name": "python",
   "nbconvert_exporter": "python",
   "pygments_lexer": "ipython3",
   "version": "3.6.7"
  }
 },
 "nbformat": 4,
 "nbformat_minor": 2
}
