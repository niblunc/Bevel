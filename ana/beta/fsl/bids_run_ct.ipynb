{
 "cells": [
  {
   "cell_type": "code",
   "execution_count": null,
   "metadata": {},
   "outputs": [],
   "source": [
    "import pandas\n",
    "import glob, os\n",
    "\n",
    "\n",
    "BIDS_PATH = \"/projects/niblab/bids_projects/Experiments/Bevel/remake_space/test\"\n",
    "\n",
    "SUBJECTS=sorted(glob.glob(BIDS_PATH+\"/sub-*\"))\n",
    "\n",
    "\n",
    "data_dict = {}\n",
    "for path in SUBJECTS:\n",
    "    sub_id = path.split(\"/\")[-1]\n",
    "    run_ct = 0\n",
    "    if sub_id not in data_dict:\n",
    "        data_dict[sub_id] = {}\n",
    "    runs=[x.split(\"/\")[-1].split(\"_\")[2] for x in glob.glob(os.path.join(path, \"func/*run-*.nii.gz\"))]\n",
    "    #print(runs)\n",
    "    if \"run-1\" in runs:\n",
    "        data_dict[sub_id][\"run-1\"] = 1\n",
    "        run_ct += 1\n",
    "    else:\n",
    "        data_dict[sub_id][\"run-1\"] = 0\n",
    "    if \"run-2\" in runs:\n",
    "        data_dict[sub_id][\"run-2\"] = 1\n",
    "        run_ct += 1\n",
    "    else:\n",
    "        data_dict[sub_id][\"run-2\"] = 0\n",
    "    if \"run-3\" in runs:\n",
    "        data_dict[sub_id][\"run-3\"] = 1\n",
    "        run_ct += 1\n",
    "    else:\n",
    "        data_dict[sub_id][\"run-3\"] = 0\n",
    "    if \"run-4\" in runs:\n",
    "        data_dict[sub_id][\"run-4\"] = 1\n",
    "        run_ct += 1\n",
    "    else:\n",
    "        data_dict[sub_id][\"run-4\"] = 0\n",
    "    data_dict[sub_id][\"EXPECTED RUN COUNT\"] = run_ct\n",
    "        \n",
    "df = pd.DataFrame(data_dict).T\n",
    "\n",
    "df.to_csv(\"expected_runs.csv\", sep=\"\\t\")"
   ]
  },
  {
   "cell_type": "code",
   "execution_count": null,
   "metadata": {},
   "outputs": [],
   "source": []
  }
 ],
 "metadata": {
  "kernelspec": {
   "display_name": "Python 3",
   "language": "python",
   "name": "python3"
  },
  "language_info": {
   "codemirror_mode": {
    "name": "ipython",
    "version": 3
   },
   "file_extension": ".py",
   "mimetype": "text/x-python",
   "name": "python",
   "nbconvert_exporter": "python",
   "pygments_lexer": "ipython3",
   "version": "3.6.7"
  }
 },
 "nbformat": 4,
 "nbformat_minor": 2
}
