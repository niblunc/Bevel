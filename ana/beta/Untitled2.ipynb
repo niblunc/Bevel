{
 "cells": [
  {
   "cell_type": "markdown",
   "metadata": {},
   "source": [
    "# Testing Space"
   ]
  },
  {
   "cell_type": "markdown",
   "metadata": {},
   "source": [
    "## BIDS Validation"
   ]
  },
  {
   "cell_type": "markdown",
   "metadata": {},
   "source": [
    "`Singularity> bids-validator --help\n",
    "Usage: bids-validator <dataset_directory> [options]\n",
    "\n",
    "Options:\n",
    "  --help, -h            Show help                                      [boolean]\n",
    "  --version, -v         Show version number                            [boolean]\n",
    "  --ignoreWarnings      Disregard non-critical issues                  [boolean]\n",
    "  --ignoreNiftiHeaders  Disregard NIfTI header content during validation\n",
    "                                                                       [boolean]\n",
    "  --verbose             Log more extensive information about issues    [boolean]\n",
    "  --json                Output results as JSON                         [boolean]\n",
    "  --config, -c          Optional configuration file. See\n",
    "                        https://github.com/bids-standard/bids-validator for more\n",
    "                        info\n",
    "\n",
    "This tool checks if a dataset in a given directory is compatible with the Brain\n",
    "Imaging Data Structure specification. \n",
    "`\n",
    "\n",
    "To learn more about Brain Imaging Data\n",
    "Structure visit http://bids.neuroimaging.io"
   ]
  },
  {
   "cell_type": "code",
   "execution_count": null,
   "metadata": {},
   "outputs": [],
   "source": [
    "import os  # interact with the filesystem\n",
    "from subprocess import Popen, PIPE, STDOUT  # enable calling commandline\n",
    "import matplotlib.pyplot as plt  # manipulate figures\n",
    "import seaborn as sns  # display results\n",
    "import pandas as pd   # manipulate tabular \n",
    "import warnings\n",
    "import time\n",
    "warnings.filterwarnings(\"ignore\", category=DeprecationWarning) \n",
    "warnings.filterwarnings(\"ignore\", category=UserWarning) \n",
    "warnings.filterwarnings(\"ignore\", category=ResourceWarning) \n",
    "\n",
    "data_dir = '/projects/niblab/bids_projects/Experiments/Bevel/BIDS' #RENCI PATH\n",
    "#data_dir = '/Users/nikkibytes/Documents/niblunc/testing_beta' #LOCAL PATH\n",
    "print('Our working directory: {}'.format(data_dir))\n",
    "\n",
    "out_dir = os.path.join(data_dir, \"derivatives/testing-space\")\n",
    "work_dir = os.path.join(data_dir, \"tst_wf\")\n",
    "atlas_mni_file = os.path.join(data_dir, \"derivatives\", \"parcellations\", \"WashU_300rois_MNI152Asymm_3mm_origOrder.nii\") #WashU_300rois_MNI152Asymm_3mm_origOrder.nii\n",
    "atlas_tsv = os.path.join(data_dir, \"derivatives\", \"parcellations\", \"WashU_300rois_order_new.tsv\")\n",
    "\n",
    "\n",
    "\n",
    "subs=['sub-001']\n",
    "subs = [x.split(\"-\")[1] for x in subs]\n",
    "\n",
    "for sub in subs:\n",
    "    cmd = \"\"\"\\\n",
    "    nibs {bids_dir} fmriprep \\\n",
    "    {out_dir} participant --participant_label {sub} \\\n",
    "    -sm 6 --run_label 1 \\\n",
    "    -c CSF FramewiseDisplacement X Y Z RotX RotY RotZ \\\n",
    "    -sp MNI152NLin2009cAsym -w {work_dir} -a {atlas_mni_file} \\\n",
    "    -l {atlas_tsv} --nthreads 10\"\"\".format(atlas_mni_file=atlas_mni_file,\n",
    "           atlas_tsv=atlas_tsv, sub=sub,\n",
    "           bids_dir=os.path.join(data_dir),\n",
    "           out_dir=out_dir,work_dir=work_dir)\n",
    "\n",
    "    print(\"COMMAND: \\n{}\".format(cmd))\n",
    "    p = Popen(cmd, shell=True, stdout=PIPE, stderr=STDOUT)\n",
    "\n",
    "    while True:\n",
    "        line = p.stdout.readline()\n",
    "        if not line:\n",
    "            break\n",
    "        print(line)\n",
    "    "
   ]
  }
 ],
 "metadata": {
  "kernelspec": {
   "display_name": "Python 3",
   "language": "python",
   "name": "python3"
  },
  "language_info": {
   "codemirror_mode": {
    "name": "ipython",
    "version": 3
   },
   "file_extension": ".py",
   "mimetype": "text/x-python",
   "name": "python",
   "nbconvert_exporter": "python",
   "pygments_lexer": "ipython3",
   "version": "3.6.7"
  }
 },
 "nbformat": 4,
 "nbformat_minor": 2
}
