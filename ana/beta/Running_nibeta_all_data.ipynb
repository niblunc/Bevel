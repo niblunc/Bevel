{
 "cells": [
  {
   "cell_type": "markdown",
   "metadata": {},
   "source": [
    "# Run 'nibetaseries' package on all subjects"
   ]
  },
  {
   "cell_type": "code",
   "execution_count": 1,
   "metadata": {},
   "outputs": [],
   "source": [
    "import os  # interact with the filesystem\n",
    "from subprocess import Popen, PIPE, STDOUT  # enable calling commandline\n",
    "import matplotlib.pyplot as plt  # manipulate figures\n",
    "import seaborn as sns  # display results\n",
    "import pandas as pd   # manipulate tabular \n",
    "import warnings\n",
    "import time\n",
    "warnings.filterwarnings(\"ignore\", category=DeprecationWarning) \n",
    "warnings.filterwarnings(\"ignore\", category=UserWarning) \n",
    "warnings.filterwarnings(\"ignore\", category=ResourceWarning) "
   ]
  },
  {
   "cell_type": "markdown",
   "metadata": {},
   "source": [
    "## I. Data directory set up"
   ]
  },
  {
   "cell_type": "markdown",
   "metadata": {},
   "source": [
    "## II. TSV files set up   \n",
    "Origianl Betaseries Events file: `sub-001_run01_task-pst_events.tsv`  \n",
    "BIDS events file: `sub-001_task-prob_run-1_events.tsv`\n",
    "\n",
    "#### Go to setup_tsvs.py to see example code "
   ]
  },
  {
   "cell_type": "code",
   "execution_count": null,
   "metadata": {},
   "outputs": [],
   "source": [
    "data_dir = '/projects/niblab/bids_projects/Experiments/Bevel/BIDS' #RENCI PATH\n",
    "#data_dir = '/Users/nikkibytes/Documents/niblunc/testing_beta' #LOCAL PATH\n",
    "print('Our working directory: {}'.format(data_dir))"
   ]
  },
  {
   "cell_type": "code",
   "execution_count": null,
   "metadata": {},
   "outputs": [],
   "source": [
    "atlas_txt = os.path.join(data_dir, 'derivatives', 'parcellations','WashU_300rois_order_new.txt')\n",
    "atlas_df = pd.read_csv(atlas_txt, sep=\"\\t\")\n",
    "atlas_df.head()\n",
    "\n",
    "atlas_df.drop(['network', 'x_coord', 'y_coord', 'z_coord'], axis='columns', inplace=True)\n",
    "atlas_df.tail()\n",
    "\n",
    "atlas_df = atlas_df.append({'index' : '300', 'regions' : 'pHippocampusL'}, ignore_index=True)\n",
    "atlas_df.tail()\n",
    "atlas_tsv = atlas_txt.replace(\".txt\", \".tsv\")\n",
    "atlas_df.to_csv(atlas_tsv, sep=\"\\t\", index=False)"
   ]
  },
  {
   "cell_type": "code",
   "execution_count": null,
   "metadata": {},
   "outputs": [],
   "source": [
    "out_dir = os.path.join(data_dir, \"derivatives\")\n",
    "work_dir = os.path.join(out_dir, \"work_dir\")\n",
    "atlas_mni_file = os.path.join(data_dir,\n",
    "                              \"derivatives\",\n",
    "                              \"parcellations\",\n",
    "                              \"WashU_300rois_MNI152_3mm_origOrder.nii\")\n",
    "print('Our output directory: {}'.format(out_dir))\n",
    "print('Our working output directory: {}'.format(work_dir))"
   ]
  },
  {
   "cell_type": "code",
   "execution_count": null,
   "metadata": {},
   "outputs": [],
   "source": [
    "# Run parallel\n",
    "# \n",
    "cmd = \"\"\"\\\n",
    "nibs \\\n",
    "{bids_dir} \\\n",
    "fmriprep \\\n",
    "{out_dir} \\\n",
    "participant \\\n",
    "--participant_label 001 \\\n",
    "-sm 6 \\\n",
    "--run_label 1 \\\n",
    "-c CSF FramewiseDisplacement X Y Z RotX RotY RotZ \\\n",
    "-sp MNI152NLin2009cAsym \\\n",
    "-w {work_dir} \\\n",
    "-a {atlas_mni_file} \\\n",
    "-l {atlas_tsv} \\\n",
    "--nthreads 16\n",
    "\"\"\".format(atlas_mni_file=atlas_mni_file,\n",
    "           atlas_tsv=atlas_tsv,\n",
    "           bids_dir=os.path.join(data_dir),\n",
    "           out_dir=out_dir,\n",
    "           work_dir=work_dir)\n",
    "\n",
    "\n",
    "\n",
    "\n",
    "\n",
    "# Since we cannot run bash commands inside this tutorial\n",
    "# we are printing the actual bash command so you can see it\n",
    "# in the output\n",
    "print(\"The Example Command:\\n\", cmd)\n",
    "\n"
   ]
  },
  {
   "cell_type": "code",
   "execution_count": null,
   "metadata": {},
   "outputs": [],
   "source": [
    "# call nibs\n",
    "\n",
    "p = Popen(cmd, shell=True, stdout=PIPE, stderr=STDOUT)\n",
    "\n",
    "while True:\n",
    "    line = p.stdout.readline()\n",
    "    if not line:\n",
    "        break\n",
    "    print(line)\n",
    "    \n",
    "    "
   ]
  },
  {
   "cell_type": "code",
   "execution_count": null,
   "metadata": {},
   "outputs": [],
   "source": [
    "corr_mat_path = os.path.join(out_dir, \"NiBetaSeries\", \"nibetaseries\", \"sub-001\", \"func\")\n",
    "trial_types = ['punish','reward']\n",
    "filename_template = \"sub-001_task-prob_run-1_bold_space-MNI152NLin2009cAsym_preproc_trialtype-{trial_type}_matrix.tsv\"\n",
    "pd_dict = {}\n",
    "\n",
    "for trial_type in trial_types:\n",
    "    file_path = os.path.join(corr_mat_path, filename_template.format(trial_type=trial_type))\n",
    "    print(file_path)\n",
    "    pd_dict[trial_type] = pd.read_csv(file_path, sep='\\t', na_values=\"n/a\", index_col=0)\n",
    "# display example matrix\n",
    "    print(pd_dict[trial_type].head())"
   ]
  }
 ],
 "metadata": {
  "kernelspec": {
   "display_name": "Python 3",
   "language": "python",
   "name": "python3"
  },
  "language_info": {
   "codemirror_mode": {
    "name": "ipython",
    "version": 3
   },
   "file_extension": ".py",
   "mimetype": "text/x-python",
   "name": "python",
   "nbconvert_exporter": "python",
   "pygments_lexer": "ipython3",
   "version": "3.6.7"
  }
 },
 "nbformat": 4,
 "nbformat_minor": 2
}
