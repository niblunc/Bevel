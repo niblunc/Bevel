{
 "cells": [
  {
   "cell_type": "code",
   "execution_count": 1,
   "metadata": {},
   "outputs": [],
   "source": [
    "import os, glob\n",
    "import pandas as pd"
   ]
  },
  {
   "cell_type": "code",
   "execution_count": 1,
   "metadata": {},
   "outputs": [],
   "source": [
    "dir_base = \"/projects/niblab/bids_projects/Experiments/Bevel/BIDS/derivatives/NiBetaSeries/nibetaseries\"\n",
    "\n",
    "sub_dirs = glob.glob(os.path.join(dir_base, 'sub-*'))\n",
    "\n",
    "for sub_dir in sub_dirs:\n",
    "    tsvs = glob.glob(os.path.join(sub_dir, 'func', '*.tsv'))\n",
    "    for tsv in tsvs:\n",
    "        df = pd.read_csv(tsv, sep='\\t')\n",
    "        print(df.max())\n"
   ]
  },
  {
   "cell_type": "code",
   "execution_count": 15,
   "metadata": {},
   "outputs": [
    {
     "name": "stdout",
     "output_type": "stream",
     "text": [
      "\n",
      "FILENAME: \n",
      "sub-001_task-prob_run-1_bold_space-MNI152NLin2009cAsym_preproc_trialtype-punish_matrix.tsv\n",
      "\n",
      "MAX VALUE FOUND:  1.1017399040938587\n",
      "MIN VALUE FOUND:  -0.2493203929867427\n",
      "\n",
      "FILENAME: \n",
      "sub-001_task-prob_run-1_bold_space-MNI152NLin2009cAsym_preproc_trialtype-reward_matrix.tsv\n",
      "\n",
      "MAX VALUE FOUND:  inf\n",
      "MIN VALUE FOUND:  -18.714973875118524\n",
      "\n",
      "FILENAME: \n",
      "sub-001_task-prob_run-2_bold_space-MNI152NLin2009cAsym_preproc_trialtype-punish_matrix.tsv\n",
      "\n",
      "MAX VALUE FOUND:  inf\n",
      "MIN VALUE FOUND:  -inf\n",
      "\n",
      "FILENAME: \n",
      "sub-001_task-prob_run-2_bold_space-MNI152NLin2009cAsym_preproc_trialtype-reward_matrix.tsv\n",
      "\n",
      "MAX VALUE FOUND:  inf\n",
      "MIN VALUE FOUND:  -inf\n",
      "\n",
      "FILENAME: \n",
      "sub-001_task-prob_run-3_bold_space-MNI152NLin2009cAsym_preproc_trialtype-punish_matrix.tsv\n",
      "\n",
      "MAX VALUE FOUND:  11.847135377550346\n",
      "MIN VALUE FOUND:  -13.438214654106238\n",
      "\n",
      "FILENAME: \n",
      "sub-001_task-prob_run-3_bold_space-MNI152NLin2009cAsym_preproc_trialtype-reward_matrix.tsv\n",
      "\n",
      "MAX VALUE FOUND:  inf\n",
      "MIN VALUE FOUND:  -inf\n",
      "\n",
      "FILENAME: \n",
      "sub-001_task-prob_run-4_bold_space-MNI152NLin2009cAsym_preproc_trialtype-punish_matrix.tsv\n",
      "\n",
      "MAX VALUE FOUND:  13.929848835905705\n",
      "MIN VALUE FOUND:  -12.894992215044933\n",
      "\n",
      "FILENAME: \n",
      "sub-001_task-prob_run-4_bold_space-MNI152NLin2009cAsym_preproc_trialtype-reward_matrix.tsv\n",
      "\n",
      "MAX VALUE FOUND:  inf\n",
      "MIN VALUE FOUND:  -inf\n"
     ]
    }
   ],
   "source": [
    "tsvs=glob.glob(\"sub-001/func/*.tsv\")\n",
    "for tsv in sorted(tsvs):\n",
    "    print(\"\\nFILENAME: \\n{}\\n\".format(tsv.split(\"/\")[-1]))\n",
    "    df = pd.read_csv(tsv, sep=\"\\t\")\n",
    "    print(\"MAX VALUE FOUND: \",df[\"vmPFC_R\"].max())\n",
    "    print(\"MIN VALUE FOUND: \",df[\"vmPFC_R\"].min())"
   ]
  },
  {
   "cell_type": "code",
   "execution_count": null,
   "metadata": {},
   "outputs": [],
   "source": []
  }
 ],
 "metadata": {
  "kernelspec": {
   "display_name": "Python 3",
   "language": "python",
   "name": "python3"
  },
  "language_info": {
   "codemirror_mode": {
    "name": "ipython",
    "version": 3
   },
   "file_extension": ".py",
   "mimetype": "text/x-python",
   "name": "python",
   "nbconvert_exporter": "python",
   "pygments_lexer": "ipython3",
   "version": "3.6.7"
  }
 },
 "nbformat": 4,
 "nbformat_minor": 2
}
