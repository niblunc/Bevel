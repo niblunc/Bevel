{
 "cells": [
  {
   "cell_type": "code",
   "execution_count": null,
   "metadata": {},
   "outputs": [],
   "source": [
    "import glob, os "
   ]
  },
  {
   "cell_type": "code",
   "execution_count": null,
   "metadata": {},
   "outputs": [],
   "source": [
    "# run-4s become run-3\n"
   ]
  },
  {
   "cell_type": "code",
   "execution_count": null,
   "metadata": {},
   "outputs": [],
   "source": [
    "# how to get tsvs for run-5\n",
    "# copy tsv 3 to 5\n",
    "data_dir = '/projects/niblab/bids_projects/Experiments/Bevel/BIDS'\n",
    "subs = ['sub-005', 'sub-012', 'sub-013', 'sub-014', 'sub-018', 'sub-022',\n",
    "        'sub-025', 'sub-031', 'sub-032', 'sub-034', 'sub-035', \n",
    "        'sub-037', 'sub-038', 'sub-039', 'sub-042', 'sub-043', \n",
    "        'sub-044', 'sub-045', 'sub-046', 'sub-048', 'sub-050', \n",
    "        'sub-056', 'sub-058', 'sub-061', 'sub-062', 'sub-063', \n",
    "        'sub-064', 'sub-065', 'sub-066', 'sub-067', 'sub-068', \n",
    "        'sub-069', 'sub-070', 'sub-071', 'sub-072', 'sub-073', \n",
    "        'sub-075', 'sub-076', 'sub-077', 'sub-079', 'sub-080', \n",
    "        'sub-082', 'sub-083', 'sub-084', 'sub-085', 'sub-086', \n",
    "        'sub-089', 'sub-090']\n",
    "\n",
    "subs = [x.split('-')[1] for x in subs]\n",
    "from shutil import copyfile\n",
    "import pandas as pd\n",
    "\n",
    "for sub in subs:\n",
    "    func_path = os.path.join(data_dir, \"sub-{}/func\".format(sub))\n",
    "    run3_file = os.path.join(func_path, 'sub-{}_task-prob_run-3_events.tsv'.format(sub))\n",
    "    run5_file = os.path.join(func_path, 'sub-{}_task-prob_run-5_events.tsv'.format(sub))\n",
    "    if os.path.exists(run5_file):\n",
    "        print(run5_file)\n",
    "        df = pd.read_csv(run3_file, sep='\\t')\n",
    "        print(df.tail())\n",
    "        \n",
    "    #copyfile(run3_file, run5_file)\n",
    "    \n",
    "    \n",
    "    "
   ]
  }
 ],
 "metadata": {
  "kernelspec": {
   "display_name": "Python 3",
   "language": "python",
   "name": "python3"
  },
  "language_info": {
   "codemirror_mode": {
    "name": "ipython",
    "version": 3
   },
   "file_extension": ".py",
   "mimetype": "text/x-python",
   "name": "python",
   "nbconvert_exporter": "python",
   "pygments_lexer": "ipython3",
   "version": "3.6.7"
  }
 },
 "nbformat": 4,
 "nbformat_minor": 2
}
