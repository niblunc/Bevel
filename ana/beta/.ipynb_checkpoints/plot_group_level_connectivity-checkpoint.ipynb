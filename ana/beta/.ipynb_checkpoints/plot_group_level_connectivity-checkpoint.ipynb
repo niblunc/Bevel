{
 "cells": [
  {
   "cell_type": "code",
   "execution_count": 1,
   "metadata": {
    "collapsed": false,
    "jupyter": {
     "outputs_hidden": false
    }
   },
   "outputs": [],
   "source": [
    "%matplotlib inline"
   ]
  },
  {
   "cell_type": "markdown",
   "metadata": {},
   "source": [
    "\n",
    "Functional connectivity matrices for group analysis of connectomes\n",
    "==================================================================\n",
    "\n",
    "This example compares different kinds of functional connectivity between\n",
    "regions of interest : correlation, partial correlation, as well as a kind\n",
    "called **tangent**. The resulting connectivity coefficients are used to\n",
    "discriminate ADHD patients from healthy controls and the **tangent kind**\n",
    "**outperforms** the standard connectivity kinds.\n",
    "\n"
   ]
  },
  {
   "cell_type": "code",
   "execution_count": 2,
   "metadata": {
    "collapsed": false,
    "jupyter": {
     "outputs_hidden": false
    }
   },
   "outputs": [],
   "source": [
    "# Matrix plotting from Nilearn: nilearn.plotting.plot_matrix\n",
    "import numpy as np\n",
    "import matplotlib.pylab as plt\n",
    "\n",
    "\n",
    "def plot_matrices(matrices, matrix_kind):\n",
    "    n_matrices = len(matrices)\n",
    "    fig = plt.figure(figsize=(n_matrices * 4, 4))\n",
    "    for n_subject, matrix in enumerate(matrices):\n",
    "        plt.subplot(1, n_matrices, n_subject + 1)\n",
    "        matrix = matrix.copy()  # avoid side effects\n",
    "        # Set diagonal to zero, for better visualization\n",
    "        np.fill_diagonal(matrix, 0)\n",
    "        vmax = np.max(np.abs(matrix))\n",
    "        title = '{0}, subject {1}'.format(matrix_kind, n_subject)\n",
    "        plotting.plot_matrix(matrix, vmin=-vmax, vmax=vmax, cmap='RdBu_r',\n",
    "                             title=title, figure=fig, colorbar=False)"
   ]
  },
  {
   "cell_type": "markdown",
   "metadata": {},
   "source": [
    "Load ADHD dataset and MSDL atlas\n",
    "--------------------------------\n",
    "We study only 20 subjects from the ADHD dataset, to save computation time.\n",
    "\n"
   ]
  },
  {
   "cell_type": "code",
   "execution_count": 3,
   "metadata": {
    "collapsed": false,
    "jupyter": {
     "outputs_hidden": false
    }
   },
   "outputs": [
    {
     "name": "stderr",
     "output_type": "stream",
     "text": [
      "/Users/nikkibytes/anaconda3/lib/python3.6/site-packages/sklearn/externals/joblib/__init__.py:15: DeprecationWarning: sklearn.externals.joblib is deprecated in 0.21 and will be removed in 0.23. Please import this functionality directly from joblib, which can be installed with: pip install joblib. If this warning is raised when loading pickled models, you may need to re-serialize those models with scikit-learn 0.21+.\n",
      "  warnings.warn(msg, category=DeprecationWarning)\n"
     ]
    },
    {
     "name": "stdout",
     "output_type": "stream",
     "text": [
      "\n",
      "Dataset created in /Users/nikkibytes/nilearn_data/adhd\n",
      "\n",
      "Downloading data from https://www.nitrc.org/frs/download.php/7781/adhd40_metadata.tgz ...\n"
     ]
    },
    {
     "name": "stderr",
     "output_type": "stream",
     "text": [
      "Downloaded 3072 of 3072 bytes (100.0%,    0.0s remaining) ...done. (1 seconds, 0 min)\n",
      "Extracting data from /Users/nikkibytes/nilearn_data/adhd/74a52d3552145e11365bb68453d1a70c/adhd40_metadata.tgz..... done.\n",
      "/Users/nikkibytes/anaconda3/lib/python3.6/site-packages/nilearn/datasets/func.py:502: VisibleDeprecationWarning: Reading unicode strings without specifying the encoding argument is deprecated. Set the encoding, use None for the system default.\n",
      "  dtype=None)\n"
     ]
    },
    {
     "name": "stdout",
     "output_type": "stream",
     "text": [
      "Downloading data from https://www.nitrc.org/frs/download.php/7782/adhd40_0010042.tgz ...\n"
     ]
    },
    {
     "name": "stderr",
     "output_type": "stream",
     "text": [
      "Downloaded 44414948 of 44414948 bytes (100.0%,    0.0s remaining) ...done. (6 seconds, 0 min)\n",
      "Extracting data from /Users/nikkibytes/nilearn_data/adhd/51ca93ac61e627213eb5a3bb40abfcc0/adhd40_0010042.tgz..... done.\n"
     ]
    },
    {
     "name": "stdout",
     "output_type": "stream",
     "text": [
      "Downloading data from https://www.nitrc.org/frs/download.php/7783/adhd40_0010064.tgz ...\n"
     ]
    },
    {
     "name": "stderr",
     "output_type": "stream",
     "text": [
      "Downloaded 45583539 of 45583539 bytes (100.0%,    0.0s remaining) ...done. (8 seconds, 0 min)\n",
      "Extracting data from /Users/nikkibytes/nilearn_data/adhd/51ca93ac61e627213eb5a3bb40abfcc0/adhd40_0010064.tgz..... done.\n"
     ]
    },
    {
     "name": "stdout",
     "output_type": "stream",
     "text": [
      "Downloading data from https://www.nitrc.org/frs/download.php/7784/adhd40_0010128.tgz ...\n"
     ]
    },
    {
     "name": "stderr",
     "output_type": "stream",
     "text": [
      "Downloaded 45461055 of 45461055 bytes (100.0%,    0.0s remaining) ...done. (8 seconds, 0 min)\n",
      "Extracting data from /Users/nikkibytes/nilearn_data/adhd/51ca93ac61e627213eb5a3bb40abfcc0/adhd40_0010128.tgz..... done.\n"
     ]
    },
    {
     "name": "stdout",
     "output_type": "stream",
     "text": [
      "Downloading data from https://www.nitrc.org/frs/download.php/7785/adhd40_0021019.tgz ...\n"
     ]
    },
    {
     "name": "stderr",
     "output_type": "stream",
     "text": [
      "Downloaded 46216320 of 46216320 bytes (100.0%,    0.0s remaining) ...done. (7 seconds, 0 min)\n",
      "Extracting data from /Users/nikkibytes/nilearn_data/adhd/51ca93ac61e627213eb5a3bb40abfcc0/adhd40_0021019.tgz..... done.\n"
     ]
    },
    {
     "name": "stdout",
     "output_type": "stream",
     "text": [
      "Downloading data from https://www.nitrc.org/frs/download.php/7786/adhd40_0023008.tgz ...\n"
     ]
    },
    {
     "name": "stderr",
     "output_type": "stream",
     "text": [
      "Downloaded 20407901 of 20407901 bytes (100.0%,    0.0s remaining) ...done. (5 seconds, 0 min)\n",
      "Extracting data from /Users/nikkibytes/nilearn_data/adhd/51ca93ac61e627213eb5a3bb40abfcc0/adhd40_0023008.tgz..... done.\n"
     ]
    },
    {
     "name": "stdout",
     "output_type": "stream",
     "text": [
      "Downloading data from https://www.nitrc.org/frs/download.php/7787/adhd40_0023012.tgz ...\n"
     ]
    },
    {
     "name": "stderr",
     "output_type": "stream",
     "text": [
      "Downloaded 20706939 of 20706939 bytes (100.0%,    0.0s remaining) ...done. (5 seconds, 0 min)\n",
      "Extracting data from /Users/nikkibytes/nilearn_data/adhd/51ca93ac61e627213eb5a3bb40abfcc0/adhd40_0023012.tgz..... done.\n"
     ]
    },
    {
     "name": "stdout",
     "output_type": "stream",
     "text": [
      "Downloading data from https://www.nitrc.org/frs/download.php/7788/adhd40_0027011.tgz ...\n"
     ]
    },
    {
     "name": "stderr",
     "output_type": "stream",
     "text": [
      "Downloaded 72402326 of 72402326 bytes (100.0%,    0.0s remaining) ...done. (14 seconds, 0 min)\n",
      "Extracting data from /Users/nikkibytes/nilearn_data/adhd/51ca93ac61e627213eb5a3bb40abfcc0/adhd40_0027011.tgz..... done.\n"
     ]
    },
    {
     "name": "stdout",
     "output_type": "stream",
     "text": [
      "Downloading data from https://www.nitrc.org/frs/download.php/7789/adhd40_0027018.tgz ...\n"
     ]
    },
    {
     "name": "stderr",
     "output_type": "stream",
     "text": [
      "Downloaded 76184603 of 76184603 bytes (100.0%,    0.0s remaining) ...done. (9 seconds, 0 min)\n",
      "Extracting data from /Users/nikkibytes/nilearn_data/adhd/51ca93ac61e627213eb5a3bb40abfcc0/adhd40_0027018.tgz..... done.\n"
     ]
    },
    {
     "name": "stdout",
     "output_type": "stream",
     "text": [
      "Downloading data from https://www.nitrc.org/frs/download.php/7790/adhd40_0027034.tgz ...\n"
     ]
    },
    {
     "name": "stderr",
     "output_type": "stream",
     "text": [
      "Downloaded 70074120 of 70074120 bytes (100.0%,    0.0s remaining) ...done. (15 seconds, 0 min)\n",
      "Extracting data from /Users/nikkibytes/nilearn_data/adhd/51ca93ac61e627213eb5a3bb40abfcc0/adhd40_0027034.tgz..... done.\n"
     ]
    },
    {
     "name": "stdout",
     "output_type": "stream",
     "text": [
      "Downloading data from https://www.nitrc.org/frs/download.php/7791/adhd40_0027037.tgz ...\n"
     ]
    },
    {
     "name": "stderr",
     "output_type": "stream",
     "text": [
      "Downloaded 69291635 of 69291635 bytes (100.0%,    0.0s remaining) ...done. (11 seconds, 0 min)\n",
      "Extracting data from /Users/nikkibytes/nilearn_data/adhd/51ca93ac61e627213eb5a3bb40abfcc0/adhd40_0027037.tgz..... done.\n"
     ]
    },
    {
     "name": "stdout",
     "output_type": "stream",
     "text": [
      "Downloading data from https://www.nitrc.org/frs/download.php/7792/adhd40_1019436.tgz ...\n"
     ]
    },
    {
     "name": "stderr",
     "output_type": "stream",
     "text": [
      "Downloaded 41803342 of 41803342 bytes (100.0%,    0.0s remaining) ...done. (11 seconds, 0 min)\n",
      "Extracting data from /Users/nikkibytes/nilearn_data/adhd/51ca93ac61e627213eb5a3bb40abfcc0/adhd40_1019436.tgz..... done.\n"
     ]
    },
    {
     "name": "stdout",
     "output_type": "stream",
     "text": [
      "Downloading data from https://www.nitrc.org/frs/download.php/7793/adhd40_1206380.tgz ...\n"
     ]
    },
    {
     "name": "stderr",
     "output_type": "stream",
     "text": [
      "Downloaded 20763649 of 20763649 bytes (100.0%,    0.0s remaining) ...done. (5 seconds, 0 min)\n",
      "Extracting data from /Users/nikkibytes/nilearn_data/adhd/51ca93ac61e627213eb5a3bb40abfcc0/adhd40_1206380.tgz..... done.\n"
     ]
    },
    {
     "name": "stdout",
     "output_type": "stream",
     "text": [
      "Downloading data from https://www.nitrc.org/frs/download.php/7794/adhd40_1418396.tgz ...\n"
     ]
    },
    {
     "name": "stderr",
     "output_type": "stream",
     "text": [
      "Downloaded 20168043 of 20168043 bytes (100.0%,    0.0s remaining) ...done. (5 seconds, 0 min)\n",
      "Extracting data from /Users/nikkibytes/nilearn_data/adhd/51ca93ac61e627213eb5a3bb40abfcc0/adhd40_1418396.tgz..... done.\n"
     ]
    },
    {
     "name": "stdout",
     "output_type": "stream",
     "text": [
      "Downloading data from https://www.nitrc.org/frs/download.php/7795/adhd40_1517058.tgz ...\n"
     ]
    },
    {
     "name": "stderr",
     "output_type": "stream",
     "text": [
      "Downloaded 62682233 of 62682233 bytes (100.0%,    0.0s remaining) ...done. (9 seconds, 0 min)\n",
      "Extracting data from /Users/nikkibytes/nilearn_data/adhd/51ca93ac61e627213eb5a3bb40abfcc0/adhd40_1517058.tgz..... done.\n"
     ]
    },
    {
     "name": "stdout",
     "output_type": "stream",
     "text": [
      "Downloading data from https://www.nitrc.org/frs/download.php/7796/adhd40_1552181.tgz ...\n"
     ]
    },
    {
     "name": "stderr",
     "output_type": "stream",
     "text": [
      "Downloaded 20196558 of 20196558 bytes (100.0%,    0.0s remaining) ...done. (5 seconds, 0 min)\n",
      "Extracting data from /Users/nikkibytes/nilearn_data/adhd/51ca93ac61e627213eb5a3bb40abfcc0/adhd40_1552181.tgz..... done.\n"
     ]
    },
    {
     "name": "stdout",
     "output_type": "stream",
     "text": [
      "Downloading data from https://www.nitrc.org/frs/download.php/7797/adhd40_1562298.tgz ...\n"
     ]
    },
    {
     "name": "stderr",
     "output_type": "stream",
     "text": [
      "Downloaded 60663491 of 60663491 bytes (100.0%,    0.0s remaining) ...done. (13 seconds, 0 min)\n",
      "Extracting data from /Users/nikkibytes/nilearn_data/adhd/51ca93ac61e627213eb5a3bb40abfcc0/adhd40_1562298.tgz..... done.\n"
     ]
    },
    {
     "name": "stdout",
     "output_type": "stream",
     "text": [
      "Downloading data from https://www.nitrc.org/frs/download.php/7798/adhd40_1679142.tgz ...\n"
     ]
    },
    {
     "name": "stderr",
     "output_type": "stream",
     "text": [
      "Downloaded 20628764 of 20628764 bytes (100.0%,    0.0s remaining) ...done. (5 seconds, 0 min)\n",
      "Extracting data from /Users/nikkibytes/nilearn_data/adhd/51ca93ac61e627213eb5a3bb40abfcc0/adhd40_1679142.tgz..... done.\n"
     ]
    },
    {
     "name": "stdout",
     "output_type": "stream",
     "text": [
      "Downloading data from https://www.nitrc.org/frs/download.php/7799/adhd40_2014113.tgz ...\n"
     ]
    },
    {
     "name": "stderr",
     "output_type": "stream",
     "text": [
      "Downloaded 33119052 of 33119052 bytes (100.0%,    0.0s remaining) ...done. (6 seconds, 0 min)\n",
      "Extracting data from /Users/nikkibytes/nilearn_data/adhd/51ca93ac61e627213eb5a3bb40abfcc0/adhd40_2014113.tgz..... done.\n"
     ]
    },
    {
     "name": "stdout",
     "output_type": "stream",
     "text": [
      "Downloading data from https://www.nitrc.org/frs/download.php/7800/adhd40_2497695.tgz ...\n"
     ]
    },
    {
     "name": "stderr",
     "output_type": "stream",
     "text": [
      "Downloaded 45455025 of 45455025 bytes (100.0%,    0.0s remaining) ...done. (8 seconds, 0 min)\n",
      "Extracting data from /Users/nikkibytes/nilearn_data/adhd/51ca93ac61e627213eb5a3bb40abfcc0/adhd40_2497695.tgz..... done.\n"
     ]
    },
    {
     "name": "stdout",
     "output_type": "stream",
     "text": [
      "Downloading data from https://www.nitrc.org/frs/download.php/7801/adhd40_2950754.tgz ...\n"
     ]
    },
    {
     "name": "stderr",
     "output_type": "stream",
     "text": [
      "Downloaded 57992968 of 57992968 bytes (100.0%,    0.0s remaining) ...done. (8 seconds, 0 min)\n",
      "Extracting data from /Users/nikkibytes/nilearn_data/adhd/51ca93ac61e627213eb5a3bb40abfcc0/adhd40_2950754.tgz..... done.\n"
     ]
    }
   ],
   "source": [
    "from nilearn import datasets\n",
    "\n",
    "adhd_data = datasets.fetch_adhd(n_subjects=20)"
   ]
  },
  {
   "cell_type": "markdown",
   "metadata": {},
   "source": [
    "We use probabilistic regions of interest (ROIs) from the MSDL atlas.\n",
    "\n"
   ]
  },
  {
   "cell_type": "code",
   "execution_count": 17,
   "metadata": {
    "collapsed": false,
    "jupyter": {
     "outputs_hidden": false
    }
   },
   "outputs": [
    {
     "name": "stderr",
     "output_type": "stream",
     "text": [
      "/Users/nikkibytes/anaconda3/lib/python3.6/site-packages/numpy/lib/npyio.py:2322: VisibleDeprecationWarning: Reading unicode strings without specifying the encoding argument is deprecated. Set the encoding, use None for the system default.\n",
      "  output = genfromtxt(fname, **kwargs)\n"
     ]
    }
   ],
   "source": [
    "msdl_data = datasets.fetch_atlas_msdl()\n",
    "msdl_coords = msdl_data.region_coords\n",
    "n_regions = len(msdl_coords)\n",
    "#print('MSDL has {0} ROIs, part of the following networks :\\n{1}.'.format(\n",
    "#    n_regions, msdl_data.networks))\n"
   ]
  },
  {
   "cell_type": "markdown",
   "metadata": {},
   "source": [
    "Region signals extraction\n",
    "-------------------------\n",
    "To extract regions time series, we instantiate a\n",
    ":class:`nilearn.input_data.NiftiMapsMasker` object and pass the atlas the\n",
    "file name to it, as well as filtering band-width and detrending option.\n",
    "\n"
   ]
  },
  {
   "cell_type": "code",
   "execution_count": 18,
   "metadata": {
    "collapsed": false,
    "jupyter": {
     "outputs_hidden": false
    }
   },
   "outputs": [],
   "source": [
    "from nilearn import input_data\n",
    "\n",
    "masker = input_data.NiftiMapsMasker(\n",
    "    msdl_data.maps, resampling_target=\"data\", t_r=2.5, detrend=True,\n",
    "    low_pass=.1, high_pass=.01, memory='nilearn_cache', memory_level=1)"
   ]
  },
  {
   "cell_type": "markdown",
   "metadata": {},
   "source": [
    "Then we compute region signals and extract useful phenotypic informations.\n",
    "\n"
   ]
  },
  {
   "cell_type": "code",
   "execution_count": null,
   "metadata": {
    "collapsed": false,
    "jupyter": {
     "outputs_hidden": false
    }
   },
   "outputs": [],
   "source": [
    "adhd_subjects = []\n",
    "pooled_subjects = []\n",
    "site_names = []\n",
    "adhd_labels = []  # 1 if ADHD, 0 if control\n",
    "for func_file, confound_file, phenotypic in zip(\n",
    "        adhd_data.func, adhd_data.confounds, adhd_data.phenotypic):\n",
    "    time_series = masker.fit_transform(func_file, confounds=confound_file)\n",
    "    pooled_subjects.append(time_series)\n",
    "    is_adhd = phenotypic['adhd']\n",
    "    if is_adhd:\n",
    "        adhd_subjects.append(time_series)\n",
    "\n",
    "    site_names.append(phenotypic['site'])\n",
    "    adhd_labels.append(is_adhd)\n",
    "\n",
    "print('Data has {0} ADHD subjects.'.format(len(adhd_subjects)))"
   ]
  },
  {
   "cell_type": "markdown",
   "metadata": {},
   "source": [
    "ROI-to-ROI correlations of ADHD patients\n",
    "----------------------------------------\n",
    "The simpler and most commonly used kind of connectivity is correlation. It\n",
    "models the full (marginal) connectivity between pairwise ROIs. We can\n",
    "estimate it using :class:`nilearn.connectome.ConnectivityMeasure`.\n",
    "\n"
   ]
  },
  {
   "cell_type": "code",
   "execution_count": null,
   "metadata": {
    "collapsed": false,
    "jupyter": {
     "outputs_hidden": false
    }
   },
   "outputs": [],
   "source": [
    "from nilearn.connectome import ConnectivityMeasure\n",
    "\n",
    "correlation_measure = ConnectivityMeasure(kind='correlation')"
   ]
  },
  {
   "cell_type": "markdown",
   "metadata": {},
   "source": [
    "From the list of ROIs time-series for ADHD subjects, the\n",
    "`correlation_measure` computes individual correlation matrices.\n",
    "\n"
   ]
  },
  {
   "cell_type": "code",
   "execution_count": null,
   "metadata": {
    "collapsed": false,
    "jupyter": {
     "outputs_hidden": false
    }
   },
   "outputs": [],
   "source": [
    "correlation_matrices = correlation_measure.fit_transform(adhd_subjects)\n",
    "\n",
    "# All individual coefficients are stacked in a unique 2D matrix.\n",
    "print('Correlations of ADHD patients are stacked in an array of shape {0}'\n",
    "      .format(correlation_matrices.shape))"
   ]
  },
  {
   "cell_type": "markdown",
   "metadata": {},
   "source": [
    "as well as the average correlation across all fitted subjects.\n",
    "\n"
   ]
  },
  {
   "cell_type": "code",
   "execution_count": null,
   "metadata": {
    "collapsed": false,
    "jupyter": {
     "outputs_hidden": false
    }
   },
   "outputs": [],
   "source": [
    "mean_correlation_matrix = correlation_measure.mean_\n",
    "print('Mean correlation has shape {0}.'.format(mean_correlation_matrix.shape))"
   ]
  },
  {
   "cell_type": "markdown",
   "metadata": {},
   "source": [
    "We display the connectomes of the first 3 ADHD subjects and the mean\n",
    "correlation matrix over all ADHD patients.\n",
    "\n"
   ]
  },
  {
   "cell_type": "code",
   "execution_count": null,
   "metadata": {
    "collapsed": false,
    "jupyter": {
     "outputs_hidden": false
    }
   },
   "outputs": [],
   "source": [
    "from nilearn import plotting\n",
    "\n",
    "plot_matrices(correlation_matrices[:4], 'correlation')\n",
    "plotting.plot_connectome(mean_correlation_matrix, msdl_coords,\n",
    "                         title='mean correlation over 13 ADHD subjects')"
   ]
  },
  {
   "cell_type": "markdown",
   "metadata": {},
   "source": [
    "Look at blocks structure, reflecting functional networks.\n",
    "\n"
   ]
  },
  {
   "cell_type": "markdown",
   "metadata": {},
   "source": [
    "Examine partial correlations\n",
    "----------------------------\n",
    "We can also study **direct connections**, revealed by partial correlation\n",
    "coefficients. We just change the `ConnectivityMeasure` kind\n",
    "\n"
   ]
  },
  {
   "cell_type": "code",
   "execution_count": null,
   "metadata": {
    "collapsed": false,
    "jupyter": {
     "outputs_hidden": false
    }
   },
   "outputs": [],
   "source": [
    "partial_correlation_measure = ConnectivityMeasure(kind='partial correlation')"
   ]
  },
  {
   "cell_type": "markdown",
   "metadata": {},
   "source": [
    "and repeat the previous operation.\n",
    "\n"
   ]
  },
  {
   "cell_type": "code",
   "execution_count": null,
   "metadata": {
    "collapsed": false,
    "jupyter": {
     "outputs_hidden": false
    }
   },
   "outputs": [],
   "source": [
    "partial_correlation_matrices = partial_correlation_measure.fit_transform(\n",
    "    adhd_subjects)"
   ]
  },
  {
   "cell_type": "markdown",
   "metadata": {},
   "source": [
    "Most of direct connections are weaker than full connections, resulting\n",
    "in a sparse mean connectome graph.\n",
    "\n"
   ]
  },
  {
   "cell_type": "code",
   "execution_count": null,
   "metadata": {
    "collapsed": false,
    "jupyter": {
     "outputs_hidden": false
    }
   },
   "outputs": [],
   "source": [
    "plot_matrices(partial_correlation_matrices[:4], 'partial')\n",
    "plotting.plot_connectome(\n",
    "    partial_correlation_measure.mean_, msdl_coords,\n",
    "    title='mean partial correlation over 13 ADHD subjects')"
   ]
  },
  {
   "cell_type": "markdown",
   "metadata": {},
   "source": [
    "Extract subjects variabilities around a robust group connectivity\n",
    "-----------------------------------------------------------------\n",
    "We can use **both** correlations and partial correlations to capture\n",
    "reproducible connectivity patterns at the group-level and build a **robust**\n",
    "**group connectivity matrix**. This is done by the **tangent** kind.\n",
    "\n"
   ]
  },
  {
   "cell_type": "code",
   "execution_count": null,
   "metadata": {
    "collapsed": false,
    "jupyter": {
     "outputs_hidden": false
    }
   },
   "outputs": [],
   "source": [
    "tangent_measure = ConnectivityMeasure(kind='tangent')"
   ]
  },
  {
   "cell_type": "markdown",
   "metadata": {},
   "source": [
    "We fit our ADHD group and get the group connectivity matrix stored as\n",
    "in `tangent_measure.mean_`, and individual deviation matrices of each subject\n",
    "from it.\n",
    "\n"
   ]
  },
  {
   "cell_type": "code",
   "execution_count": null,
   "metadata": {
    "collapsed": false,
    "jupyter": {
     "outputs_hidden": false
    }
   },
   "outputs": [],
   "source": [
    "tangent_matrices = tangent_measure.fit_transform(adhd_subjects)"
   ]
  },
  {
   "cell_type": "markdown",
   "metadata": {},
   "source": [
    "`tangent_matrices` model individual connectivities as\n",
    "**perturbations** of the group connectivity matrix `tangent_measure.mean_`.\n",
    "Keep in mind that these subjects-to-group variability matrices do not\n",
    "straight reflect individual brain connections. For instance negative\n",
    "coefficients can not be interpreted as anticorrelated regions.\n",
    "\n"
   ]
  },
  {
   "cell_type": "code",
   "execution_count": null,
   "metadata": {
    "collapsed": false,
    "jupyter": {
     "outputs_hidden": false
    }
   },
   "outputs": [],
   "source": [
    "plot_matrices(tangent_matrices[:4], 'tangent variability')\n",
    "plotting.plot_connectome(\n",
    "    tangent_measure.mean_, msdl_coords,\n",
    "    title='mean tangent connectivity over 13 ADHD subjects')"
   ]
  },
  {
   "cell_type": "markdown",
   "metadata": {},
   "source": [
    "The mean connectome graph is not as sparse as partial correlations graph,\n",
    "yet it is less dense than correlations graph.\n",
    "\n"
   ]
  },
  {
   "cell_type": "markdown",
   "metadata": {},
   "source": [
    "What kind of connectivity is most powerful for classification?\n",
    "--------------------------------------------------------------\n",
    "*ConnectivityMeasure* can output the estimated subjects coefficients\n",
    "as a 1D arrays through the parameter *vectorize*.\n",
    "\n"
   ]
  },
  {
   "cell_type": "code",
   "execution_count": null,
   "metadata": {
    "collapsed": false,
    "jupyter": {
     "outputs_hidden": false
    }
   },
   "outputs": [],
   "source": [
    "connectivity_biomarkers = {}\n",
    "kinds = ['correlation', 'partial correlation', 'tangent']\n",
    "for kind in kinds:\n",
    "    conn_measure = ConnectivityMeasure(kind=kind, vectorize=True)\n",
    "    connectivity_biomarkers[kind] = conn_measure.fit_transform(pooled_subjects)\n",
    "\n",
    "# For each kind, all individual coefficients are stacked in a unique 2D matrix.\n",
    "print('{0} correlation biomarkers for each subject.'.format(\n",
    "    connectivity_biomarkers['correlation'].shape[1]))"
   ]
  },
  {
   "cell_type": "markdown",
   "metadata": {},
   "source": [
    "Note that we use the **pooled groups**. This is crucial for **tangent** kind,\n",
    "to get the displacements from a **unique** `mean_` of all subjects.\n",
    "\n"
   ]
  },
  {
   "cell_type": "markdown",
   "metadata": {},
   "source": [
    "We stratify the dataset into homogeneous classes according to phenotypic\n",
    "and scan site. We then split the subjects into 3 folds with the same\n",
    "proportion of each class as in the whole cohort\n",
    "\n"
   ]
  },
  {
   "cell_type": "code",
   "execution_count": null,
   "metadata": {
    "collapsed": false,
    "jupyter": {
     "outputs_hidden": false
    }
   },
   "outputs": [],
   "source": [
    "from sklearn.model_selection import StratifiedKFold\n",
    "\n",
    "classes = ['{0}{1}'.format(site_name, adhd_label)\n",
    "           for site_name, adhd_label in zip(site_names, adhd_labels)]\n",
    "cv = StratifiedKFold(n_splits=3)"
   ]
  },
  {
   "cell_type": "markdown",
   "metadata": {},
   "source": [
    "and use the connectivity coefficients to classify ADHD patients vs controls.\n",
    "\n"
   ]
  },
  {
   "cell_type": "code",
   "execution_count": null,
   "metadata": {
    "collapsed": false,
    "jupyter": {
     "outputs_hidden": false
    }
   },
   "outputs": [],
   "source": [
    "# Note that in cv.split(X, y),\n",
    "# providing y is sufficient to generate the splits and\n",
    "# hence np.zeros(n_samples) may be used as a placeholder for X\n",
    "# instead of actual training data.\n",
    "from sklearn.svm import LinearSVC\n",
    "from sklearn.model_selection import cross_val_score\n",
    "\n",
    "mean_scores = []\n",
    "for kind in kinds:\n",
    "    svc = LinearSVC(random_state=0)\n",
    "    cv_scores = cross_val_score(svc,\n",
    "                                connectivity_biomarkers[kind],\n",
    "                                y=adhd_labels,\n",
    "                                cv=cv,\n",
    "                                groups=adhd_labels,\n",
    "                                scoring='accuracy',\n",
    "                                )\n",
    "    mean_scores.append(cv_scores.mean())"
   ]
  },
  {
   "cell_type": "markdown",
   "metadata": {},
   "source": [
    "Finally, we can display the classification scores.\n",
    "\n"
   ]
  },
  {
   "cell_type": "code",
   "execution_count": null,
   "metadata": {
    "collapsed": false,
    "jupyter": {
     "outputs_hidden": false
    }
   },
   "outputs": [],
   "source": [
    "from nilearn.plotting import show\n",
    "\n",
    "plt.figure(figsize=(6, 4))\n",
    "positions = np.arange(len(kinds)) * .1 + .1\n",
    "plt.barh(positions, mean_scores, align='center', height=.05)\n",
    "yticks = [kind.replace(' ', '\\n') for kind in kinds]\n",
    "plt.yticks(positions, yticks)\n",
    "plt.xlabel('Classification accuracy')\n",
    "plt.grid(True)\n",
    "plt.tight_layout()\n",
    "\n",
    "show()"
   ]
  }
 ],
 "metadata": {
  "kernelspec": {
   "display_name": "Python 3",
   "language": "python",
   "name": "python3"
  },
  "language_info": {
   "codemirror_mode": {
    "name": "ipython",
    "version": 3
   },
   "file_extension": ".py",
   "mimetype": "text/x-python",
   "name": "python",
   "nbconvert_exporter": "python",
   "pygments_lexer": "ipython3",
   "version": "3.6.9"
  }
 },
 "nbformat": 4,
 "nbformat_minor": 4
}
