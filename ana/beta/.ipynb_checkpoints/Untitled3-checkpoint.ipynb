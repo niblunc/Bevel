{
 "cells": [
  {
   "cell_type": "code",
   "execution_count": 10,
   "metadata": {},
   "outputs": [],
   "source": [
    "# Matrix plotting from Nilearn: nilearn.plotting.plot_matrix\n",
    "import numpy as np\n",
    "import matplotlib.pylab as plt\n",
    "import glob\n",
    "import numpy\n",
    "\n",
    "def plot_matrices(matrices, matrix_kind):\n",
    "    n_matrices = len(matrices)\n",
    "    fig = plt.figure(figsize=(n_matrices * 4, 4))\n",
    "    for n_subject, matrix in enumerate(matrices):\n",
    "        plt.subplot(1, n_matrices, n_subject + 1)\n",
    "        matrix = matrix.copy()  # avoid side effects\n",
    "        # Set diagonal to zero, for better visualization\n",
    "        np.fill_diagonal(matrix, 0)\n",
    "        vmax = np.max(np.abs(matrix))\n",
    "        title = '{0}, subject {1}'.format(matrix_kind, n_subject)\n",
    "        plotting.plot_matrix(matrix, vmin=-vmax, vmax=vmax, cmap='RdBu_r',\n",
    "                             title=title, figure=fig, colorbar=False)\n",
    "        \n",
    "        \n",
    "        "
   ]
  },
  {
   "cell_type": "code",
   "execution_count": 11,
   "metadata": {},
   "outputs": [],
   "source": [
    "from nilearn.connectome import ConnectivityMeasure\n",
    "\n",
    "correlation_measure = ConnectivityMeasure(kind='correlation')"
   ]
  },
  {
   "cell_type": "code",
   "execution_count": 13,
   "metadata": {},
   "outputs": [],
   "source": [
    "files=glob.glob('/Users/nikkibytes/Documents/niblunc/data/sub-*')\n",
    "subjects =[]\n",
    "\n",
    "for f in files:\n",
    "    array=numpy.loadtxt(f)\n",
    "    #print(array)\n",
    "    subjects.append(array)"
   ]
  },
  {
   "cell_type": "code",
   "execution_count": 14,
   "metadata": {},
   "outputs": [],
   "source": [
    "from nilearn.connectome import ConnectivityMeasure\n",
    "\n",
    "correlation_measure = ConnectivityMeasure(kind='correlation')"
   ]
  },
  {
   "cell_type": "code",
   "execution_count": 17,
   "metadata": {},
   "outputs": [
    {
     "name": "stdout",
     "output_type": "stream",
     "text": [
      "Correlations of ADHD patients are stacked in an array of shape (16, 28, 28)\n"
     ]
    },
    {
     "data": {
      "text/plain": [
       "array([[[ 1.00000000e+00, -3.72522109e-01,  2.56133191e-01, ...,\n",
       "         -1.91104905e-01, -7.73336388e-02,  2.97884929e-01],\n",
       "        [-3.72522109e-01,  1.00000000e+00,  1.04358515e-01, ...,\n",
       "          2.50196582e-01,  1.47561636e-01, -1.88929894e-02],\n",
       "        [ 2.56133191e-01,  1.04358515e-01,  1.00000000e+00, ...,\n",
       "          2.56925610e-01,  3.96457396e-01,  3.51051795e-01],\n",
       "        ...,\n",
       "        [-1.91104905e-01,  2.50196582e-01,  2.56925610e-01, ...,\n",
       "          1.00000000e+00,  4.65248150e-01, -3.86998930e-04],\n",
       "        [-7.73336388e-02,  1.47561636e-01,  3.96457396e-01, ...,\n",
       "          4.65248150e-01,  1.00000000e+00,  1.86221681e-01],\n",
       "        [ 2.97884929e-01, -1.88929894e-02,  3.51051795e-01, ...,\n",
       "         -3.86998930e-04,  1.86221681e-01,  1.00000000e+00]],\n",
       "\n",
       "       [[ 1.00000000e+00,  5.97645022e-01,  3.53661794e-01, ...,\n",
       "          2.40608646e-01,  2.35501035e-01,  6.36275978e-02],\n",
       "        [ 5.97645022e-01,  1.00000000e+00,  3.50685444e-02, ...,\n",
       "          2.75545058e-01, -9.17901342e-03, -4.92564986e-02],\n",
       "        [ 3.53661794e-01,  3.50685444e-02,  1.00000000e+00, ...,\n",
       "         -2.08575151e-02,  4.20397331e-01,  3.11760606e-01],\n",
       "        ...,\n",
       "        [ 2.40608646e-01,  2.75545058e-01, -2.08575151e-02, ...,\n",
       "          1.00000000e+00, -8.32964504e-02, -1.57786339e-01],\n",
       "        [ 2.35501035e-01, -9.17901342e-03,  4.20397331e-01, ...,\n",
       "         -8.32964504e-02,  1.00000000e+00,  3.10785490e-01],\n",
       "        [ 6.36275978e-02, -4.92564986e-02,  3.11760606e-01, ...,\n",
       "         -1.57786339e-01,  3.10785490e-01,  1.00000000e+00]],\n",
       "\n",
       "       [[ 1.00000000e+00,  3.82096351e-01,  1.22163282e-01, ...,\n",
       "          2.59245274e-01,  1.98606902e-01,  1.00857443e-01],\n",
       "        [ 3.82096351e-01,  1.00000000e+00,  1.47310772e-01, ...,\n",
       "          2.42961459e-01,  1.49366180e-01,  8.18070295e-02],\n",
       "        [ 1.22163282e-01,  1.47310772e-01,  1.00000000e+00, ...,\n",
       "          1.82600712e-01,  3.18459070e-01,  3.85758321e-01],\n",
       "        ...,\n",
       "        [ 2.59245274e-01,  2.42961459e-01,  1.82600712e-01, ...,\n",
       "          1.00000000e+00,  2.70954908e-01,  2.32005083e-01],\n",
       "        [ 1.98606902e-01,  1.49366180e-01,  3.18459070e-01, ...,\n",
       "          2.70954908e-01,  1.00000000e+00,  4.77616797e-01],\n",
       "        [ 1.00857443e-01,  8.18070295e-02,  3.85758321e-01, ...,\n",
       "          2.32005083e-01,  4.77616797e-01,  1.00000000e+00]],\n",
       "\n",
       "       ...,\n",
       "\n",
       "       [[ 1.00000000e+00,  1.33038835e-01,  4.46294353e-02, ...,\n",
       "         -2.12895386e-02,  4.29314702e-02,  1.15554649e-01],\n",
       "        [ 1.33038835e-01,  1.00000000e+00,  2.26950217e-01, ...,\n",
       "          1.46457011e-01,  6.20951970e-02,  7.66521089e-02],\n",
       "        [ 4.46294353e-02,  2.26950217e-01,  1.00000000e+00, ...,\n",
       "          2.83199722e-01,  3.08646974e-01,  2.81847149e-01],\n",
       "        ...,\n",
       "        [-2.12895386e-02,  1.46457011e-01,  2.83199722e-01, ...,\n",
       "          1.00000000e+00,  1.77957064e-01, -4.44359098e-03],\n",
       "        [ 4.29314702e-02,  6.20951970e-02,  3.08646974e-01, ...,\n",
       "          1.77957064e-01,  1.00000000e+00,  5.69122518e-01],\n",
       "        [ 1.15554649e-01,  7.66521089e-02,  2.81847149e-01, ...,\n",
       "         -4.44359098e-03,  5.69122518e-01,  1.00000000e+00]],\n",
       "\n",
       "       [[ 1.00000000e+00,  4.32531360e-01,  1.83055259e-01, ...,\n",
       "          1.80232877e-01,  2.49294758e-01,  1.40129732e-01],\n",
       "        [ 4.32531360e-01,  1.00000000e+00,  2.79383732e-01, ...,\n",
       "          2.16324954e-01,  2.96277975e-01,  1.11423795e-01],\n",
       "        [ 1.83055259e-01,  2.79383732e-01,  1.00000000e+00, ...,\n",
       "          1.73930342e-01,  4.82923652e-01,  3.98204471e-01],\n",
       "        ...,\n",
       "        [ 1.80232877e-01,  2.16324954e-01,  1.73930342e-01, ...,\n",
       "          1.00000000e+00,  2.96161454e-01,  2.50406695e-01],\n",
       "        [ 2.49294758e-01,  2.96277975e-01,  4.82923652e-01, ...,\n",
       "          2.96161454e-01,  1.00000000e+00,  4.98520133e-01],\n",
       "        [ 1.40129732e-01,  1.11423795e-01,  3.98204471e-01, ...,\n",
       "          2.50406695e-01,  4.98520133e-01,  1.00000000e+00]],\n",
       "\n",
       "       [[ 1.00000000e+00,  8.05398690e-01,  3.27706369e-01, ...,\n",
       "          4.19862570e-01,  3.42165131e-01,  2.73555805e-01],\n",
       "        [ 8.05398690e-01,  1.00000000e+00,  2.92527194e-01, ...,\n",
       "          4.84775802e-01,  2.61734810e-01,  1.71306354e-01],\n",
       "        [ 3.27706369e-01,  2.92527194e-01,  1.00000000e+00, ...,\n",
       "          4.36816610e-01,  8.02404977e-01,  7.64387869e-01],\n",
       "        ...,\n",
       "        [ 4.19862570e-01,  4.84775802e-01,  4.36816610e-01, ...,\n",
       "          1.00000000e+00,  4.29636889e-01,  3.34884319e-01],\n",
       "        [ 3.42165131e-01,  2.61734810e-01,  8.02404977e-01, ...,\n",
       "          4.29636889e-01,  1.00000000e+00,  8.52503498e-01],\n",
       "        [ 2.73555805e-01,  1.71306354e-01,  7.64387869e-01, ...,\n",
       "          3.34884319e-01,  8.52503498e-01,  1.00000000e+00]]])"
      ]
     },
     "execution_count": 17,
     "metadata": {},
     "output_type": "execute_result"
    }
   ],
   "source": [
    "correlation_matrices = correlation_measure.fit_transform(subjects)\n",
    "\n",
    "# All individual coefficients are stacked in a unique 2D matrix.\n",
    "print('Correlations of ADHD patients are stacked in an array of shape {0}'\n",
    "      .format(correlation_matrices.shape))\n"
   ]
  },
  {
   "cell_type": "code",
   "execution_count": null,
   "metadata": {},
   "outputs": [],
   "source": []
  }
 ],
 "metadata": {
  "kernelspec": {
   "display_name": "Python 3",
   "language": "python",
   "name": "python3"
  },
  "language_info": {
   "codemirror_mode": {
    "name": "ipython",
    "version": 3
   },
   "file_extension": ".py",
   "mimetype": "text/x-python",
   "name": "python",
   "nbconvert_exporter": "python",
   "pygments_lexer": "ipython3",
   "version": "3.7.3"
  }
 },
 "nbformat": 4,
 "nbformat_minor": 4
}
