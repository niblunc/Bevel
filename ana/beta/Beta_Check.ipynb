{
 "cells": [
  {
   "cell_type": "code",
   "execution_count": 1,
   "metadata": {},
   "outputs": [],
   "source": [
    "import os, glob\n",
    "import pandas as pd\n",
    "\n",
    "dir_base = \"/projects/niblab/bids_projects/Experiments/Bevel/BIDS/derivatives/NiBetaSeries/nibetaseries\"\n",
    "\n",
    "sub_dirs = glob.glob(os.path.join(dir_base, 'sub-*'))\n",
    "\n",
    "for sub_dir in sub_dirs:\n",
    "    tsvs = glob.glob(os.path.join(sub_dir, 'func', '*.tsv'))\n",
    "    for tsv in tsvs:\n",
    "        df = pd.read_csv(tsv, sep='\\t')\n",
    "        print(df.max())\n"
   ]
  },
  {
   "cell_type": "code",
   "execution_count": null,
   "metadata": {},
   "outputs": [],
   "source": []
  }
 ],
 "metadata": {
  "kernelspec": {
   "display_name": "Python 3",
   "language": "python",
   "name": "python3"
  },
  "language_info": {
   "codemirror_mode": {
    "name": "ipython",
    "version": 3
   },
   "file_extension": ".py",
   "mimetype": "text/x-python",
   "name": "python",
   "nbconvert_exporter": "python",
   "pygments_lexer": "ipython3",
   "version": "3.6.7"
  }
 },
 "nbformat": 4,
 "nbformat_minor": 2
}
