{
 "cells": [
  {
   "cell_type": "markdown",
   "metadata": {},
   "source": [
    "NOT 4 RUNS:  sub-005 (2)  \n",
    "NOT 4 RUNS:  sub-013 (3)  \n",
    "NOT 4 RUNS:  sub-015 (3)  \n",
    "NOT 4 RUNS:  sub-023 (2)  \n",
    "NOT 4 RUNS:  sub-030 (3)   \n",
    "NOT 4 RUNS:  sub-035 (3)  \n",
    "NOT 4 RUNS:  sub-036 (3)  \n",
    "NOT 4 RUNS:  sub-039 (3)  \n",
    "NOT 4 RUNS:  sub-045 (6)  \n",
    "NOT 4 RUNS:  sub-053 (3)  \n",
    "NOT 4 RUNS:  sub-065 (2)  \n",
    "NOT 4 RUNS:  sub-086 (3)  \n"
   ]
  },
  {
   "cell_type": "code",
   "execution_count": null,
   "metadata": {},
   "outputs": [],
   "source": []
  }
 ],
 "metadata": {
  "kernelspec": {
   "display_name": "Python 3",
   "language": "python",
   "name": "python3"
  },
  "language_info": {
   "codemirror_mode": {
    "name": "ipython",
    "version": 3
   },
   "file_extension": ".py",
   "mimetype": "text/x-python",
   "name": "python",
   "nbconvert_exporter": "python",
   "pygments_lexer": "ipython3",
   "version": "3.6.7"
  }
 },
 "nbformat": 4,
 "nbformat_minor": 2
}
