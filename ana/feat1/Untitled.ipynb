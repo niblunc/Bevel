{
 "cells": [
  {
   "cell_type": "code",
   "execution_count": null,
   "metadata": {},
   "outputs": [],
   "source": [
    "# move onsets\n",
    "import os, glob\n",
    "from shutil import copy2\n",
    "\n",
    "deriv_path ='/projects/niblab/bids_projects/Experiments/Bevel/testing_lin/derivatives'\n",
    "onset_path = '/projects/niblab/bids_projects/Experiments/Bevel/onsets/text_files'\n",
    "subs = glob.glob(os.path.join(deriv_path, \"sub-*\"))\n",
    "\n",
    "for sub_path in subs:\n",
    "    sub_id = sub_path.split(\"/\")[-1]\n",
    "    o_path = os.path.join(sub_path, \"func/onsets\")\n",
    "    print(o_path)\n",
    "    onsets = glob.glob(os.path.join(onset_path, \"%s*\"%sub_id))\n",
    "    if len(onsets) == 0:\n",
    "        print(\"NO ONSETS\")\n",
    "    else:\n",
    "        for o in onsets:\n",
    "            print(\"copying file\")\n",
    "            copy2(o, o_path)\n",
    "\n"
   ]
  },
  {
   "cell_type": "code",
   "execution_count": null,
   "metadata": {},
   "outputs": [],
   "source": [
    "import os, glob\n",
    "from shutil import copy2\n",
    "\n",
    "\n",
    "deriv_path ='/projects/niblab/bids_projects/Experiments/Bevel/testing_lin/derivatives'\n",
    "\n",
    "subs = glob.glob(os.path.join(deriv_path, \"sub-*\"))\n",
    "\n",
    "for sub_path in subs:\n",
    "    funcs = glob.glob(os.path.join(sub_path, \"func\", \"*run-5*\"))\n",
    "    if len(funcs) != 0:\n",
    "        onsets=glob.glob(os.path.join(sub_path, \"func\", \"onsets\", \"*run-3*\"))\n",
    "        for o in onsets:\n",
    "            newname = o.replace(\"run-3\", \"run-4\")\n",
    "            os.rename(o, newname)\n"
   ]
  }
 ],
 "metadata": {
  "kernelspec": {
   "display_name": "Python 3",
   "language": "python",
   "name": "python3"
  },
  "language_info": {
   "codemirror_mode": {
    "name": "ipython",
    "version": 3
   },
   "file_extension": ".py",
   "mimetype": "text/x-python",
   "name": "python",
   "nbconvert_exporter": "python",
   "pygments_lexer": "ipython3",
   "version": "3.6.7"
  }
 },
 "nbformat": 4,
 "nbformat_minor": 2
}
