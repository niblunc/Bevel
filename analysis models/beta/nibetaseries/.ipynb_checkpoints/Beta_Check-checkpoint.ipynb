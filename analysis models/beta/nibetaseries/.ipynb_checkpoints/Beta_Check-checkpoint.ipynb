{
 "cells": [
  {
   "cell_type": "code",
   "execution_count": 1,
   "metadata": {},
   "outputs": [],
   "source": [
    "import os, glob\n",
    "import pandas as pd"
   ]
  },
  {
   "cell_type": "code",
   "execution_count": 37,
   "metadata": {},
   "outputs": [],
   "source": [
    "dir_base = \"/projects/niblab/bids_projects/Experiments/Bevel/BIDS/derivatives/testing-space/newROI_parcel/NiBetaSeries/nibetaseries\"\n",
    "\n",
    "#/NiBetaSeries/nibetaseries\"\n",
    "\n",
    "sub_dirs = glob.glob(os.path.join(dir_base, 'sub-*'))\n",
    "\n",
    "for sub_dir in sorted(sub_dirs):\n",
    "    tsvs = glob.glob(os.path.join(sub_dir, 'func', '*.tsv'))\n",
    "    for tsv in sorted(tsvs):\n",
    "        print(\"\\nFILENAME: \\n{}\\n\".format(tsv.split(\"/\")[-1]))\n",
    "        df = pd.read_csv(tsv, sep=\"\\t\", header=None)\n",
    "        print(df.head())\n",
    "        #print(df.head())\n",
    "        #print(df.columns)\n",
    "        #df_max = df.max(axis=1)\n"
   ]
  },
  {
   "cell_type": "code",
   "execution_count": 38,
   "metadata": {},
   "outputs": [
    {
     "name": "stdout",
     "output_type": "stream",
     "text": [
      "\n",
      "FILENAME: \n",
      "sub-001_task-prob_run-1_bold_space-MNI152NLin2009cAsym_preproc_trialtype-punish_matrix.tsv\n",
      "\n",
      "nan\n",
      "\n",
      "FILENAME: \n",
      "sub-001_task-prob_run-1_bold_space-MNI152NLin2009cAsym_preproc_trialtype-reward_matrix.tsv\n",
      "\n",
      "nan\n",
      "\n",
      "FILENAME: \n",
      "sub-001_task-prob_run-2_bold_space-MNI152NLin2009cAsym_preproc_trialtype-punish_matrix.tsv\n",
      "\n",
      "nan\n",
      "\n",
      "FILENAME: \n",
      "sub-001_task-prob_run-2_bold_space-MNI152NLin2009cAsym_preproc_trialtype-reward_matrix.tsv\n",
      "\n",
      "nan\n",
      "\n",
      "FILENAME: \n",
      "sub-001_task-prob_run-3_bold_space-MNI152NLin2009cAsym_preproc_trialtype-punish_matrix.tsv\n",
      "\n",
      "nan\n",
      "\n",
      "FILENAME: \n",
      "sub-001_task-prob_run-3_bold_space-MNI152NLin2009cAsym_preproc_trialtype-reward_matrix.tsv\n",
      "\n",
      "nan\n",
      "\n",
      "FILENAME: \n",
      "sub-001_task-prob_run-4_bold_space-MNI152NLin2009cAsym_preproc_trialtype-punish_matrix.tsv\n",
      "\n",
      "nan\n",
      "\n",
      "FILENAME: \n",
      "sub-001_task-prob_run-4_bold_space-MNI152NLin2009cAsym_preproc_trialtype-reward_matrix.tsv\n",
      "\n",
      "nan\n"
     ]
    }
   ],
   "source": [
    "tsvs=glob.glob(\"sub-001/func/*.tsv\")\n",
    "for tsv in sorted(tsvs):\n",
    "    print(\"\\nFILENAME: \\n{}\\n\".format(tsv.split(\"/\")[-1]))\n",
    "    df = pd.read_csv(tsv, sep=\"\\t\", header=None)\n",
    "    #print(df.head())\n",
    "    #print(df.columns)\n",
    "    df_max = df.max(axis=1)\n",
    "    print(df_max.max())\n",
    "    #print(\"MAX VALUE FOUND: \",)\n",
    "    #print(\"MIN VALUE FOUND: \",df[\"vmPFC_R\"].min())"
   ]
  },
  {
   "cell_type": "code",
   "execution_count": null,
   "metadata": {},
   "outputs": [],
   "source": []
  }
 ],
 "metadata": {
  "kernelspec": {
   "display_name": "Python 3",
   "language": "python",
   "name": "python3"
  },
  "language_info": {
   "codemirror_mode": {
    "name": "ipython",
    "version": 3
   },
   "file_extension": ".py",
   "mimetype": "text/x-python",
   "name": "python",
   "nbconvert_exporter": "python",
   "pygments_lexer": "ipython3",
   "version": "3.6.7"
  }
 },
 "nbformat": 4,
 "nbformat_minor": 2
}
