{
 "cells": [
  {
   "cell_type": "code",
   "execution_count": null,
   "metadata": {},
   "outputs": [],
   "source": [
    "import glob\n",
    "from subprocess import check_output\n"
   ]
  },
  {
   "cell_type": "code",
   "execution_count": null,
   "metadata": {},
   "outputs": [],
   "source": [
    "files=sorted(glob.glob(\"/projects/niblab/bids_projects/Experiments/Bevel/remake_space/test/sub-*/func/*_bold.nii.gz\"))\n",
    "baddies = []\n",
    "print(\"Volume Check:\\n *expecting task files to be 199 and resting to be 150.\")\n",
    "for func in files:\n",
    "    sub_id = func.split(\"/\")[-3]\n",
    "    vol = check_output(['fslnvols', func])\n",
    "    vol = int(vol.decode(\"utf-8\"))\n",
    "    filename = func.split(\"/\")[-1]\n",
    "    #print(\"ID: {}\".format(sub_id))\n",
    "    if vol != 199 and \"rest\" not in func:\n",
    "        baddies.append(filename)\n",
    "        print(\"-->file FAILED volume check: {} \\t VOLUME: {} \".format(func.split(\"/\")[-1], vol))\n",
    "        #os.remove(func)\n",
    "    else:\n",
    "        print(\"file PASSED volume check: {} \\t VOLUME: {}\".format(func.split(\"/\")[-1], vol))\n",
    "print(\"*FILES FOUND WITH BAD VOLUME*:\\n {}\".format(' '.join(baddies)))"
   ]
  }
 ],
 "metadata": {
  "kernelspec": {
   "display_name": "Python 3",
   "language": "python",
   "name": "python3"
  },
  "language_info": {
   "codemirror_mode": {
    "name": "ipython",
    "version": 3
   },
   "file_extension": ".py",
   "mimetype": "text/x-python",
   "name": "python",
   "nbconvert_exporter": "python",
   "pygments_lexer": "ipython3",
   "version": "3.6.7"
  }
 },
 "nbformat": 4,
 "nbformat_minor": 2
}
