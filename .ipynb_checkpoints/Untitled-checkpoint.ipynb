{
 "cells": [
  {
   "cell_type": "code",
   "execution_count": null,
   "metadata": {},
   "outputs": [],
   "source": [
    "import glob\n",
    "from subprocess import check_output\n"
   ]
  },
  {
   "cell_type": "code",
   "execution_count": null,
   "metadata": {},
   "outputs": [],
   "source": [
    "files=sorted(glob.glob(\"/projects/niblab/bids_projects/Experiments/Bevel/BIDS/sub-*/func/*_bold.nii.gz\"))\n",
    "\n",
    "for func in files:\n",
    "    vol = check_output(['fslnvols', func])\n",
    "    vol = int(vol.decode(\"utf-8\"))\n",
    "    #print(vol)\n",
    "    if vol != 199 and \"rest\" not in func:\n",
    "        print(func.split(\"/\")[-1], vol)\n",
    "        #os.remove(func)"
   ]
  }
 ],
 "metadata": {
  "kernelspec": {
   "display_name": "Python 3",
   "language": "python",
   "name": "python3"
  },
  "language_info": {
   "codemirror_mode": {
    "name": "ipython",
    "version": 3
   },
   "file_extension": ".py",
   "mimetype": "text/x-python",
   "name": "python",
   "nbconvert_exporter": "python",
   "pygments_lexer": "ipython3",
   "version": "3.6.7"
  }
 },
 "nbformat": 4,
 "nbformat_minor": 2
}
