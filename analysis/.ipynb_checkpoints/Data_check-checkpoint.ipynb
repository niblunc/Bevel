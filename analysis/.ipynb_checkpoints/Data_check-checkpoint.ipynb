{
 "cells": [
  {
   "cell_type": "markdown",
   "metadata": {},
   "source": [
    "# Data Check"
   ]
  },
  {
   "cell_type": "code",
   "execution_count": 1,
   "metadata": {},
   "outputs": [],
   "source": [
    "# get run count for each subject"
   ]
  },
  {
   "cell_type": "code",
   "execution_count": 2,
   "metadata": {},
   "outputs": [],
   "source": [
    "import glob, os\n",
    "import pandas as pd\n",
    "\n",
    "data_dict= {}\n",
    "bids_path = '/projects/niblab/bids_projects/Experiments/Bevel/BIDS'\n",
    "subjects=glob.glob(os.path.join(bids_path, 'sub-*'))\n",
    "subject_count = len(subjects)\n",
    "for sub_path in sorted(subjects):\n",
    "    sub_id = sub_path.split(\"/\")[-1]\n",
    "    if sub_id not in data_dict:\n",
    "        data_dict[sub_id] = {}\n",
    "    func_runs=glob.glob(os.path.join(sub_path, \"func/*run-*_bold.nii.gz\"))\n",
    "    data_dict[sub_id][\"BIDS RUN COUNT\"] = len(func_runs)\n",
    "    betas=glob.glob(os.path.join('/projects/niblab/bids_projects/Experiments/Bevel/derivatives', sub_id, \"func/Analysis/feat1/betaseries/run-*\")\n",
    "    \n",
    "df=pd.DataFrame(data_dict).T\n",
    "\n"
   ]
  },
  {
   "cell_type": "code",
   "execution_count": null,
   "metadata": {},
   "outputs": [],
   "source": [
    "\n"
   ]
  }
 ],
 "metadata": {
  "kernelspec": {
   "display_name": "Python 3",
   "language": "python",
   "name": "python3"
  },
  "language_info": {
   "codemirror_mode": {
    "name": "ipython",
    "version": 3
   },
   "file_extension": ".py",
   "mimetype": "text/x-python",
   "name": "python",
   "nbconvert_exporter": "python",
   "pygments_lexer": "ipython3",
   "version": "3.7.4"
  },
  "widgets": {
   "application/vnd.jupyter.widget-state+json": {
    "state": {},
    "version_major": 2,
    "version_minor": 0
   }
  }
 },
 "nbformat": 4,
 "nbformat_minor": 4
}
