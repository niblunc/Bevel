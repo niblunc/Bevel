{
 "cells": [
  {
   "cell_type": "markdown",
   "metadata": {},
   "source": [
    "# Quality Analysis"
   ]
  },
  {
   "cell_type": "code",
   "execution_count": 1,
   "metadata": {},
   "outputs": [],
   "source": [
    "import glob\n",
    "import os \n",
    "import pandas as pd"
   ]
  },
  {
   "cell_type": "code",
   "execution_count": null,
   "metadata": {},
   "outputs": [],
   "source": [
    "SUBJECTS = sorted(glob.glob('/projects/niblab/bids_projects/Experiments/Bevel/testing_lin/derivatives/sub-*'))\n",
    "\n",
    "bad_dict = {}\n",
    "for sub_dir in SUBJECTS:\n",
    "    sub_id = sub_dir.split(\"/\")[-1]\n",
    "    feat_files = glob.glob(os.path.join(sub_dir, \"Analysis/feat1/*.feat\"))\n",
    "    for task_dir in feat_files:\n",
    "        task_files = glob.glob(os.path.join(task_dir, \"stats\"))\n",
    "        if not task_files:\n",
    "            if sub_id not in bad_dict:\n",
    "                bad_dict[sub_id] = {\"TASK\": None}\n",
    "            task_id = task_dir.split(\"/\")[-1].split(\".\")[0]\n",
    "            bad_dict[sub_id][\"TASK\"] = task_id\n",
    "df = pd.DataFrame(bad_dict)\n",
    "df = df.T\n"
   ]
  },
  {
   "cell_type": "markdown",
   "metadata": {},
   "source": [
    "                            TASK\n",
    "sub-011  sub-011_task-prob_run-3  --onset files empty  \n",
    "sub-033  sub-033_task-prob_run-1  --onset bitter/sweet empty\n",
    "sub-036  sub-036_task-prob_run-1  --onset files empty\n",
    "sub-052  sub-052_task-prob_run-3  --rename files\n",
    "sub-055  sub-055_task-prob_run-1  --onset bitter/sweet empty\n",
    "sub-059  sub-059_task-prob_run-6  "
   ]
  },
  {
   "cell_type": "code",
   "execution_count": null,
   "metadata": {},
   "outputs": [],
   "source": []
  }
 ],
 "metadata": {
  "kernelspec": {
   "display_name": "Python 3",
   "language": "python",
   "name": "python3"
  },
  "language_info": {
   "codemirror_mode": {
    "name": "ipython",
    "version": 3
   },
   "file_extension": ".py",
   "mimetype": "text/x-python",
   "name": "python",
   "nbconvert_exporter": "python",
   "pygments_lexer": "ipython3",
   "version": "3.6.7"
  }
 },
 "nbformat": 4,
 "nbformat_minor": 2
}
