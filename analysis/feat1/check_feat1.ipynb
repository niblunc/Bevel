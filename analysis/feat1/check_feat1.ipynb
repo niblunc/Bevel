{
 "cells": [
  {
   "cell_type": "code",
   "execution_count": 1,
   "metadata": {},
   "outputs": [],
   "source": [
    "import os, glob\n",
    "import subprocess\n",
    "from subprocess import check_output\n",
    "import pandas as pd\n",
    "pd.options.display.max_rows\n",
    "pd.set_option('display.max_rows', 100)\n"
   ]
  },
  {
   "cell_type": "code",
   "execution_count": null,
   "metadata": {},
   "outputs": [],
   "source": [
    "# get feat1 directories\n",
    "deriv_path=\"/projects/niblab/bids_projects/Experiments/Bevel/derivatives\"#input(\"Enter target study bids path: \")\n",
    "#/projects/niblab/bids_projects/Experiments/bbx/bids\n",
    "# get subject\n",
    "\n",
    "subjects = sorted(glob.glob(os.path.join(deriv_path, 'sub-*')))\n",
    "sub_ids = [x.split(\"/\")[-1] for x in subjects]\n",
    "subjects_ct = len(sub_ids)\n",
    "\n",
    "print(\"Subject count: {}\".format(subjects_ct))\n"
   ]
  },
  {
   "cell_type": "code",
   "execution_count": null,
   "metadata": {},
   "outputs": [],
   "source": [
    "def check_error_dir(data, deriv_path):\n",
    "    sub_id = data[0]\n",
    "    func_files=glob.glob(os.path.join(deriv_path, sub_id, \"func/*\"))\n",
    "    onset_files=glob.glob(os.path.join(deriv_path, sub_id, \"func/onsets/*\"))\n",
    "    confound_files=glob.glob(os.path.join(deriv_path, sub_id, \"func/motion_parameters/*\"))\n",
    "    motion_files=glob.glob(os.path.join(deriv_path, sub_id, \"func/motion_parameters/motion_assessment/*\"))\n",
    "    \n",
    "    \n",
    "    \n",
    "    print(\"{}\".format('\\n'.join(func_files)))\n",
    "                                "
   ]
  },
  {
   "cell_type": "code",
   "execution_count": null,
   "metadata": {},
   "outputs": [],
   "source": [
    "\n",
    "# loop through subjects\n",
    "qc_dict={}\n",
    "errors=[]\n",
    "for sub_path in subjects:\n",
    "    \n",
    "    \n",
    "    \n",
    "    # set per subject variables\n",
    "    \n",
    "    sub_id=sub_path.split(\"/\")[-1]\n",
    "    \n",
    "    if sub_id not in qc_dict:\n",
    "        qc_dict[sub_id] = {}\n",
    "    \n",
    "    feat1_path = os.path.join(sub_path, \"func/Analysis/feat1\")\n",
    "    feat1_folders = sorted(glob.glob(os.path.join(feat1_path, \"*expanded2.0.feat\")))\n",
    "    \n",
    "    mean_func_ct=0\n",
    "\n",
    "    \n",
    "    \n",
    "    for run_folder in feat1_folders:\n",
    "        \n",
    "        # set per run variables\n",
    "        \n",
    "        run_id = run_folder.split(\"/\")[-1].split(\"_\")[1].split(\".\")[0]\n",
    "        zstats=glob.glob(os.path.join(run_folder, 'stats/zstat*nii.gz'))\n",
    "        filtered_func = os.path.join(run_folder, \"filtered_func_data.nii.gz\")\n",
    "        zstat1 = os.path.join(run_folder, \"stats/zstat1.nii.gz\")\n",
    "        zstats_ct = len(zstats)\n",
    "        \n",
    "        \n",
    "        #if run_id not in qc_dict[sub_id]:\n",
    "            #qc_dict[sub_id][run_id] = {}\n",
    "        \n",
    "        # CHECK FOR MISSING ZSTATS        \n",
    "        if not zstats:\n",
    "            #print(\"MISSING ZSTATS: {}\\t{}\".format(sub_path.split(\"/\")[-1], run_id))\n",
    "            errors.append((sub_id, run_id))\n",
    "            # ADD REPORT \n",
    "            \n",
    "        \n",
    "           \n",
    "        \n",
    "        # CHECK ACTIVATION\n",
    "        #print(\"zstat files: {} \\n\".format(zstat))\n",
    "        #shell_cmd = \"cluster -i {} -t 0\".format(zstat)#> /projects/niblab/bids_projects/Experiments/bbx/bids/code/temp_file.txt\".format(zstat)\n",
    "\n",
    "        #try:\n",
    "            #cluster= check_output(shell_cmd, shell=True)\n",
    "            #print(\"cluster cmd: {} \\n\".format(shell_cmd))\n",
    "            #temp=pd.read_csv(\"/projects/niblab/bids_projects/Experiments/bbx/bids/code/temp_file.txt\", sep='\\t')\n",
    "            #max_vox=temp[\"MAX\"].max()\n",
    "            #print(cluster)\n",
    "        #except:\n",
    "         #   max_vox=None\n",
    "\n",
    "        \n",
    "        # UPDATE DICTIONARY \n",
    "        if run_id == \"run-1\":\n",
    "            qc_dict[sub_id][\"r1_zstat_ct\"] = zstats_ct\n",
    "        elif run_id == \"run-2\":\n",
    "            qc_dict[sub_id][\"r2_zstat_ct\"] = zstats_ct\n",
    "        elif run_id == \"run-3\":\n",
    "            qc_dict[sub_id][\"r3_zstat_ct\"] = zstats_ct\n",
    "        else:\n",
    "            qc_dict[sub_id][\"r4_zstat_ct\"] = zstats_ct\n",
    "        #qc_dict[sub_id][run_id][\"max_vox\"]=max_vox\n",
    "\n",
    "\n",
    "\n",
    "for err in errors:\n",
    "    check_error_dir(err, deriv_path)\n",
    "            \n",
    "print(\"\\n> Completed.\")"
   ]
  },
  {
   "cell_type": "code",
   "execution_count": null,
   "metadata": {},
   "outputs": [],
   "source": [
    "df=pd.DataFrame(qc_dict).T\n",
    "df"
   ]
  },
  {
   "cell_type": "code",
   "execution_count": null,
   "metadata": {},
   "outputs": [],
   "source": [
    "err_df = df[(df == 0).any(axis=\"columns\")]\n"
   ]
  },
  {
   "cell_type": "code",
   "execution_count": null,
   "metadata": {},
   "outputs": [],
   "source": [
    "err_df"
   ]
  },
  {
   "cell_type": "code",
   "execution_count": null,
   "metadata": {},
   "outputs": [],
   "source": [
    "err_df.index.values"
   ]
  },
  {
   "cell_type": "code",
   "execution_count": null,
   "metadata": {},
   "outputs": [],
   "source": []
  },
  {
   "cell_type": "code",
   "execution_count": null,
   "metadata": {},
   "outputs": [],
   "source": [
    "onsets = glob.glob('/projects/niblab/bids_projects/Experiments/Bevel/onsets/onsets_expandedPE/*.txt')"
   ]
  },
  {
   "cell_type": "code",
   "execution_count": null,
   "metadata": {},
   "outputs": [],
   "source": []
  },
  {
   "cell_type": "code",
   "execution_count": null,
   "metadata": {},
   "outputs": [],
   "source": [
    "for onset in onsets:\n",
    "    is_empty = os.stat(onset).st_size == 0\n",
    "    if is_empty == True: \n",
    "        print(onset.split(\"/\")[-1])"
   ]
  }
 ],
 "metadata": {
  "kernelspec": {
   "display_name": "Python 3",
   "language": "python",
   "name": "python3"
  },
  "language_info": {
   "codemirror_mode": {
    "name": "ipython",
    "version": 3
   },
   "file_extension": ".py",
   "mimetype": "text/x-python",
   "name": "python",
   "nbconvert_exporter": "python",
   "pygments_lexer": "ipython3",
   "version": "3.7.4"
  },
  "widgets": {
   "application/vnd.jupyter.widget-state+json": {
    "state": {},
    "version_major": 2,
    "version_minor": 0
   }
  }
 },
 "nbformat": 4,
 "nbformat_minor": 4
}
