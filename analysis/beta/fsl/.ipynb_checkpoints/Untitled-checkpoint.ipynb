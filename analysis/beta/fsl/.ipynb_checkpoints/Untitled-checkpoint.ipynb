{
 "cells": [
  {
   "cell_type": "markdown",
   "metadata": {},
   "source": [
    "<img src=\"beta1.png\" alt=\"good\" width=\"500\"/>"
   ]
  },
  {
   "cell_type": "code",
   "execution_count": 1,
   "metadata": {},
   "outputs": [],
   "source": [
    "import pandas as pd\n",
    "import os, glob"
   ]
  },
  {
   "cell_type": "markdown",
   "metadata": {},
   "source": [
    "/projects/niblab/modules/software/fsl/5.0.10/bin/fslmerge -t /projects/niblab/bids_projects/Experiments/Bevel/derivatives/betaseries/output/sub-072_punish /projects/niblab/bids_projects/Experiments/Bevel/derivatives/sub-072/func/Analysis/feat1/betaseries/run-1/sub-072_run-1_trial-2.feat/stats/pe1.nii.gz /projects/niblab/bids_projects/Experiments/Bevel/derivatives/sub-072/func/Analysis/feat1/betaseries/run-1/sub-072_run-1_trial-3.feat/stats/pe1.nii.gz  /projects/niblab/bids_projects/Experiments/Bevel/derivatives/sub-072/func/Analysis/feat1/betaseries/run-1/sub-072_run-1_trial-12.feat/stats/pe1.nii.gz /projects/niblab/bids_projects/Experiments/Bevel/derivatives/sub-072/func/Analysis/feat1/betaseries/run-1/sub-072_run-1_trial-14.feat/stats/pe1.nii.gz /projects/niblab/bids_projects/Experiments/Bevel/derivatives/sub-072/func/Analysis/feat1/betaseries/run-1/sub-072_run-1_trial-15.feat/stats/pe1.nii.gz /projects/niblab/bids_projects/Experiments/Bevel/derivatives/sub-072/func/Analysis/feat1/betaseries/run-1/sub-072_run-1_trial-16.feat/stats/pe1.nii.gz /projects/niblab/bids_projects/Experiments/Bevel/derivatives/sub-072/func/Analysis/feat1/betaseries/run-1/sub-072_run-1_trial-17.feat/stats/pe1.nii.gz /projects/niblab/bids_projects/Experiments/Bevel/derivatives/sub-072/func/Analysis/feat1/betaseries/run-1/sub-072_run-1_trial-20.feat/stats/pe1.nii.gz /projects/niblab/bids_projects/Experiments/Bevel/derivatives/sub-072/func/Analysis/feat1/betaseries/run-1/sub-072_run-1_trial-21.feat/stats/pe1.nii.gz /projects/niblab/bids_projects/Experiments/Bevel/derivatives/sub-072/func/Analysis/feat1/betaseries/run-1/sub-072_run-1_trial-23.feat/stats/pe1.nii.gz /projects/niblab/bids_projects/Experiments/Bevel/derivatives/sub-072/func/Analysis/feat1/betaseries/run-1/sub-072_run-1_trial-24.feat/stats/pe1.nii.gz /projects/niblab/bids_projects/Experiments/Bevel/derivatives/sub-072/func/Analysis/feat1/betaseries/run-1/sub-072_run-1_trial-25.feat/stats/pe1.nii.gz"
   ]
  }
 ],
 "metadata": {
  "kernelspec": {
   "display_name": "Python 3",
   "language": "python",
   "name": "python3"
  },
  "language_info": {
   "codemirror_mode": {
    "name": "ipython",
    "version": 3
   },
   "file_extension": ".py",
   "mimetype": "text/x-python",
   "name": "python",
   "nbconvert_exporter": "python",
   "pygments_lexer": "ipython3",
   "version": "3.6.9"
  }
 },
 "nbformat": 4,
 "nbformat_minor": 4
}
