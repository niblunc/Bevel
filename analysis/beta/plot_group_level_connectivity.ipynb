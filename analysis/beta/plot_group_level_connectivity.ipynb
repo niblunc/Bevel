{
 "cells": [
  {
   "cell_type": "code",
   "execution_count": 1,
   "metadata": {
    "collapsed": false,
    "jupyter": {
     "outputs_hidden": false
    }
   },
   "outputs": [],
   "source": [
    "%matplotlib inline"
   ]
  },
  {
   "cell_type": "markdown",
   "metadata": {},
   "source": [
    "\n",
    "Functional connectivity matrices for group analysis of connectomes\n",
    "==================================================================\n",
    "\n",
    "This example compares different kinds of functional connectivity between\n",
    "regions of interest : correlation, partial correlation, as well as a kind\n",
    "called **tangent**. The resulting connectivity coefficients are used to\n",
    "discriminate ADHD patients from healthy controls and the **tangent kind**\n",
    "**outperforms** the standard connectivity kinds.\n",
    "\n"
   ]
  },
  {
   "cell_type": "code",
   "execution_count": 2,
   "metadata": {
    "collapsed": false,
    "jupyter": {
     "outputs_hidden": false
    }
   },
   "outputs": [],
   "source": [
    "# Matrix plotting from Nilearn: nilearn.plotting.plot_matrix\n",
    "import numpy as np\n",
    "import matplotlib.pylab as plt\n",
    "\n",
    "\n",
    "def plot_matrices(matrices, matrix_kind):\n",
    "    n_matrices = len(matrices)\n",
    "    fig = plt.figure(figsize=(n_matrices * 4, 4))\n",
    "    for n_subject, matrix in enumerate(matrices):\n",
    "        plt.subplot(1, n_matrices, n_subject + 1)\n",
    "        matrix = matrix.copy()  # avoid side effects\n",
    "        # Set diagonal to zero, for better visualization\n",
    "        np.fill_diagonal(matrix, 0)\n",
    "        vmax = np.max(np.abs(matrix))\n",
    "        title = '{0}, subject {1}'.format(matrix_kind, n_subject)\n",
    "        plotting.plot_matrix(matrix, vmin=-vmax, vmax=vmax, cmap='RdBu_r',\n",
    "                             title=title, figure=fig, colorbar=False)"
   ]
  },
  {
   "cell_type": "markdown",
   "metadata": {},
   "source": [
    "Load ADHD dataset and MSDL atlas\n",
    "--------------------------------\n",
    "We study only 20 subjects from the ADHD dataset, to save computation time.\n",
    "\n"
   ]
  },
  {
   "cell_type": "code",
   "execution_count": 3,
   "metadata": {
    "collapsed": false,
    "jupyter": {
     "outputs_hidden": false
    }
   },
   "outputs": [
    {
     "name": "stderr",
     "output_type": "stream",
     "text": [
      "/Users/nikkibytes/anaconda3/lib/python3.6/site-packages/sklearn/externals/joblib/__init__.py:15: DeprecationWarning: sklearn.externals.joblib is deprecated in 0.21 and will be removed in 0.23. Please import this functionality directly from joblib, which can be installed with: pip install joblib. If this warning is raised when loading pickled models, you may need to re-serialize those models with scikit-learn 0.21+.\n",
      "  warnings.warn(msg, category=DeprecationWarning)\n"
     ]
    },
    {
     "name": "stdout",
     "output_type": "stream",
     "text": [
      "\n",
      "Dataset created in /Users/nikkibytes/nilearn_data/adhd\n",
      "\n",
      "Downloading data from https://www.nitrc.org/frs/download.php/7781/adhd40_metadata.tgz ...\n"
     ]
    },
    {
     "name": "stderr",
     "output_type": "stream",
     "text": [
      "Downloaded 3072 of 3072 bytes (100.0%,    0.0s remaining) ...done. (1 seconds, 0 min)\n",
      "Extracting data from /Users/nikkibytes/nilearn_data/adhd/74a52d3552145e11365bb68453d1a70c/adhd40_metadata.tgz..... done.\n",
      "/Users/nikkibytes/anaconda3/lib/python3.6/site-packages/nilearn/datasets/func.py:502: VisibleDeprecationWarning: Reading unicode strings without specifying the encoding argument is deprecated. Set the encoding, use None for the system default.\n",
      "  dtype=None)\n"
     ]
    },
    {
     "name": "stdout",
     "output_type": "stream",
     "text": [
      "Downloading data from https://www.nitrc.org/frs/download.php/7782/adhd40_0010042.tgz ...\n"
     ]
    },
    {
     "name": "stderr",
     "output_type": "stream",
     "text": [
      "Downloaded 44414948 of 44414948 bytes (100.0%,    0.0s remaining) ...done. (6 seconds, 0 min)\n",
      "Extracting data from /Users/nikkibytes/nilearn_data/adhd/51ca93ac61e627213eb5a3bb40abfcc0/adhd40_0010042.tgz..... done.\n"
     ]
    },
    {
     "name": "stdout",
     "output_type": "stream",
     "text": [
      "Downloading data from https://www.nitrc.org/frs/download.php/7783/adhd40_0010064.tgz ...\n"
     ]
    },
    {
     "name": "stderr",
     "output_type": "stream",
     "text": [
      "Downloaded 45583539 of 45583539 bytes (100.0%,    0.0s remaining) ...done. (8 seconds, 0 min)\n",
      "Extracting data from /Users/nikkibytes/nilearn_data/adhd/51ca93ac61e627213eb5a3bb40abfcc0/adhd40_0010064.tgz..... done.\n"
     ]
    },
    {
     "name": "stdout",
     "output_type": "stream",
     "text": [
      "Downloading data from https://www.nitrc.org/frs/download.php/7784/adhd40_0010128.tgz ...\n"
     ]
    },
    {
     "name": "stderr",
     "output_type": "stream",
     "text": [
      "Downloaded 45461055 of 45461055 bytes (100.0%,    0.0s remaining) ...done. (8 seconds, 0 min)\n",
      "Extracting data from /Users/nikkibytes/nilearn_data/adhd/51ca93ac61e627213eb5a3bb40abfcc0/adhd40_0010128.tgz..... done.\n"
     ]
    },
    {
     "name": "stdout",
     "output_type": "stream",
     "text": [
      "Downloading data from https://www.nitrc.org/frs/download.php/7785/adhd40_0021019.tgz ...\n"
     ]
    },
    {
     "name": "stderr",
     "output_type": "stream",
     "text": [
      "Downloaded 46216320 of 46216320 bytes (100.0%,    0.0s remaining) ...done. (7 seconds, 0 min)\n",
      "Extracting data from /Users/nikkibytes/nilearn_data/adhd/51ca93ac61e627213eb5a3bb40abfcc0/adhd40_0021019.tgz..... done.\n"
     ]
    },
    {
     "name": "stdout",
     "output_type": "stream",
     "text": [
      "Downloading data from https://www.nitrc.org/frs/download.php/7786/adhd40_0023008.tgz ...\n"
     ]
    },
    {
     "name": "stderr",
     "output_type": "stream",
     "text": [
      "Downloaded 20407901 of 20407901 bytes (100.0%,    0.0s remaining) ...done. (5 seconds, 0 min)\n",
      "Extracting data from /Users/nikkibytes/nilearn_data/adhd/51ca93ac61e627213eb5a3bb40abfcc0/adhd40_0023008.tgz..... done.\n"
     ]
    },
    {
     "name": "stdout",
     "output_type": "stream",
     "text": [
      "Downloading data from https://www.nitrc.org/frs/download.php/7787/adhd40_0023012.tgz ...\n"
     ]
    },
    {
     "name": "stderr",
     "output_type": "stream",
     "text": [
      "Downloaded 20706939 of 20706939 bytes (100.0%,    0.0s remaining) ...done. (5 seconds, 0 min)\n",
      "Extracting data from /Users/nikkibytes/nilearn_data/adhd/51ca93ac61e627213eb5a3bb40abfcc0/adhd40_0023012.tgz..... done.\n"
     ]
    },
    {
     "name": "stdout",
     "output_type": "stream",
     "text": [
      "Downloading data from https://www.nitrc.org/frs/download.php/7788/adhd40_0027011.tgz ...\n"
     ]
    },
    {
     "name": "stderr",
     "output_type": "stream",
     "text": [
      "Downloaded 72402326 of 72402326 bytes (100.0%,    0.0s remaining) ...done. (14 seconds, 0 min)\n",
      "Extracting data from /Users/nikkibytes/nilearn_data/adhd/51ca93ac61e627213eb5a3bb40abfcc0/adhd40_0027011.tgz..... done.\n"
     ]
    },
    {
     "name": "stdout",
     "output_type": "stream",
     "text": [
      "Downloading data from https://www.nitrc.org/frs/download.php/7789/adhd40_0027018.tgz ...\n"
     ]
    },
    {
     "name": "stderr",
     "output_type": "stream",
     "text": [
      "Downloaded 76184603 of 76184603 bytes (100.0%,    0.0s remaining) ...done. (9 seconds, 0 min)\n",
      "Extracting data from /Users/nikkibytes/nilearn_data/adhd/51ca93ac61e627213eb5a3bb40abfcc0/adhd40_0027018.tgz..... done.\n"
     ]
    },
    {
     "name": "stdout",
     "output_type": "stream",
     "text": [
      "Downloading data from https://www.nitrc.org/frs/download.php/7790/adhd40_0027034.tgz ...\n"
     ]
    },
    {
     "name": "stderr",
     "output_type": "stream",
     "text": [
      "Downloaded 70074120 of 70074120 bytes (100.0%,    0.0s remaining) ...done. (15 seconds, 0 min)\n",
      "Extracting data from /Users/nikkibytes/nilearn_data/adhd/51ca93ac61e627213eb5a3bb40abfcc0/adhd40_0027034.tgz..... done.\n"
     ]
    },
    {
     "name": "stdout",
     "output_type": "stream",
     "text": [
      "Downloading data from https://www.nitrc.org/frs/download.php/7791/adhd40_0027037.tgz ...\n"
     ]
    },
    {
     "name": "stderr",
     "output_type": "stream",
     "text": [
      "Downloaded 69291635 of 69291635 bytes (100.0%,    0.0s remaining) ...done. (11 seconds, 0 min)\n",
      "Extracting data from /Users/nikkibytes/nilearn_data/adhd/51ca93ac61e627213eb5a3bb40abfcc0/adhd40_0027037.tgz..... done.\n"
     ]
    },
    {
     "name": "stdout",
     "output_type": "stream",
     "text": [
      "Downloading data from https://www.nitrc.org/frs/download.php/7792/adhd40_1019436.tgz ...\n"
     ]
    },
    {
     "name": "stderr",
     "output_type": "stream",
     "text": [
      "Downloaded 41803342 of 41803342 bytes (100.0%,    0.0s remaining) ...done. (11 seconds, 0 min)\n",
      "Extracting data from /Users/nikkibytes/nilearn_data/adhd/51ca93ac61e627213eb5a3bb40abfcc0/adhd40_1019436.tgz..... done.\n"
     ]
    },
    {
     "name": "stdout",
     "output_type": "stream",
     "text": [
      "Downloading data from https://www.nitrc.org/frs/download.php/7793/adhd40_1206380.tgz ...\n"
     ]
    },
    {
     "name": "stderr",
     "output_type": "stream",
     "text": [
      "Downloaded 20763649 of 20763649 bytes (100.0%,    0.0s remaining) ...done. (5 seconds, 0 min)\n",
      "Extracting data from /Users/nikkibytes/nilearn_data/adhd/51ca93ac61e627213eb5a3bb40abfcc0/adhd40_1206380.tgz..... done.\n"
     ]
    },
    {
     "name": "stdout",
     "output_type": "stream",
     "text": [
      "Downloading data from https://www.nitrc.org/frs/download.php/7794/adhd40_1418396.tgz ...\n"
     ]
    },
    {
     "name": "stderr",
     "output_type": "stream",
     "text": [
      "Downloaded 20168043 of 20168043 bytes (100.0%,    0.0s remaining) ...done. (5 seconds, 0 min)\n",
      "Extracting data from /Users/nikkibytes/nilearn_data/adhd/51ca93ac61e627213eb5a3bb40abfcc0/adhd40_1418396.tgz..... done.\n"
     ]
    },
    {
     "name": "stdout",
     "output_type": "stream",
     "text": [
      "Downloading data from https://www.nitrc.org/frs/download.php/7795/adhd40_1517058.tgz ...\n"
     ]
    },
    {
     "name": "stderr",
     "output_type": "stream",
     "text": [
      "Downloaded 62682233 of 62682233 bytes (100.0%,    0.0s remaining) ...done. (9 seconds, 0 min)\n",
      "Extracting data from /Users/nikkibytes/nilearn_data/adhd/51ca93ac61e627213eb5a3bb40abfcc0/adhd40_1517058.tgz..... done.\n"
     ]
    },
    {
     "name": "stdout",
     "output_type": "stream",
     "text": [
      "Downloading data from https://www.nitrc.org/frs/download.php/7796/adhd40_1552181.tgz ...\n"
     ]
    },
    {
     "name": "stderr",
     "output_type": "stream",
     "text": [
      "Downloaded 20196558 of 20196558 bytes (100.0%,    0.0s remaining) ...done. (5 seconds, 0 min)\n",
      "Extracting data from /Users/nikkibytes/nilearn_data/adhd/51ca93ac61e627213eb5a3bb40abfcc0/adhd40_1552181.tgz..... done.\n"
     ]
    },
    {
     "name": "stdout",
     "output_type": "stream",
     "text": [
      "Downloading data from https://www.nitrc.org/frs/download.php/7797/adhd40_1562298.tgz ...\n"
     ]
    },
    {
     "name": "stderr",
     "output_type": "stream",
     "text": [
      "Downloaded 60663491 of 60663491 bytes (100.0%,    0.0s remaining) ...done. (13 seconds, 0 min)\n",
      "Extracting data from /Users/nikkibytes/nilearn_data/adhd/51ca93ac61e627213eb5a3bb40abfcc0/adhd40_1562298.tgz..... done.\n"
     ]
    },
    {
     "name": "stdout",
     "output_type": "stream",
     "text": [
      "Downloading data from https://www.nitrc.org/frs/download.php/7798/adhd40_1679142.tgz ...\n"
     ]
    },
    {
     "name": "stderr",
     "output_type": "stream",
     "text": [
      "Downloaded 20628764 of 20628764 bytes (100.0%,    0.0s remaining) ...done. (5 seconds, 0 min)\n",
      "Extracting data from /Users/nikkibytes/nilearn_data/adhd/51ca93ac61e627213eb5a3bb40abfcc0/adhd40_1679142.tgz..... done.\n"
     ]
    },
    {
     "name": "stdout",
     "output_type": "stream",
     "text": [
      "Downloading data from https://www.nitrc.org/frs/download.php/7799/adhd40_2014113.tgz ...\n"
     ]
    },
    {
     "name": "stderr",
     "output_type": "stream",
     "text": [
      "Downloaded 33119052 of 33119052 bytes (100.0%,    0.0s remaining) ...done. (6 seconds, 0 min)\n",
      "Extracting data from /Users/nikkibytes/nilearn_data/adhd/51ca93ac61e627213eb5a3bb40abfcc0/adhd40_2014113.tgz..... done.\n"
     ]
    },
    {
     "name": "stdout",
     "output_type": "stream",
     "text": [
      "Downloading data from https://www.nitrc.org/frs/download.php/7800/adhd40_2497695.tgz ...\n"
     ]
    },
    {
     "name": "stderr",
     "output_type": "stream",
     "text": [
      "Downloaded 45455025 of 45455025 bytes (100.0%,    0.0s remaining) ...done. (8 seconds, 0 min)\n",
      "Extracting data from /Users/nikkibytes/nilearn_data/adhd/51ca93ac61e627213eb5a3bb40abfcc0/adhd40_2497695.tgz..... done.\n"
     ]
    },
    {
     "name": "stdout",
     "output_type": "stream",
     "text": [
      "Downloading data from https://www.nitrc.org/frs/download.php/7801/adhd40_2950754.tgz ...\n"
     ]
    },
    {
     "name": "stderr",
     "output_type": "stream",
     "text": [
      "Downloaded 57992968 of 57992968 bytes (100.0%,    0.0s remaining) ...done. (8 seconds, 0 min)\n",
      "Extracting data from /Users/nikkibytes/nilearn_data/adhd/51ca93ac61e627213eb5a3bb40abfcc0/adhd40_2950754.tgz..... done.\n"
     ]
    }
   ],
   "source": [
    "from nilearn import datasets\n",
    "\n",
    "adhd_data = datasets.fetch_adhd(n_subjects=20)"
   ]
  },
  {
   "cell_type": "markdown",
   "metadata": {},
   "source": [
    "We use probabilistic regions of interest (ROIs) from the MSDL atlas.\n",
    "\n"
   ]
  },
  {
   "cell_type": "code",
   "execution_count": 17,
   "metadata": {
    "collapsed": false,
    "jupyter": {
     "outputs_hidden": false
    }
   },
   "outputs": [
    {
     "name": "stderr",
     "output_type": "stream",
     "text": [
      "/Users/nikkibytes/anaconda3/lib/python3.6/site-packages/numpy/lib/npyio.py:2322: VisibleDeprecationWarning: Reading unicode strings without specifying the encoding argument is deprecated. Set the encoding, use None for the system default.\n",
      "  output = genfromtxt(fname, **kwargs)\n"
     ]
    }
   ],
   "source": [
    "msdl_data = datasets.fetch_atlas_msdl()\n",
    "msdl_coords = msdl_data.region_coords\n",
    "n_regions = len(msdl_coords)\n",
    "#print('MSDL has {0} ROIs, part of the following networks :\\n{1}.'.format(\n",
    "#    n_regions, msdl_data.networks))\n"
   ]
  },
  {
   "cell_type": "markdown",
   "metadata": {},
   "source": [
    "Region signals extraction\n",
    "-------------------------\n",
    "To extract regions time series, we instantiate a\n",
    ":class:`nilearn.input_data.NiftiMapsMasker` object and pass the atlas the\n",
    "file name to it, as well as filtering band-width and detrending option.\n",
    "\n"
   ]
  },
  {
   "cell_type": "code",
   "execution_count": 18,
   "metadata": {
    "collapsed": false,
    "jupyter": {
     "outputs_hidden": false
    }
   },
   "outputs": [],
   "source": [
    "from nilearn import input_data\n",
    "\n",
    "masker = input_data.NiftiMapsMasker(\n",
    "    msdl_data.maps, resampling_target=\"data\", t_r=2.5, detrend=True,\n",
    "    low_pass=.1, high_pass=.01, memory='nilearn_cache', memory_level=1)"
   ]
  },
  {
   "cell_type": "markdown",
   "metadata": {},
   "source": [
    "Then we compute region signals and extract useful phenotypic informations.\n",
    "\n"
   ]
  },
  {
   "cell_type": "code",
   "execution_count": 21,
   "metadata": {
    "collapsed": false,
    "jupyter": {
     "outputs_hidden": false
    }
   },
   "outputs": [
    {
     "name": "stdout",
     "output_type": "stream",
     "text": [
      "Data has 13 ADHD subjects.\n"
     ]
    }
   ],
   "source": [
    "adhd_subjects = []\n",
    "pooled_subjects = []\n",
    "site_names = []\n",
    "adhd_labels = []  # 1 if ADHD, 0 if control\n",
    "for func_file, confound_file, phenotypic in zip(\n",
    "        adhd_data.func, adhd_data.confounds, adhd_data.phenotypic):\n",
    "    time_series = masker.fit_transform(func_file, confounds=confound_file)\n",
    "    pooled_subjects.append(time_series)\n",
    "    is_adhd = phenotypic['adhd']\n",
    "    if is_adhd:\n",
    "        adhd_subjects.append(time_series)\n",
    "\n",
    "    site_names.append(phenotypic['site'])\n",
    "    adhd_labels.append(is_adhd)\n",
    "\n",
    "print('Data has {0} ADHD subjects.'.format(len(adhd_subjects)))\n"
   ]
  },
  {
   "cell_type": "code",
   "execution_count": 22,
   "metadata": {},
   "outputs": [
    {
     "data": {
      "text/plain": [
       "[array([[  -0.58765541,   -1.05472835,    3.03562641, ...,   -1.58074974,\n",
       "           -0.69711819,    1.78376895],\n",
       "        [   9.92830447,   23.50980548,  165.0579614 , ...,  -33.78418624,\n",
       "          -61.63485764,  -43.79106255],\n",
       "        [   9.75531607,   48.76169616,  230.87467278, ...,  -39.99128819,\n",
       "         -118.28597347,  -66.08393488],\n",
       "        ...,\n",
       "        [  -7.11366497,  -40.16357524,  -18.69711025, ...,   64.41141801,\n",
       "          -73.57126115,  131.77627614],\n",
       "        [  11.12994871,  -37.8814891 ,  -20.49034909, ...,   73.48539761,\n",
       "          -78.30014021,  104.89936242],\n",
       "        [   6.74716922,    7.65476576,    5.19421998, ...,    3.9971927 ,\n",
       "            7.1628443 ,   -4.49433167]]),\n",
       " array([[  -7.93123261,   -7.35334281,   11.58426564, ...,    7.15193038,\n",
       "           -3.57387755,   -0.53844873],\n",
       "        [ 163.73601781,   21.44515039,   65.70093812, ...,  152.01382408,\n",
       "           63.80522043,   48.52860194],\n",
       "        [ 179.44455788,   62.01088155,   29.4314462 , ...,  194.50699803,\n",
       "          117.05852654,   72.55476316],\n",
       "        ...,\n",
       "        [-244.97387001, -169.62107692,  -22.21368249, ...,  360.87175228,\n",
       "          -12.56980901, -282.1384621 ],\n",
       "        [-146.04730942, -141.31809139,  -64.1643366 , ...,  257.89469383,\n",
       "           11.06729042, -204.22193807],\n",
       "        [   5.11753246,    7.35497342,    1.31963328, ...,   12.86660852,\n",
       "          -20.48502406,  -24.69448476]]),\n",
       " array([[  15.18947017,   12.76150178,   -6.89845208, ...,    4.68939279,\n",
       "            2.33774362,    0.23142148],\n",
       "        [  23.89177148,   77.67080337,   70.90331347, ..., -139.19236929,\n",
       "           56.76516545, -116.58030904],\n",
       "        [  22.30666366,  110.1580394 ,  177.94049496, ..., -143.87357002,\n",
       "           86.06853969, -177.6940997 ],\n",
       "        ...,\n",
       "        [ -15.88929643,  -44.99460097,  -45.99928926, ...,  101.18784734,\n",
       "           14.72070055,   88.58372392],\n",
       "        [ -45.42187201,  -59.35380831,  -92.03921792, ...,   60.55474848,\n",
       "           66.233275  ,   55.85647279],\n",
       "        [  18.15095302,   11.55103763,    8.35011738, ...,   -8.02317782,\n",
       "          -10.69830577,   -8.66515327]]),\n",
       " array([[  -0.38202878,   -2.00508019,   -2.55191545, ...,    3.73534507,\n",
       "            0.71094068,    3.07025823],\n",
       "        [ 115.25519869,  -74.42439895,   38.03837666, ...,   12.15182063,\n",
       "          -41.79893247,  -81.86834036],\n",
       "        [ 129.85890216,  -62.46007993,  -37.51303574, ..., -115.42150537,\n",
       "          -97.28372713, -205.03513688],\n",
       "        ...,\n",
       "        [   9.35916515,   74.10778641,  167.15490417, ...,  -71.31089073,\n",
       "          -38.96929036,  -49.3153238 ],\n",
       "        [  51.75024869,   78.32918297,  162.15847224, ...,  -64.95645946,\n",
       "          -80.11367911,  -84.45242325],\n",
       "        [   8.68816329,    2.71641411,   26.55349462, ...,    3.77079865,\n",
       "          -16.06313698,   -3.98629044]]),\n",
       " array([[-3.68142432e-01, -1.67391010e-01, -1.37505926e+00, ...,\n",
       "          1.72373648e+00,  2.36854905e-01,  3.90238384e-01],\n",
       "        [ 6.09771561e+01,  4.82682517e+01,  5.65976754e-02, ...,\n",
       "          9.93260008e+01, -2.19538261e+01, -1.35031133e-01],\n",
       "        [ 6.56550499e+01,  6.91137832e+01, -3.51323690e+01, ...,\n",
       "          8.82077315e+01, -3.82310006e+01,  1.67515241e+01],\n",
       "        ...,\n",
       "        [ 5.63298653e+01,  5.71305663e+01, -1.61103460e+02, ...,\n",
       "          1.12978526e+01, -4.68130159e+01, -4.84136536e+00],\n",
       "        [ 4.02705139e+01,  4.45896004e+01, -1.19292426e+02, ...,\n",
       "          4.95674245e+00,  2.46026985e+00, -1.17013178e+00],\n",
       "        [ 8.76989693e+00,  9.66763293e+00,  5.93308096e+00, ...,\n",
       "         -5.08442141e+00, -1.24647966e+01, -1.31662652e+01]]),\n",
       " array([[   2.57680199,    3.00144851,   -2.05051406, ...,   -0.32629625,\n",
       "           -1.7888848 ,   -1.13536196],\n",
       "        [ 162.91083779,  127.56570717,   43.64279033, ...,  104.34388371,\n",
       "            3.34853698,   14.23290092],\n",
       "        [ 219.77989438,  193.34352023,   64.80123568, ...,  115.35543366,\n",
       "          -62.03959619,   17.28666853],\n",
       "        ...,\n",
       "        [ -99.66080516,  -61.17004002,  -41.66875723, ...,  -39.5326038 ,\n",
       "          155.44666271,  164.95009475],\n",
       "        [-151.61926836, -133.16536387,  -85.72902333, ...,  -60.71020807,\n",
       "           93.81472131,   83.95065373],\n",
       "        [ -15.69779526,  -16.9800117 ,   -2.65011381, ...,   -6.28776017,\n",
       "            6.96166857,    2.34277076]]),\n",
       " array([[   1.03704818,    0.71028837,    3.21924412, ...,   -2.02519894,\n",
       "            0.62500555,    2.57985142],\n",
       "        [ -69.23668499, -144.62063005, -105.57324255, ..., -152.73510621,\n",
       "          -31.23383328,   58.86342964],\n",
       "        [-129.03045109, -149.60909788, -165.08143685, ..., -184.70598461,\n",
       "          -36.03112386,   36.85223405],\n",
       "        ...,\n",
       "        [-158.68485656, -136.53319925, -187.12328239, ...,  -12.8017767 ,\n",
       "         -128.33270045,   -5.12029815],\n",
       "        [ -75.02020444,  -56.99503974,  -62.60669282, ...,  -50.5779599 ,\n",
       "         -102.73013839,   31.18688378],\n",
       "        [  10.09580808,   13.49199745,  -23.69769774, ...,   20.62408428,\n",
       "           10.75922387,   12.49260516]]),\n",
       " array([[   2.34665944,    0.29391119,    2.5462538 , ...,   -2.40686979,\n",
       "            8.36144198,    6.17866312],\n",
       "        [  17.46775003,  -33.1627971 ,    4.18996006, ...,  -81.4050492 ,\n",
       "         -122.50759106,   24.99398139],\n",
       "        [ 118.89689263,   48.51409555,    7.05525422, ..., -140.01916636,\n",
       "         -170.49337945,   31.34495067],\n",
       "        ...,\n",
       "        [ -45.55202516,  -21.44003713,  -70.73137783, ...,  -29.0523204 ,\n",
       "         -103.98570073,  -32.67438651],\n",
       "        [ -43.70947375,  -38.62542976,  -45.19737266, ...,  -35.02171609,\n",
       "          -71.40946817,  -17.2955035 ],\n",
       "        [   2.44952048,    3.02466815,    2.468952  , ...,   -2.06680767,\n",
       "           -8.04293022,   -6.07777558]]),\n",
       " array([[ 3.87941850e-02,  1.27306730e+00,  7.10511463e-01, ...,\n",
       "          2.94536033e+00, -1.82924696e-01,  1.75818122e+00],\n",
       "        [ 8.60948412e+01,  9.30137191e+01,  7.98881111e+01, ...,\n",
       "          7.25650479e+00, -3.72042763e+01,  6.40373223e+01],\n",
       "        [ 1.31602938e+02,  1.30361177e+02,  1.14468312e+02, ...,\n",
       "         -1.90715790e+01, -4.03876859e+01,  8.74663399e+01],\n",
       "        ...,\n",
       "        [-4.23976515e+01,  5.35807342e+01,  3.19501203e+01, ...,\n",
       "          5.49302053e+01, -3.10383879e+00,  8.44421865e+01],\n",
       "        [-3.81393365e+01,  4.79389036e+01,  1.07498141e+01, ...,\n",
       "          3.41379937e+01, -2.73585198e+01,  3.88037704e+01],\n",
       "        [-6.26612135e+00,  1.42500110e+00,  3.25495441e+00, ...,\n",
       "          6.38357136e+00, -8.86747766e+00,  6.08596505e+00]]),\n",
       " array([[  -1.24584289,   -0.86120515,    1.90799369, ...,    0.24860683,\n",
       "            1.2248106 ,    0.85899845],\n",
       "        [ -63.24763087, -182.91835668,  -96.80028341, ...,   62.74806565,\n",
       "         -123.57045059,   64.45778404],\n",
       "        [ -67.11238747, -174.81855218, -115.78815293, ...,   94.64624844,\n",
       "         -155.53917921,  120.46835138],\n",
       "        ...,\n",
       "        [  19.99492979,   39.48418595,   -9.96631457, ...,  138.12755998,\n",
       "          103.22815617,   58.82378693],\n",
       "        [  24.05944863,    8.64738211,  -10.76769078, ...,  111.42048087,\n",
       "           32.22519557,    7.99480242],\n",
       "        [  -3.4468852 ,   -5.28914598,    5.38009294, ...,   10.44021831,\n",
       "            7.00144358,   10.45813466]]),\n",
       " array([[   4.50863697,    4.58709283,   -0.95898749, ...,    6.23942924,\n",
       "            4.29305785,    2.23672048],\n",
       "        [ -17.99623358,  -30.22964245,  -53.24618396, ...,  -74.29810441,\n",
       "          -93.19382672,    0.59109242],\n",
       "        [ -66.62517982,  -40.98152832,  -38.44691873, ..., -211.28271713,\n",
       "         -155.26469877,  -61.31754458],\n",
       "        ...,\n",
       "        [ 155.28381861,  122.47642698, -198.24158237, ...,  151.04350991,\n",
       "           70.76102274,  -92.78701122],\n",
       "        [ 110.1700472 ,   77.74257863, -125.33616753, ...,   96.25044503,\n",
       "           99.43034113,  -50.62053099],\n",
       "        [   1.1742298 ,    0.59019177,    4.73593746, ...,    5.75595571,\n",
       "           -3.56258532,   -7.99069722]]),\n",
       " array([[  2.36546251,   2.56446744,   1.91611734, ...,  -2.29431333,\n",
       "           4.68610704,   4.32240372],\n",
       "        [ 83.05858631,  91.46209225,  15.40084498, ...,  24.10983361,\n",
       "         -50.95600795,  17.26441109],\n",
       "        [105.74040575,  98.48497308, -22.28914174, ...,  66.29546092,\n",
       "         -40.95290156,  40.52893919],\n",
       "        ...,\n",
       "        [ -3.38588776,  -7.32960748,  96.66319014, ...,  -4.90574075,\n",
       "          27.53711524,  24.60959534],\n",
       "        [-40.97981355, -53.14112242,  16.94915834, ...,   3.12079059,\n",
       "          32.97546846,  36.98830714],\n",
       "        [ -3.99454335,  -5.47298918,  -4.32998559, ...,   7.26734161,\n",
       "          -3.55871131,  -5.32719442]]),\n",
       " array([[   2.44782802,    1.81173572,    0.30468914, ...,    1.08808161,\n",
       "            0.29398564,    1.63573067],\n",
       "        [ -15.78342831,  -38.83011132,  -86.32279418, ...,  -42.23980988,\n",
       "          -58.81049253,   52.36818811],\n",
       "        [  71.16816543,   23.84124636, -150.40239507, ...,  -30.44938246,\n",
       "          -96.87942431,   56.75409081],\n",
       "        ...,\n",
       "        [  77.79449631,   16.5260111 ,  -22.65977493, ...,   -4.22612648,\n",
       "          -40.68583721,   18.50825996],\n",
       "        [  73.5986641 ,   38.88736066,  -18.8293415 , ...,    5.71643749,\n",
       "          -29.84751746,   30.26251426],\n",
       "        [  -7.08298294,   -3.504955  ,    1.76248411, ...,   -9.59547948,\n",
       "           11.67238502,    8.60172789]]),\n",
       " array([[  -0.35853708,   -0.35919894,   -2.23557679, ...,    2.96233394,\n",
       "            6.40830159,    7.13735793],\n",
       "        [ -41.06202871,  -12.70406586,   10.04429435, ...,  -10.63721135,\n",
       "           94.64301762,   89.87257704],\n",
       "        [ -25.2206273 ,   -1.39318922,    0.17824939, ...,   -8.46857959,\n",
       "          136.87003874,  126.62556846],\n",
       "        ...,\n",
       "        [ -73.40421737,  -78.79283057, -148.32737403, ...,    8.44425464,\n",
       "          -92.87889176, -121.30901738],\n",
       "        [ -78.87621061,  -76.20662029, -123.3159437 , ...,   35.34748143,\n",
       "          -62.16215927,  -86.55026673],\n",
       "        [   0.59884203,   -2.35880488,   -5.60518916, ...,   -2.37761465,\n",
       "           18.05898931,    4.97205862]]),\n",
       " array([[ -1.10029495,  -2.0687994 ,  -1.33919854, ...,   1.6232665 ,\n",
       "          -1.01595235,  -0.59227396],\n",
       "        [-49.30701104, -45.20148634,  63.77413104, ...,  14.68763102,\n",
       "         -36.21614935, -76.80895207],\n",
       "        [-44.93425716, -48.71267215,  73.37934187, ...,   3.24777431,\n",
       "         -39.11926727, -96.66897324],\n",
       "        ...,\n",
       "        [ 52.91036614,  -0.11842951, -25.63547149, ..., -25.8108646 ,\n",
       "         -39.56812362,   9.87877007],\n",
       "        [ 55.89968167,  18.58861626, -49.93507213, ..., -23.7938196 ,\n",
       "         -33.90325711,  15.50185833],\n",
       "        [  2.94646135,   1.19131684,   4.5162098 , ...,  -4.01188318,\n",
       "          -6.47022922,  -1.82049333]]),\n",
       " array([[-4.87675189e+00, -3.70636714e+00,  3.65287685e-01, ...,\n",
       "         -2.01228908e+00, -1.26270725e-01, -3.47879509e+00],\n",
       "        [-1.98930908e+01,  1.94620689e+01,  1.08696161e+00, ...,\n",
       "          2.73225459e+02, -3.21056752e-01,  1.91637746e+01],\n",
       "        [-4.43467370e+01, -1.27563220e+01, -6.58763132e+01, ...,\n",
       "          2.91519580e+02,  6.07529051e+01,  1.16389062e+02],\n",
       "        ...,\n",
       "        [ 4.45112022e-01,  5.57602142e+01,  7.18714586e+01, ...,\n",
       "         -2.42710675e+02,  2.01481027e+00,  3.65281600e+01],\n",
       "        [-1.59364424e+01,  3.99239021e+01,  3.00640945e+01, ...,\n",
       "         -1.94058162e+02,  4.86380851e+01,  2.59348146e+01],\n",
       "        [-1.71568893e+01, -1.65943312e+01, -6.79280080e+00, ...,\n",
       "         -3.28310339e+00,  3.76797375e-01,  3.94730101e+00]]),\n",
       " array([[ 1.06928687e+00,  2.19508638e+00,  2.08586828e-01, ...,\n",
       "          1.74037044e+00, -6.81155522e-03,  4.99812175e+00],\n",
       "        [ 1.18985254e+02,  6.96304057e+01, -1.41199035e+02, ...,\n",
       "         -1.50374106e+02,  5.18214746e+01,  2.21674798e+01],\n",
       "        [ 1.44017251e+02,  6.40250370e+01, -1.59926609e+02, ...,\n",
       "         -2.32588573e+02,  1.40858638e+01, -5.13949493e+01],\n",
       "        ...,\n",
       "        [-1.24328877e+02, -7.87158566e+01,  2.59486261e+01, ...,\n",
       "         -9.57435734e+01, -5.91270345e+01,  8.72542664e+01],\n",
       "        [-5.72271987e+01, -4.02013508e+01, -3.71223293e+01, ...,\n",
       "         -6.95180800e+01,  1.29352746e+00,  7.63416463e+01],\n",
       "        [-1.79356126e+00, -5.75202949e+00, -6.52306888e-01, ...,\n",
       "         -2.75082119e+00, -1.04534644e+01, -6.04047542e+00]]),\n",
       " array([[  -2.29033086,   -1.88084497,    0.20731594, ...,    1.51706622,\n",
       "           -7.94801764,   -2.57824052],\n",
       "        [   5.03527398,  -10.13108248,   -3.90028007, ...,   -8.81529822,\n",
       "          -36.7964252 , -113.11440781],\n",
       "        [  -7.05247295,  -16.50935335,  -54.38896162, ...,  -43.79297075,\n",
       "           19.54980272, -121.56638179],\n",
       "        ...,\n",
       "        [  14.14076377,  -46.37694126,   41.11799094, ...,  -33.09039136,\n",
       "          -21.55137257,  -29.34610918],\n",
       "        [  -5.44467765,  -39.68507392,   74.9024355 , ...,   35.72195352,\n",
       "            0.80173073,   -2.74474484],\n",
       "        [   1.74672146,   -2.10456861,   -6.96638739, ...,   -5.61270973,\n",
       "            2.68484514,   -0.57362018]]),\n",
       " array([[   1.56891042,    2.51336527,   -0.65499565, ...,    1.61987403,\n",
       "           -7.76953981,   -1.58132915],\n",
       "        [ -46.62158872,  -49.06960957, -150.8233133 , ...,   -9.64711987,\n",
       "          -42.71872548,   69.50430354],\n",
       "        [ -49.02022958,  -38.24761097, -151.43178622, ...,  -90.31272857,\n",
       "          -63.24439481,  -21.55569358],\n",
       "        ...,\n",
       "        [  25.94093844,  100.67078286,  -41.1596076 , ...,  -55.88522718,\n",
       "         -118.51503906,   27.92282438],\n",
       "        [  23.21781297,   41.14878606,  -36.92480694, ...,  -30.45347832,\n",
       "         -108.95178047,   25.47829953],\n",
       "        [  -0.67069603,    3.2150755 ,   -5.00347288, ...,  -11.99495321,\n",
       "           -2.44306165,   -7.0116673 ]]),\n",
       " array([[ -1.24065931,  -1.31566594,   0.64875064, ...,   3.66080505,\n",
       "          -2.06635981,  -1.11972746],\n",
       "        [  7.63816679,  39.02133393, -65.9445745 , ..., -47.57757332,\n",
       "         -27.09036231, -13.92954286],\n",
       "        [  6.25741372,  31.96789433, -64.98339119, ..., -62.61436333,\n",
       "         -72.0808634 , -45.07071493],\n",
       "        ...,\n",
       "        [-42.02945675,  11.47102026,  42.4991566 , ...,  47.38245207,\n",
       "          75.03233979,  60.20385787],\n",
       "        [ -3.31292826,  38.77677945,  26.7789187 , ...,  42.74114206,\n",
       "         104.77044248,  76.10870779],\n",
       "        [  0.56087045,  -0.94283631,  -1.94763592, ...,   4.12553675,\n",
       "           8.53289232,   1.51375625]])]"
      ]
     },
     "execution_count": 22,
     "metadata": {},
     "output_type": "execute_result"
    }
   ],
   "source": [
    "pooled_subjects"
   ]
  },
  {
   "cell_type": "markdown",
   "metadata": {},
   "source": [
    "ROI-to-ROI correlations of ADHD patients\n",
    "----------------------------------------\n",
    "The simpler and most commonly used kind of connectivity is correlation. It\n",
    "models the full (marginal) connectivity between pairwise ROIs. We can\n",
    "estimate it using :class:`nilearn.connectome.ConnectivityMeasure`.\n",
    "\n"
   ]
  },
  {
   "cell_type": "code",
   "execution_count": null,
   "metadata": {
    "collapsed": false,
    "jupyter": {
     "outputs_hidden": false
    }
   },
   "outputs": [],
   "source": [
    "from nilearn.connectome import ConnectivityMeasure\n",
    "\n",
    "correlation_measure = ConnectivityMeasure(kind='correlation')"
   ]
  },
  {
   "cell_type": "markdown",
   "metadata": {},
   "source": [
    "From the list of ROIs time-series for ADHD subjects, the\n",
    "`correlation_measure` computes individual correlation matrices.\n",
    "\n"
   ]
  },
  {
   "cell_type": "code",
   "execution_count": null,
   "metadata": {
    "collapsed": false,
    "jupyter": {
     "outputs_hidden": false
    }
   },
   "outputs": [],
   "source": [
    "correlation_matrices = correlation_measure.fit_transform(adhd_subjects)\n",
    "\n",
    "# All individual coefficients are stacked in a unique 2D matrix.\n",
    "print('Correlations of ADHD patients are stacked in an array of shape {0}'\n",
    "      .format(correlation_matrices.shape))"
   ]
  },
  {
   "cell_type": "markdown",
   "metadata": {},
   "source": [
    "as well as the average correlation across all fitted subjects.\n",
    "\n"
   ]
  },
  {
   "cell_type": "code",
   "execution_count": null,
   "metadata": {
    "collapsed": false,
    "jupyter": {
     "outputs_hidden": false
    }
   },
   "outputs": [],
   "source": [
    "mean_correlation_matrix = correlation_measure.mean_\n",
    "print('Mean correlation has shape {0}.'.format(mean_correlation_matrix.shape))"
   ]
  },
  {
   "cell_type": "markdown",
   "metadata": {},
   "source": [
    "We display the connectomes of the first 3 ADHD subjects and the mean\n",
    "correlation matrix over all ADHD patients.\n",
    "\n"
   ]
  },
  {
   "cell_type": "code",
   "execution_count": null,
   "metadata": {
    "collapsed": false,
    "jupyter": {
     "outputs_hidden": false
    }
   },
   "outputs": [],
   "source": [
    "from nilearn import plotting\n",
    "\n",
    "plot_matrices(correlation_matrices[:4], 'correlation')\n",
    "plotting.plot_connectome(mean_correlation_matrix, msdl_coords,\n",
    "                         title='mean correlation over 13 ADHD subjects')"
   ]
  },
  {
   "cell_type": "markdown",
   "metadata": {},
   "source": [
    "Look at blocks structure, reflecting functional networks.\n",
    "\n"
   ]
  },
  {
   "cell_type": "markdown",
   "metadata": {},
   "source": [
    "Examine partial correlations\n",
    "----------------------------\n",
    "We can also study **direct connections**, revealed by partial correlation\n",
    "coefficients. We just change the `ConnectivityMeasure` kind\n",
    "\n"
   ]
  },
  {
   "cell_type": "code",
   "execution_count": null,
   "metadata": {
    "collapsed": false,
    "jupyter": {
     "outputs_hidden": false
    }
   },
   "outputs": [],
   "source": [
    "partial_correlation_measure = ConnectivityMeasure(kind='partial correlation')"
   ]
  },
  {
   "cell_type": "markdown",
   "metadata": {},
   "source": [
    "and repeat the previous operation.\n",
    "\n"
   ]
  },
  {
   "cell_type": "code",
   "execution_count": null,
   "metadata": {
    "collapsed": false,
    "jupyter": {
     "outputs_hidden": false
    }
   },
   "outputs": [],
   "source": [
    "partial_correlation_matrices = partial_correlation_measure.fit_transform(\n",
    "    adhd_subjects)"
   ]
  },
  {
   "cell_type": "markdown",
   "metadata": {},
   "source": [
    "Most of direct connections are weaker than full connections, resulting\n",
    "in a sparse mean connectome graph.\n",
    "\n"
   ]
  },
  {
   "cell_type": "code",
   "execution_count": null,
   "metadata": {
    "collapsed": false,
    "jupyter": {
     "outputs_hidden": false
    }
   },
   "outputs": [],
   "source": [
    "plot_matrices(partial_correlation_matrices[:4], 'partial')\n",
    "plotting.plot_connectome(\n",
    "    partial_correlation_measure.mean_, msdl_coords,\n",
    "    title='mean partial correlation over 13 ADHD subjects')"
   ]
  },
  {
   "cell_type": "markdown",
   "metadata": {},
   "source": [
    "Extract subjects variabilities around a robust group connectivity\n",
    "-----------------------------------------------------------------\n",
    "We can use **both** correlations and partial correlations to capture\n",
    "reproducible connectivity patterns at the group-level and build a **robust**\n",
    "**group connectivity matrix**. This is done by the **tangent** kind.\n",
    "\n"
   ]
  },
  {
   "cell_type": "code",
   "execution_count": null,
   "metadata": {
    "collapsed": false,
    "jupyter": {
     "outputs_hidden": false
    }
   },
   "outputs": [],
   "source": [
    "tangent_measure = ConnectivityMeasure(kind='tangent')"
   ]
  },
  {
   "cell_type": "markdown",
   "metadata": {},
   "source": [
    "We fit our ADHD group and get the group connectivity matrix stored as\n",
    "in `tangent_measure.mean_`, and individual deviation matrices of each subject\n",
    "from it.\n",
    "\n"
   ]
  },
  {
   "cell_type": "code",
   "execution_count": null,
   "metadata": {
    "collapsed": false,
    "jupyter": {
     "outputs_hidden": false
    }
   },
   "outputs": [],
   "source": [
    "tangent_matrices = tangent_measure.fit_transform(adhd_subjects)"
   ]
  },
  {
   "cell_type": "markdown",
   "metadata": {},
   "source": [
    "`tangent_matrices` model individual connectivities as\n",
    "**perturbations** of the group connectivity matrix `tangent_measure.mean_`.\n",
    "Keep in mind that these subjects-to-group variability matrices do not\n",
    "straight reflect individual brain connections. For instance negative\n",
    "coefficients can not be interpreted as anticorrelated regions.\n",
    "\n"
   ]
  },
  {
   "cell_type": "code",
   "execution_count": null,
   "metadata": {
    "collapsed": false,
    "jupyter": {
     "outputs_hidden": false
    }
   },
   "outputs": [],
   "source": [
    "plot_matrices(tangent_matrices[:4], 'tangent variability')\n",
    "plotting.plot_connectome(\n",
    "    tangent_measure.mean_, msdl_coords,\n",
    "    title='mean tangent connectivity over 13 ADHD subjects')"
   ]
  },
  {
   "cell_type": "markdown",
   "metadata": {},
   "source": [
    "The mean connectome graph is not as sparse as partial correlations graph,\n",
    "yet it is less dense than correlations graph.\n",
    "\n"
   ]
  },
  {
   "cell_type": "markdown",
   "metadata": {},
   "source": [
    "What kind of connectivity is most powerful for classification?\n",
    "--------------------------------------------------------------\n",
    "*ConnectivityMeasure* can output the estimated subjects coefficients\n",
    "as a 1D arrays through the parameter *vectorize*.\n",
    "\n"
   ]
  },
  {
   "cell_type": "code",
   "execution_count": null,
   "metadata": {
    "collapsed": false,
    "jupyter": {
     "outputs_hidden": false
    }
   },
   "outputs": [],
   "source": [
    "connectivity_biomarkers = {}\n",
    "kinds = ['correlation', 'partial correlation', 'tangent']\n",
    "for kind in kinds:\n",
    "    conn_measure = ConnectivityMeasure(kind=kind, vectorize=True)\n",
    "    connectivity_biomarkers[kind] = conn_measure.fit_transform(pooled_subjects)\n",
    "\n",
    "# For each kind, all individual coefficients are stacked in a unique 2D matrix.\n",
    "print('{0} correlation biomarkers for each subject.'.format(\n",
    "    connectivity_biomarkers['correlation'].shape[1]))"
   ]
  },
  {
   "cell_type": "markdown",
   "metadata": {},
   "source": [
    "Note that we use the **pooled groups**. This is crucial for **tangent** kind,\n",
    "to get the displacements from a **unique** `mean_` of all subjects.\n",
    "\n"
   ]
  },
  {
   "cell_type": "markdown",
   "metadata": {},
   "source": [
    "We stratify the dataset into homogeneous classes according to phenotypic\n",
    "and scan site. We then split the subjects into 3 folds with the same\n",
    "proportion of each class as in the whole cohort\n",
    "\n"
   ]
  },
  {
   "cell_type": "code",
   "execution_count": null,
   "metadata": {
    "collapsed": false,
    "jupyter": {
     "outputs_hidden": false
    }
   },
   "outputs": [],
   "source": [
    "from sklearn.model_selection import StratifiedKFold\n",
    "\n",
    "classes = ['{0}{1}'.format(site_name, adhd_label)\n",
    "           for site_name, adhd_label in zip(site_names, adhd_labels)]\n",
    "cv = StratifiedKFold(n_splits=3)"
   ]
  },
  {
   "cell_type": "markdown",
   "metadata": {},
   "source": [
    "and use the connectivity coefficients to classify ADHD patients vs controls.\n",
    "\n"
   ]
  },
  {
   "cell_type": "code",
   "execution_count": null,
   "metadata": {
    "collapsed": false,
    "jupyter": {
     "outputs_hidden": false
    }
   },
   "outputs": [],
   "source": [
    "# Note that in cv.split(X, y),\n",
    "# providing y is sufficient to generate the splits and\n",
    "# hence np.zeros(n_samples) may be used as a placeholder for X\n",
    "# instead of actual training data.\n",
    "from sklearn.svm import LinearSVC\n",
    "from sklearn.model_selection import cross_val_score\n",
    "\n",
    "mean_scores = []\n",
    "for kind in kinds:\n",
    "    svc = LinearSVC(random_state=0)\n",
    "    cv_scores = cross_val_score(svc,\n",
    "                                connectivity_biomarkers[kind],\n",
    "                                y=adhd_labels,\n",
    "                                cv=cv,\n",
    "                                groups=adhd_labels,\n",
    "                                scoring='accuracy',\n",
    "                                )\n",
    "    mean_scores.append(cv_scores.mean())"
   ]
  },
  {
   "cell_type": "markdown",
   "metadata": {},
   "source": [
    "Finally, we can display the classification scores.\n",
    "\n"
   ]
  },
  {
   "cell_type": "code",
   "execution_count": null,
   "metadata": {
    "collapsed": false,
    "jupyter": {
     "outputs_hidden": false
    }
   },
   "outputs": [],
   "source": [
    "from nilearn.plotting import show\n",
    "\n",
    "plt.figure(figsize=(6, 4))\n",
    "positions = np.arange(len(kinds)) * .1 + .1\n",
    "plt.barh(positions, mean_scores, align='center', height=.05)\n",
    "yticks = [kind.replace(' ', '\\n') for kind in kinds]\n",
    "plt.yticks(positions, yticks)\n",
    "plt.xlabel('Classification accuracy')\n",
    "plt.grid(True)\n",
    "plt.tight_layout()\n",
    "\n",
    "show()"
   ]
  }
 ],
 "metadata": {
  "kernelspec": {
   "display_name": "Python 3",
   "language": "python",
   "name": "python3"
  },
  "language_info": {
   "codemirror_mode": {
    "name": "ipython",
    "version": 3
   },
   "file_extension": ".py",
   "mimetype": "text/x-python",
   "name": "python",
   "nbconvert_exporter": "python",
   "pygments_lexer": "ipython3",
   "version": "3.6.9"
  }
 },
 "nbformat": 4,
 "nbformat_minor": 4
}
