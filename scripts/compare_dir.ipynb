{
 "cells": [
  {
   "cell_type": "code",
   "execution_count": null,
   "metadata": {},
   "outputs": [],
   "source": [
    "import glob, os\n",
    "\n",
    "dir1 = \"/projects/niblab/bids_projects/Experiments/Bevel/BIDS/sub-*\"\n",
    "dir2 = \"/projects/niblab/bids_projects/Experiments/Bevel/Nifti/sub-*\"\n",
    "dir3 = \"/projects/niblab/bids_projects/Experiments/Bevel/test/fmriprep/sub-*\"\n",
    "\n",
    "\n",
    "bids_subs = glob.glob(dir1)\n",
    "nifti_subs = glob.glob(dir2)\n",
    "fmriprep_subs = glob.glob(dir3)\n",
    "\n",
    "\n",
    "bids =[]\n",
    "nifti = []\n",
    "fmriprep = [] \n",
    "for file in bids_subs:\n",
    "    bids.append(file.split(\"/\")[-1])\n",
    "for file in nifti_subs:\n",
    "    nifti.append(file.split(\"/\")[-1])\n",
    "for file in fmriprep_subs:\n",
    "    fmriprep.append(file.split(\"/\")[-1])\n",
    "missing=[i for i in nifti if i not in fmriprep]"
   ]
  }
 ],
 "metadata": {
  "kernelspec": {
   "display_name": "Python 3",
   "language": "python",
   "name": "python3"
  },
  "language_info": {
   "codemirror_mode": {
    "name": "ipython",
    "version": 3
   },
   "file_extension": ".py",
   "mimetype": "text/x-python",
   "name": "python",
   "nbconvert_exporter": "python",
   "pygments_lexer": "ipython3",
   "version": "3.6.7"
  }
 },
 "nbformat": 4,
 "nbformat_minor": 2
}
