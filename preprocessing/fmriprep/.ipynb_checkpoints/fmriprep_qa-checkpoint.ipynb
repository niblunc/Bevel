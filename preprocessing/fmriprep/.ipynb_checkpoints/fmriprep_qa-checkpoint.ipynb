{
 "cells": [
  {
   "cell_type": "markdown",
   "metadata": {},
   "source": [
    "# Quality Analysis \n",
    "Target files: (sub-[1-90]/fmriprep/sub-[1-90]/anat/sub-*_T1w_space-MNI152NLin2009cAsym_preproc.nii.gz,  \n",
    "sub-[1-90]/fmriprep/sub-[1-90]/func/sub-*_task-prob_run-[1-4]_bold_space-MNI152NLin2009cAsym_preproc.nii.gz)\n"
   ]
  },
  {
   "cell_type": "code",
   "execution_count": null,
   "metadata": {},
   "outputs": [],
   "source": [
    "import glob, os\n",
    "\n",
    "BEVEL_DIR_PATH = \"/projects/niblab/bids_projects/Experiments/Bevel\"\n",
    "ANAT_FILES = glob.glob(os.path.join(BEVEL_DIR_PATH, \"fmriprep/sub-*\",\"fmriprep/sub-*/anat/sub-*_T1w_space-MNI152NLin2009cAsym_preproc.nii.gz\"))\n",
    "PROB_FILES = glob.glob(os.path.join(BEVEL_DIR_PATH, \"fmriprep/sub-*\",\"fmriprep/sub-*/anat/sub-*prob*_space-MNI152NLin2009cAsym_preproc.nii.gz\"))\n",
    "REST_FILES = glob.glob(os.path.join(BEVEL_DIR_PATH, \"fmriprep/sub-*\",\"fmriprep/sub-*/anat/sub-*rest*_space-MNI152NLin2009cAsym_preproc.nii.gz\"))\n"
   ]
  }
 ],
 "metadata": {
  "kernelspec": {
   "display_name": "Python 3",
   "language": "python",
   "name": "python3"
  },
  "language_info": {
   "codemirror_mode": {
    "name": "ipython",
    "version": 3
   },
   "file_extension": ".py",
   "mimetype": "text/x-python",
   "name": "python",
   "nbconvert_exporter": "python",
   "pygments_lexer": "ipython3",
   "version": "3.6.5"
  }
 },
 "nbformat": 4,
 "nbformat_minor": 2
}
