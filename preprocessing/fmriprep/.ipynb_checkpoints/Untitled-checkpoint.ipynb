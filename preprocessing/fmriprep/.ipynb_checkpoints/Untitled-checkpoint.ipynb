{
 "cells": [
  {
   "cell_type": "markdown",
   "metadata": {},
   "source": [
    "sinteractive -m \n",
    "singularity shell -B /projects/niblab/bids_projects:/base_dir Singularity_Containers/heudiconv_v2_2019.simg\n",
    "cd /base_dir\n",
    "fmriprep /home_dir/Experiments/Bevel/BIDS /home_dir/Experiments/Bevel/fmriprep2 participant --participant-label sub-001 --skip_bids_validation --fs-license-file /home_dir/freesurfer/license.txt --fs-no-reconall --omp-nthreads 16 --n_cpus 16 --bold2t1w-dof 12 --output-spaces MNI152Lin -w /home_dir/Experiments/Bevel/fmriprep2\n",
    " \n",
    " "
   ]
  },
  {
   "cell_type": "code",
   "execution_count": null,
   "metadata": {},
   "outputs": [],
   "source": []
  }
 ],
 "metadata": {
  "kernelspec": {
   "display_name": "Python 3",
   "language": "python",
   "name": "python3"
  },
  "language_info": {
   "codemirror_mode": {
    "name": "ipython",
    "version": 3
   },
   "file_extension": ".py",
   "mimetype": "text/x-python",
   "name": "python",
   "nbconvert_exporter": "python",
   "pygments_lexer": "ipython3",
   "version": "3.6.7"
  }
 },
 "nbformat": 4,
 "nbformat_minor": 2
}
