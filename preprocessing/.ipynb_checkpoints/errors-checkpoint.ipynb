{
 "cells": [
  {
   "cell_type": "markdown",
   "metadata": {},
   "source": [
    "# Errors"
   ]
  },
  {
   "cell_type": "markdown",
   "metadata": {},
   "source": [
    "Singularity> bids-validator --ignoreWarnings .  \n",
    "\n",
    "\t1: [ERR] 'IntendedFor' field needs to point to an existing file. (code: 37 - INTENDED_FOR)  \n",
    "\t\t./sub-001/fmap/sub-001_phasediff.nii.gz  \n",
    "\t\t\tEvidence: func/sub-001_task-prob_run-5_bold.nii.gz  \n",
    "\t\t./sub-002/fmap/sub-002_phasediff.nii.gz  \n",
    "\t\t\tEvidence: func/sub-002_task-prob_run-5_bold.nii.gz  \n",
    "\t\t./sub-003/fmap/sub-003_phasediff.nii.gz  \n",
    "\t\t\tEvidence: func/sub-003_task-prob_run-5_bold.nii.gz  \n",
    "\t\t./sub-004/fmap/sub-004_phasediff.nii.gz  \n",
    "\t\t\tEvidence: func/sub-004_task-prob_run-5_bold.nii.gz  \n",
    "\t\t./sub-006/fmap/sub-006_phasediff.nii.gz  \n",
    "\t\t\tEvidence: func/sub-006_task-prob_run-5_bold.nii.gz  \n",
    "\t\t./sub-007/fmap/sub-007_phasediff.nii.gz  \n",
    "\t\t\tEvidence: func/sub-007_task-prob_run-5_bold.nii.gz  \n",
    "\t\t./sub-008/fmap/sub-008_phasediff.nii.gz  \n",
    "\t\t\tEvidence: func/sub-008_task-prob_run-5_bold.nii.gz  \n",
    "\t\t./sub-009/fmap/sub-009_phasediff.nii.gz  \n",
    "\t\t\tEvidence: func/sub-009_task-prob_run-5_bold.nii.gz  \n",
    "\t\t./sub-010/fmap/sub-010_phasediff.nii.gz  \n",
    "\t\t\tEvidence: func/sub-010_task-prob_run-5_bold.nii.gz  \n",
    "\t\t./sub-012/fmap/sub-012_phasediff.nii.gz  \n",
    "\t\t\tEvidence: func/sub-012_task-prob_run-5_bold.nii.gz  \n",
    "\t\t... and 56 more files having this issue (Use --verbose to see them all).\n",
    "\n",
    "\tPlease visit https://neurostars.org/search?q=INTENDED_FOR for existing conversations about this issue.\n",
    "\n",
    "\t2: [ERR] The value of (EchoTime2 - EchoTime1) should be within the range of 0.0001 - 0.01. (code: 83 - ECHOTIME1_2_DIFFERENCE_UNREASONABLE)\n",
    "\t\t./sub-001/fmap/sub-001_phasediff.nii.gz\n",
    "\t\t./sub-002/fmap/sub-002_phasediff.nii.gz\n",
    "\t\t./sub-003/fmap/sub-003_phasediff.nii.gz\n",
    "\t\t./sub-004/fmap/sub-004_phasediff.nii.gz\n",
    "\t\t./sub-006/fmap/sub-006_phasediff.nii.gz\n",
    "\t\t./sub-007/fmap/sub-007_phasediff.nii.gz\n",
    "\t\t./sub-008/fmap/sub-008_phasediff.nii.gz\n",
    "\t\t./sub-009/fmap/sub-009_phasediff.nii.gz\n",
    "\t\t./sub-010/fmap/sub-010_phasediff.nii.gz\n",
    "\t\t./sub-011/fmap/sub-011_phasediff.nii.gz\n",
    "\t\t... and 74 more files having this issue (Use --verbose to see them all).\n",
    "\n",
    "\tPlease visit https://neurostars.org/search?q=ECHOTIME1_2_DIFFERENCE_UNREASONABLE for existing conversations about this issue.\n",
    "\n",
    "\n",
    "        Summary:                   Available Tasks:                     Available Modalities: \n",
    "        2067 Files, 16.75GB        prob                                 T1w                   \n",
    "        87 - Subjects              rest                                 bold                  \n",
    "        1 - Session                TODO: full task name for rest        events                \n",
    "                                   TODO: full task name for prob        fieldmap              \n",
    "\n",
    "\n",
    "\tIf you have any questions, please post on https://neurostars.org/tags/bids."
   ]
  },
  {
   "cell_type": "code",
   "execution_count": null,
   "metadata": {},
   "outputs": [],
   "source": []
  }
 ],
 "metadata": {
  "kernelspec": {
   "display_name": "Python 3",
   "language": "python",
   "name": "python3"
  },
  "language_info": {
   "codemirror_mode": {
    "name": "ipython",
    "version": 3
   },
   "file_extension": ".py",
   "mimetype": "text/x-python",
   "name": "python",
   "nbconvert_exporter": "python",
   "pygments_lexer": "ipython3",
   "version": "3.6.7"
  }
 },
 "nbformat": 4,
 "nbformat_minor": 2
}
