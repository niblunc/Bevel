{
 "cells": [
  {
   "cell_type": "code",
   "execution_count": null,
   "metadata": {},
   "outputs": [],
   "source": [
    "import tempfile  # make a temporary directory for files\n",
    "import os  # interact with the filesystem\n",
    "import urllib.request  # grad data from internet\n",
    "import tarfile  # extract files from tar\n",
    "from subprocess import Popen, PIPE, STDOUT  # enable calling commandline\n",
    "\n",
    "import matplotlib.pyplot as plt  # manipulate figures\n",
    "import seaborn as sns  # display results\n",
    "import pandas as pd   # manipulate tabular "
   ]
  },
  {
   "cell_type": "code",
   "execution_count": null,
   "metadata": {},
   "outputs": [],
   "source": [
    "\"\"\"https://github.com/ThomasYeoLab/CBIG/raw/master/stable_projects/\\\n",
    "brain_parcellation/Schaefer2018_LocalGlobal/Parcellations/MNI/\"\"\"\n",
    "data_dir = '/projects/niblab/bids_projects/Experiments/Bevel/testing_beta'\n",
    "print('Our working directory: {}'.format(data_dir))"
   ]
  },
  {
   "cell_type": "markdown",
   "metadata": {},
   "source": [
    "For tsvs will we need to tab seperate them, or rename to trial type?"
   ]
  },
  {
   "cell_type": "code",
   "execution_count": null,
   "metadata": {},
   "outputs": [],
   "source": [
    "events_file = '/projects/niblab/bids_projects/Experiments/Bevel/testing_beta/sub-001/func/sub-001_run01_task-pst_events.tsv'\n",
    "events_df = pd.read_csv(events_file, sep='\\t', na_values=\"n/a\")\n",
    "print(events_df.head()) \n",
    "\n",
    "events_df.rename({\"outcome\": \"trial_type\"}, axis='columns', inplace=True)\n",
    "print(events_df.head())\n",
    "\n",
    "events_df.to_csv(events_file, sep=\"\\t\", na_rep=\"n/a\", index=False)\n",
    "\n"
   ]
  },
  {
   "cell_type": "code",
   "execution_count": null,
   "metadata": {},
   "outputs": [],
   "source": [
    "atlas_txt = os.path.join(data_dir,\n",
    "                         \"ds000164\",\n",
    "                         \"derivatives\",\n",
    "                         \"data\",\n",
    "                         \"Schaefer2018_100Parcels_7Networks_order.txt\")\n",
    "atlas_df = pd.read_csv(atlas_txt, sep=\"\\t\", header=None)\n",
    "print(atlas_df.head())\n",
    "\n",
    "atlas_df.drop([2, 3, 4, 5], axis='columns', inplace=True)\n",
    "print(atlas_df.head())\n",
    "\n",
    "atlas_df.rename({0: 'index', 1: 'regions'}, axis='columns', inplace=True)\n",
    "print(atlas_df.head())\n",
    "\n",
    "\n",
    "atlas_df.replace(regex={'7Networks_(.*)': '\\\\1'}, inplace=True)\n",
    "print(atlas_df.head())\n",
    "\n",
    "atlas_tsv = atlas_txt.replace(\".txt\", \".tsv\")\n",
    "atlas_df.to_csv(atlas_tsv, sep=\"\\t\", index=False)\n"
   ]
  },
  {
   "cell_type": "code",
   "execution_count": null,
   "metadata": {},
   "outputs": [],
   "source": [
    "out_dir = os.path.join(data_dir, \"output\")\n",
    "work_dir = os.path.join(data_dir, \"work\")\n",
    "atlas_mni_file = os.path.join(data_dir,\n",
    "                              \"derivatives\",\n",
    "                              \"data\",\n",
    "                              \"Schaefer2018_100Parcels_7Networks_order_FSLMNI152_2mm.nii.gz\")\n",
    "cmd = \"\"\"\\\n",
    "nibs -c WhiteMatter CSF \\\n",
    "-w {work_dir} \\\n",
    "-a {atlas_mni_file} \\\n",
    "-l {atlas_tsv} \\\n",
    "{bids_dir} \\\n",
    "fmriprep \\\n",
    "{out_dir} \\\n",
    "participant\n",
    "\"\"\".format(atlas_mni_file=atlas_mni_file,\n",
    "           atlas_tsv=atlas_tsv,\n",
    "           bids_dir=os.path.join(data_dir),\n",
    "           out_dir=out_dir,\n",
    "           work_dir=work_dir)\n",
    "\n",
    "# Since we cannot run bash commands inside this tutorial\n",
    "# we are printing the actual bash command so you can see it\n",
    "# in the output\n",
    "print(\"The Example Command:\\n\", cmd)\n",
    "\n",
    "# call nibs\n",
    "p = Popen(cmd, shell=True, stdout=PIPE, stderr=STDOUT)\n",
    "\n",
    "while True:\n",
    "    line = p.stdout.readline()\n",
    "    if not line:\n",
    "        break\n",
    "    print(line)"
   ]
  }
 ],
 "metadata": {
  "kernelspec": {
   "display_name": "Python 3",
   "language": "python",
   "name": "python3"
  },
  "language_info": {
   "codemirror_mode": {
    "name": "ipython",
    "version": 3
   },
   "file_extension": ".py",
   "mimetype": "text/x-python",
   "name": "python",
   "nbconvert_exporter": "python",
   "pygments_lexer": "ipython3",
   "version": "3.6.5"
  }
 },
 "nbformat": 4,
 "nbformat_minor": 2
}
