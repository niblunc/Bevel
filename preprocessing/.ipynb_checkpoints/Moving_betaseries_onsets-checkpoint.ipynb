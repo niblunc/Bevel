{
 "cells": [
  {
   "cell_type": "code",
   "execution_count": null,
   "metadata": {},
   "outputs": [],
   "source": [
    "import os, glob\n",
    "import shutil\n",
    "\n",
    "main_dir = \"/projects/niblab/bids_projects/Experiments/Bevel\"\n",
    "onset_path = os.path.join(main_dir, \"onsets/events_tsvfiles_nibetaseries\")\n",
    "bids_path = os.path.join(main_dir, \"BIDS\")\n",
    "subjects = glob.glob(os.path.join(bids_path, \"sub-*\"))\n",
    "\n",
    "for sub_dir in sorted(subjects):\n",
    "    sub_id = sub_dir.split(\"/\")[-1]\n",
    "    print(sub_id)\n",
    "    onsets=glob.glob(os.path.join(onset_path, \"%s*.tsv\"%sub_id))\n",
    "    print(onsets)"
   ]
  }
 ],
 "metadata": {
  "kernelspec": {
   "display_name": "Python 3",
   "language": "python",
   "name": "python3"
  },
  "language_info": {
   "codemirror_mode": {
    "name": "ipython",
    "version": 3
   },
   "file_extension": ".py",
   "mimetype": "text/x-python",
   "name": "python",
   "nbconvert_exporter": "python",
   "pygments_lexer": "ipython3",
   "version": "3.6.5"
  }
 },
 "nbformat": 4,
 "nbformat_minor": 2
}
