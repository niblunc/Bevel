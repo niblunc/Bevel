{
 "cells": [
  {
   "cell_type": "code",
   "execution_count": null,
   "metadata": {},
   "outputs": [],
   "source": [
    "['sub-003', 'sub-008', 'sub-011', 'sub-012', 'sub-013', 'sub-014', 'sub-016', 'sub-017', 'sub-018',\n",
    " 'sub-019', 'sub-020', 'sub-023', 'sub-024', 'sub-025', 'sub-033', 'sub-035', 'sub-037', 'sub-038', 'sub-048', \n",
    " 'sub-052', 'sub-063', 'sub-065', 'sub-074', 'sub-076', 'sub-083', 'sub-084', 'sub-085', 'sub-086', 'sub-088', 'sub-090', 'sub-093',\n",
    " 'sub-095', 'sub-097', 'sub-098', 'sub-099', 'sub-100', 'sub-102', 'sub-103', 'sub-104', 'sub-107', 'sub-108', 'sub-109', 'sub-111', 'sub-114',\n",
    " 'sub-115', 'sub-116', 'sub-117', 'sub-118', 'sub-120', 'sub-123', 'sub-130', 'sub-133', 'sub-134', 'sub-140', 'sub-143', 'sub-144', 'sub-145', 'sub-146',\n",
    " 'sub-147', 'sub-159']\n",
    "import glob, os, json \n",
    "# edit \"ses-X\" in subjects path for sessions to edit \n",
    "subjects = sorted(glob.glob('/projects/niblab/bids_projects/Experiments/Bevel/BIDS/sub-*'))\n",
    "for subDir in sorted(subjects):\n",
    "    #initiate the data dictionary\n",
    "    new_data = {\"IntendedFor\" : []}\n",
    "    #grab all the functionals for the subject\n",
    "    funcs=glob.glob(os.path.join(subDir, \"func/*.nii.gz\"))\n",
    "    #fill in our data dictionary with the functionals\n",
    "    for func in funcs:\n",
    "        x = func.split(\"/\")[-1]\n",
    "        x = os.path.join(\"func\",x)\n",
    "        new_data[\"IntendedFor\"].append(x)\n",
    "    #get the json files we need to append data to\n",
    "    jsons=glob.glob(os.path.join(subDir, \"fmap/*.json\"))\n",
    "    #loop through jsons and edit each file\n",
    "    for j in jsons:\n",
    "        #print(new_data)\n",
    "        #open the json file\n",
    "        try:\n",
    "            with open(j) as f:\n",
    "                data = json.load(f)\n",
    "        #update the data file with our new data\n",
    "            data.update(new_data)\n",
    "        #add the new update to the json file\n",
    "            with open(j, 'w') as f:\n",
    "                json.dump(data, f, indent=2)\n",
    "        except:\n",
    "            print(\"CANT EDIT FILE \", j)           \n",
    "        "
   ]
  }
 ],
 "metadata": {
  "kernelspec": {
   "display_name": "Python 3",
   "language": "python",
   "name": "python3"
  },
  "language_info": {
   "codemirror_mode": {
    "name": "ipython",
    "version": 3
   },
   "file_extension": ".py",
   "mimetype": "text/x-python",
   "name": "python",
   "nbconvert_exporter": "python",
   "pygments_lexer": "ipython3",
   "version": "3.6.7"
  },
  "pycharm": {
   "stem_cell": {
    "cell_type": "raw",
    "source": [],
    "metadata": {
     "collapsed": false
    }
   }
  }
 },
 "nbformat": 4,
 "nbformat_minor": 2
}