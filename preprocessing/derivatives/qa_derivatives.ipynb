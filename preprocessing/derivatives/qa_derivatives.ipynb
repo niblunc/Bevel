{
 "cells": [
  {
   "cell_type": "code",
   "execution_count": 1,
   "metadata": {},
   "outputs": [],
   "source": [
    "import glob, os\n",
    "\n",
    "deriv_path = '/projects/niblab/bids_projects/Experiments/Bevel/derivatives'\n",
    "qa_dict = {}\n",
    "anats = []\n",
    "runs = []\n",
    "rests = []\n",
    "\n",
    "qa_dict[\"SUBJECT_COUNT\"] = len(glob.glob(os.path.join(deriv_path,\"sub-*\")))\n",
    "\n",
    "for sub_dir in glob.glob(os.path.join(deriv_path,\"sub-*\")):\n",
    "    sub_id = sub_dir.split(\"/\")[-1]\n",
    "    anat_file = glob.glob(os.path.join(sub_dir, \"anat/*\"))\n",
    "    if not anat_file:\n",
    "        anats.append(sub_id)\n",
    "    run = glob.glob(os.path.join(sub_dir, \"func/*run*preproc_brain.nii.gz\"))\n",
    "    if len(run) != 4:\n",
    "        runs.append(sub_id)\n",
    "    rest = glob.glob(os.path.join(sub_dir, \"func/*rest*preproc_brain.nii.gz\"))\n",
    "    if not rest:\n",
    "        rests.append(sub_id)\n"
   ]
  },
  {
   "cell_type": "code",
   "execution_count": null,
   "metadata": {},
   "outputs": [],
   "source": []
  }
 ],
 "metadata": {
  "kernelspec": {
   "display_name": "Python 3",
   "language": "python",
   "name": "python3"
  },
  "language_info": {
   "codemirror_mode": {
    "name": "ipython",
    "version": 3
   },
   "file_extension": ".py",
   "mimetype": "text/x-python",
   "name": "python",
   "nbconvert_exporter": "python",
   "pygments_lexer": "ipython3",
   "version": "3.6.7"
  }
 },
 "nbformat": 4,
 "nbformat_minor": 2
}
