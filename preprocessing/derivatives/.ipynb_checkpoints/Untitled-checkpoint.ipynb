{
 "cells": [
  {
   "cell_type": "markdown",
   "metadata": {},
   "source": [
    "# Set up derivatives/ directory"
   ]
  },
  {
   "cell_type": "code",
   "execution_count": 1,
   "metadata": {},
   "outputs": [],
   "source": [
    "import glob, os, shutil\n",
    "\n",
    "#INPUT DIRECTORY\n",
    "INPUT_PATH = \"/projects/niblab/bids_projects/Experiments/Bevel\"\n",
    "DERIV_PATH = os.path.join(INPUT_PATH, 'derivatives')\n",
    "\n",
    "if not os.path.exists(DERIV_PATH):\n",
    "    os.makedirs(DERIV_PATH)\n",
    "\n",
    "# get subjects from fmriprep\n",
    "SUBJECTS = []\n",
    "FMRIPREP_PATH = os.path.join(INPUT_PATH, 'fmriprep')\n",
    "FMRIPREP_DIR = glob.glob(os.path.join(FMRIPREP_PATHl, \"sub-*\")))\n",
    "for sub_dir in sorted(FMRIPREP_DIR):\n",
    "    sub_id = sub_dir.split(\"/\")[-1]\n",
    "    SUBJECTS.append(sub_dir)\n",
    "    \n",
    "# make the directories inside in the derivatives folders\n",
    "for sub_id in SUBJECTS:\n",
    "    sub_dir = os.path.join(DERIV_PATH, sub_dir)\n",
    "    anat_dir = os.path.join(sub_dir, \"anat\")\n",
    "    func_dir = os.path.join(sub_dir, \"func\")\n",
    "    ana_dir = os.path.join(func_dir, \"Analysis\")\n",
    "    onset_dir = os.path.join(func_dir, \"onsets\")\n",
    "    mot_dir = os.path.join(func_dir, \"motion_assessment/motion_parameters\")\n",
    "    \n",
    "    if not os.path.exists(sub_dir):\n",
    "        os.makedirs(sub_dir)\n",
    "    if not os.path.exists(anat_dir):\n",
    "        os.makedirs(anat_dir)\n",
    "    if not os.path.exists(func_dir):\n",
    "        os.makedirs(func_dir)\n",
    "    if not os.path.exists(ana_dir):\n",
    "        os.makedirs(ana_dir)\n",
    "    if not os.path.exists(onset_dir):\n",
    "        os.makedirs(onset_dir)\n",
    "    if not os.path.exists(mot_dir):\n",
    "        os.makedirs(mot_dir)\n",
    " \n",
    "\n",
    "        \n",
    "    \n"
   ]
  }
 ],
 "metadata": {
  "kernelspec": {
   "display_name": "Python 3",
   "language": "python",
   "name": "python3"
  },
  "language_info": {
   "codemirror_mode": {
    "name": "ipython",
    "version": 3
   },
   "file_extension": ".py",
   "mimetype": "text/x-python",
   "name": "python",
   "nbconvert_exporter": "python",
   "pygments_lexer": "ipython3",
   "version": "3.6.7"
  }
 },
 "nbformat": 4,
 "nbformat_minor": 2
}
