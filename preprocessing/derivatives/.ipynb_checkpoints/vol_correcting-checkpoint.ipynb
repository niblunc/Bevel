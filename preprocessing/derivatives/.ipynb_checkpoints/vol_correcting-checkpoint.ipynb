{
 "cells": [
  {
   "cell_type": "code",
   "execution_count": null,
   "metadata": {},
   "outputs": [],
   "source": [
    "import glob,os\n",
    "\n",
    "\n",
    "# GET DIRECTORIES MISSING COPE DIRECTORIES\n",
    "missing = []\n",
    "completed = [] \n",
    "base = '/projects/niblab/bids_projects/Experiments/Bevel'\n",
    "for b in sorted(glob.glob(os.path.join(base, \"derivatives/sub-*\"))):\n",
    "    id_ = b.split(\"/\")[-1]\n",
    "    dirs_ = glob.glob(os.path.join(b, \"func/Analysis/feat2/*.gfeat/cope*.feat\"))\n",
    "    if not dirs_:\n",
    "        print(\"No cope directories found for .....\", id_)\n",
    "        missing.append(id_)\n",
    "    else:\n",
    "        completed.append(id_)"
   ]
  },
  {
   "cell_type": "code",
   "execution_count": null,
   "metadata": {},
   "outputs": [],
   "source": [
    "import subprocess\n",
    "for id_ in missing:\n",
    "    print(\"SUBJECT ANA: \", id_)\n",
    "    niftis = glob.glob(os.path.join(base, \"Nifti/%s/func/*run-*.nii.gz\"%id_))\n",
    "    fmris = glob.glob(os.path.join(base, \"fmriprep/%s/func/*run-*_bold_space-MNI152NLin2009cAsym_preproc.nii.gz\"%id_))\n",
    "    for n in niftis:\n",
    "        run_id = n.split(\"/\")[-1].split(\"_\")[2]\n",
    "        vol_count = int(subprocess.check_output(['fslnvols', n]))\n",
    "        if vol_count != 199:\n",
    "            print(\"bad vols....\", id_)\n",
    "            print(run_id, vol_count)\n",
    "        if (\"5\" or \"6\") in run_id:\n",
    "            print(\"extra scans\")\n",
    "        elif len(niftis) < 4: \n",
    "            print(\"missing scans\")\n",
    "        \n",
    "        \n",
    "        "
   ]
  },
  {
   "cell_type": "code",
   "execution_count": null,
   "metadata": {},
   "outputs": [],
   "source": []
  }
 ],
 "metadata": {
  "kernelspec": {
   "display_name": "Python 3",
   "language": "python",
   "name": "python3"
  },
  "language_info": {
   "codemirror_mode": {
    "name": "ipython",
    "version": 3
   },
   "file_extension": ".py",
   "mimetype": "text/x-python",
   "name": "python",
   "nbconvert_exporter": "python",
   "pygments_lexer": "ipython3",
   "version": "3.6.7"
  }
 },
 "nbformat": 4,
 "nbformat_minor": 2
}
