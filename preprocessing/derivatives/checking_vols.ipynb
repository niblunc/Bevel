{
 "cells": [
  {
   "cell_type": "code",
   "execution_count": null,
   "metadata": {},
   "outputs": [],
   "source": [
    "# setting up and checking vols\n",
    "import glob, os\n",
    "import subprocess\n",
    "\n",
    "qa_dict = {}\n",
    "\n",
    "\n",
    "\n",
    "# Check FMRIRPEP\n",
    "subjs = glob.glob('/projects/niblab/bids_projects/Experiments/Bevel/fmriprep/sub-*')\n",
    "for sub in subjs:\n",
    "    fs = glob.glob(os.path.join(sub, \"func/*_preproc.nii.gz\"))\n",
    "    for x in fs:\n",
    "        #print(x)\n",
    "        # test case \n",
    "        if \"run-5\" in x.split(\"/\")[-1].split(\"_\"):\n",
    "            #print(x)\n",
    "            if not sub in qa_dict:\n",
    "                qa_dict[sub] = {}\n",
    "            y = glob.glob(os.path.join(sub, \"func\", \"*nii.gz\"))\n",
    "            for n in y:\n",
    "               # if \"rest\" in n.split(\"/\")[-1].split(\"_\"):\n",
    "                #### VOLUME PARAMETER \n",
    "                vol = int(subprocess.check_output(['fslnvols', n]))\n",
    "                vol_count = int(subprocess.check_output(['fslnvols', n]))  \n",
    "                if \"rest\" in n.split(\"/\")[-1].split(\"_\")[1]:\n",
    "                    print(\"File: \", n)\n",
    "                    print(\"REST COUNT:\",vol)\n",
    "                else:\n",
    "                    if vol != 199:\n",
    "                        print(\"FILE NAME:\", n)\n",
    "                        print(\"RUN COUNTS: \" ,vol)\n",
    "            ### Fill in dictionary\n",
    "            #qa_dict[sub][\"FMRIPREP\"]\n",
    "            "
   ]
  },
  {
   "cell_type": "code",
   "execution_count": null,
   "metadata": {},
   "outputs": [],
   "source": []
  }
 ],
 "metadata": {
  "kernelspec": {
   "display_name": "Python 3",
   "language": "python",
   "name": "python3"
  },
  "language_info": {
   "codemirror_mode": {
    "name": "ipython",
    "version": 3
   },
   "file_extension": ".py",
   "mimetype": "text/x-python",
   "name": "python",
   "nbconvert_exporter": "python",
   "pygments_lexer": "ipython3",
   "version": "3.6.7"
  }
 },
 "nbformat": 4,
 "nbformat_minor": 2
}
