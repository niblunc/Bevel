{
 "cells": [
  {
   "cell_type": "code",
   "execution_count": 1,
   "metadata": {},
   "outputs": [],
   "source": [
    "## Derivatives setup \n",
    "import glob, os \n",
    "from shutil import copy2\n"
   ]
  },
  {
   "cell_type": "code",
   "execution_count": null,
   "metadata": {},
   "outputs": [],
   "source": [
    "base_dir = '/projects/niblab/bids_projects/Experiments/Bevel'\n",
    "fmriprep_path = os.path.join(base_dir, \"lin_fmri/fmriprep\")\n",
    "deriv_path = os.path.join(base_dir, \"testing_lin/derivatives\")\n",
    "subjects = [x for x in glob.glob(os.path.join(fmriprep_path, \"sub-00*\")) if \"html\" not in x]\n",
    "print(subjects)\n",
    "\n",
    "for sub_dir in sorted(subjects):\n",
    "    sub_id = sub_dir.split(\"/\")[-1]\n",
    "    sub_path = os.path.join(deriv_path, sub_id )\n",
    "    anat_path = os.path.join(sub_path, \"anat\")\n",
    "    func_path = os.path.join(sub_path, \"func\")\n",
    "    onset_path = os.path.join(func_path, \"onsets\")\n",
    "    motion_path = os.path.join(func_path, \"motion_assessment\")\n",
    "    print(sub_id, sub_path)\n",
    "    if not os.path.exists(sub_path): \n",
    "        os.makedirs(sub_path)\n",
    "    if not os.path.exists(anat_path): \n",
    "        os.makedirs(anat_path)\n",
    "    if not os.path.exists(func_path): \n",
    "        os.makedirs(func_path)\n",
    "    if not os.path.exists(onset_path): \n",
    "        os.makedirs(onset_path)\n",
    "    if not os.path.exists(motion_path): \n",
    "        os.makedirs(motion_path)\n",
    "        "
   ]
  },
  {
   "cell_type": "code",
   "execution_count": null,
   "metadata": {},
   "outputs": [],
   "source": []
  }
 ],
 "metadata": {
  "kernelspec": {
   "display_name": "Python 3",
   "language": "python",
   "name": "python3"
  },
  "language_info": {
   "codemirror_mode": {
    "name": "ipython",
    "version": 3
   },
   "file_extension": ".py",
   "mimetype": "text/x-python",
   "name": "python",
   "nbconvert_exporter": "python",
   "pygments_lexer": "ipython3",
   "version": "3.6.7"
  }
 },
 "nbformat": 4,
 "nbformat_minor": 2
}
