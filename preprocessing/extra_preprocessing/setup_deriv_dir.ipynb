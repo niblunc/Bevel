{
 "cells": [
  {
   "cell_type": "code",
   "execution_count": null,
   "metadata": {},
   "outputs": [],
   "source": [
    "## Derivatives setup \n",
    "import glob, os \n",
    "from shutil import copy2"
   ]
  },
  {
   "cell_type": "code",
   "execution_count": null,
   "metadata": {},
   "outputs": [],
   "source": [
    "\n",
    "\n",
    "basedir = '/projects/niblab/bids_projects/Experiments/Bevel'\n",
    "fprepdir = os.path.join(basedir, \"fmriprep\")\n",
    "derivdir= os.path.join(basedir, \"derivatives\")\n",
    "SUBJECTS = []\n",
    "for sub_dir in sorted(glob.glob(os.path.join(fprepdir, \"sub-00*\"))):\n",
    "    sub_id = sub_dir.split(\"/\")[-1]\n",
    "    SUBJECTS.append(sub_id)\n",
    "\n",
    "# get anat \n",
    "#~/Bevel/fmriprep/sub-001/fmriprep/sub-001/anat\n",
    "#sub-069_T1w_space-MNI152NLin2009cAsym_preproc.nii.gz\n",
    "for sub_id in SUBJECTS:\n",
    "    anat_file = os.path.join(fprepdir, sub_id, \"fmriprep/%s/anat/%s_T1w_space-MNI152NLin2009cAsym_preproc.nii.gz\"%(sub_id, sub_id))\n",
    "    print(anat_file)\n",
    "    deriv_path = os.path.join(derivdir, sub_id, \"anat\")\n",
    "    func_path = os.path.join(derivdir, sub_id, \"func\")\n",
    "    if os.path.exists(func_path):\n",
    "        pass\n",
    "    else:\n",
    "        os.makedirs(func_path)\n",
    "    if os.path.exists(deriv_path):\n",
    "        pass\n",
    "    else:\n",
    "        os.makedirs(deriv_path)\n",
    "    try:\n",
    "        copy2(anat_file, deriv_path)\n",
    "        print(\"COPYING FILE %s >>>-------> %s\"%(anat_file, deriv_path))\n",
    "    except:\n",
    "        print(\"******%s has no files\"%sub_id)\n",
    "        \n",
    "    #rename anat file\n",
    "    org_file = os.path.join(derivdir, sub_id, \"anat/%s_T1w_space-MNI152NLin2009cAsym_preproc.nii.gz\"%(sub_id))\n",
    "    new_file = os.path.join(derivdir, sub_id, \"anat/highres.nii.gz\")\n",
    "    try:\n",
    "        os.rename(org_file, new_file )\n",
    "    except:\n",
    "        pass\n"
   ]
  },
  {
   "cell_type": "code",
   "execution_count": null,
   "metadata": {},
   "outputs": [],
   "source": [
    "\n",
    "deriv_path = '/projects/niblab/bids_projects/Experiments/Bevel/derivatives'\n",
    "\n",
    "subjects=[x for x in glob.glob(os.path.join(fmriprep_path, \"sub-*\")) if \"html\" not in x]\n",
    "\n",
    "\n",
    "for sub_dir in subjects:\n",
    "    sub_id = sub_dir.split(\"/\")[-1]\n",
    "    deriv_sub_path = os.path.join(deriv_path, sub_id)\n",
    "    print(deriv_sub_path)\n",
    "    if not os.path.exists(deriv_sub_path):\n",
    "        os.makedirs(deriv_sub_path)\n",
    "    anat = os.path.join(sub_dir, \"anat\", \"%s_space-MNI152Lin_desc-preproc_T1w.nii.gz\"%sub_id)\n",
    "    anat_path = os.path.join(deriv_sub_path, \"anat\")\n",
    "    func_path = os.path.join(deriv_sub_path, \"func\")\n",
    "   #print(anat_path)\n",
    "    if not os.path.exists(anat_path):\n",
    "        os.makedirs(anat_path)\n",
    "    if not os.path.exists(func_path):\n",
    "        os.makedirs(func_path)\n",
    "    print(\"> Copying anat file to directory\")\n",
    "    copy2(anat, anat_path)\n",
    "    func_files = glob.glob(os.path.join(sub_dir, \"func\", \"*desc-preproc_bold.nii.gz\"))\n",
    "    for func in func_files:\n",
    "        print(\"> Copying func file\")\n",
    "        copy2(func, func_path)\n",
    "        \n",
    "    "
   ]
  }
 ],
 "metadata": {
  "kernelspec": {
   "display_name": "Python 3",
   "language": "python",
   "name": "python3"
  },
  "language_info": {
   "codemirror_mode": {
    "name": "ipython",
    "version": 3
   },
   "file_extension": ".py",
   "mimetype": "text/x-python",
   "name": "python",
   "nbconvert_exporter": "python",
   "pygments_lexer": "ipython3",
   "version": "3.6.5"
  }
 },
 "nbformat": 4,
 "nbformat_minor": 2
}
