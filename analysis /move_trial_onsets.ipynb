{
 "cells": [
  {
   "cell_type": "markdown",
   "metadata": {},
   "source": [
    "# Moving trial onset files into derivatives"
   ]
  },
  {
   "cell_type": "code",
   "execution_count": null,
   "metadata": {},
   "outputs": [],
   "source": [
    "import glob, os\n",
    "from shutil import copy2\n",
    "\n",
    "BEVEL_DIR_PATH = \"/projects/niblab/bids_projects/Experiments/Bevel\"\n",
    "SUBJECTS = sorted(glob.glob(os.path.join(BEVEL_DIR_PATH, \"derivatives/sub-*\")))\n",
    "for sub_dir in SUBJECTS:\n",
    "    sub_id = sub_dir.split(\"/\")[-1].split(\"-\")[1]\n",
    "    _id = sub_id[1:]\n",
    "    new_dest = os.path.join(sub_dir, \"func/onsets\")\n",
    "    onsets = glob.glob(os.path.join(BEVEL_DIR_PATH, \"onsets/betaseries/bevel%s*.txt\"%_id))\n",
    "    for onset in onsets:\n",
    "        print(\"copying %s >>>----> %s\"%(onset, new_dest))\n",
    "        copy2(onset, new_dest)\n",
    "    \n",
    "    "
   ]
  },
  {
   "cell_type": "code",
   "execution_count": null,
   "metadata": {},
   "outputs": [],
   "source": []
  }
 ],
 "metadata": {
  "kernelspec": {
   "display_name": "Python 3",
   "language": "python",
   "name": "python3"
  },
  "language_info": {
   "codemirror_mode": {
    "name": "ipython",
    "version": 3
   },
   "file_extension": ".py",
   "mimetype": "text/x-python",
   "name": "python",
   "nbconvert_exporter": "python",
   "pygments_lexer": "ipython3",
   "version": "3.6.5"
  }
 },
 "nbformat": 4,
 "nbformat_minor": 2
}
